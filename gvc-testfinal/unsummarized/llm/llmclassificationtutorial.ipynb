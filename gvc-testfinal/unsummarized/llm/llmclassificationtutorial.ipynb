{
 "cells": [
  {
   "cell_type": "markdown",
   "metadata": {},
   "source": [
    "### Note \n",
    "You will have to run this notebook twice. One for Support and the Other for Opposition\n"
   ]
  },
  {
   "cell_type": "code",
   "execution_count": 1,
   "metadata": {},
   "outputs": [
    {
     "data": {
      "text/plain": [
       "True"
      ]
     },
     "execution_count": 1,
     "metadata": {},
     "output_type": "execute_result"
    }
   ],
   "source": [
    "from datasets import Dataset , load_dataset, DatasetDict\n",
    "import pandas as pd\n",
    "from transformers import AutoTokenizer\n",
    "from transformers import DataCollatorWithPadding , AutoTokenizer\n",
    "from transformers import AutoModelForSequenceClassification , TrainingArguments , AutoConfig\n",
    "from peft import get_peft_model, LoraConfig, TaskType\n",
    "import torch\n",
    "import torch.nn.functional as f\n",
    "import evaluate\n",
    "import numpy as np\n",
    "import os\n",
    "from torch.utils.data import DataLoader\n",
    "import evaluate\n",
    "import evaluate\n",
    "import time\n",
    "import wandb\n",
    "import random \n",
    "from transformers import TrainingArguments, Trainer , AutoModelForSequenceClassification\n",
    "\n",
    "from datasets import Features , ClassLabel, Value, Sequence\n",
    "\n",
    "roberta_checkpoint = \"roberta-large\"\n",
    "\n",
    "mistral_checkpoint = \"mistralai/Mistral-7B-v0.1\"\n",
    "bert_checkpoint = \"bert-base-uncased\"\n",
    "\n",
    "llama_checkpoint = \"meta-llama/Llama-2-7b-hf\"\n",
    "MAX_LEN = 512 \n",
    "device = torch.device(\"cuda:1\" if torch.cuda.is_available() else \"cpu\")\n",
    "torch.distributed.is_available()"
   ]
  },
  {
   "cell_type": "markdown",
   "metadata": {},
   "source": [
    "### Dataset and Functions\n",
    "\n",
    "In this tab retrive the dataset relevant for the experiment.\n",
    "You only have to run the cell below once.\n",
    "It is important know that the cell below produces two types of dataframes, \"support\" and \"opposition\".\n",
    "\n",
    "\n",
    "This tab also contains most of the functinos used in this Notebook"
   ]
  },
  {
   "cell_type": "code",
   "execution_count": 2,
   "metadata": {},
   "outputs": [
    {
     "data": {
      "text/html": [
       "<div>\n",
       "<style scoped>\n",
       "    .dataframe tbody tr th:only-of-type {\n",
       "        vertical-align: middle;\n",
       "    }\n",
       "\n",
       "    .dataframe tbody tr th {\n",
       "        vertical-align: top;\n",
       "    }\n",
       "\n",
       "    .dataframe thead th {\n",
       "        text-align: right;\n",
       "    }\n",
       "</style>\n",
       "<table border=\"1\" class=\"dataframe\">\n",
       "  <thead>\n",
       "    <tr style=\"text-align: right;\">\n",
       "      <th></th>\n",
       "      <th>prompt</th>\n",
       "      <th>completion</th>\n",
       "      <th>brief_type</th>\n",
       "      <th>data_type</th>\n",
       "      <th>file_path</th>\n",
       "      <th>file_name</th>\n",
       "      <th>labels</th>\n",
       "    </tr>\n",
       "  </thead>\n",
       "  <tbody>\n",
       "    <tr>\n",
       "      <th>0</th>\n",
       "      <td>CLRB Hanson Industries, LLC et al v. Google In...</td>\n",
       "      <td>deny</td>\n",
       "      <td>support</td>\n",
       "      <td>test</td>\n",
       "      <td>456</td>\n",
       "      <td>gov.uscourts.cand.34465.234.0.txt</td>\n",
       "      <td>0</td>\n",
       "    </tr>\n",
       "    <tr>\n",
       "      <th>1</th>\n",
       "      <td>CLRB Hanson Industries, LLC et al v. Google In...</td>\n",
       "      <td>deny</td>\n",
       "      <td>opposition</td>\n",
       "      <td>test</td>\n",
       "      <td>456</td>\n",
       "      <td>gov.uscourts.cand.34465.288.0.txt</td>\n",
       "      <td>0</td>\n",
       "    </tr>\n",
       "    <tr>\n",
       "      <th>2</th>\n",
       "      <td>Case 1:08-cv-06978-TPG Document 586 Filed 07/1...</td>\n",
       "      <td>deny</td>\n",
       "      <td>support</td>\n",
       "      <td>train</td>\n",
       "      <td>895</td>\n",
       "      <td>gov.uscourts.nysd.330523.586.0.txt</td>\n",
       "      <td>0</td>\n",
       "    </tr>\n",
       "    <tr>\n",
       "      <th>3</th>\n",
       "      <td>Case 1:08-cv-06978-TPG Document 585 Filed 07/1...</td>\n",
       "      <td>deny</td>\n",
       "      <td>support</td>\n",
       "      <td>train</td>\n",
       "      <td>895</td>\n",
       "      <td>gov.uscourts.nysd.330523.585.0.txt</td>\n",
       "      <td>0</td>\n",
       "    </tr>\n",
       "    <tr>\n",
       "      <th>4</th>\n",
       "      <td>Case 1:08-cv-06978-TPG Document 591 Filed 07/1...</td>\n",
       "      <td>deny</td>\n",
       "      <td>opposition</td>\n",
       "      <td>train</td>\n",
       "      <td>895</td>\n",
       "      <td>gov.uscourts.nysd.330523.591.0.txt</td>\n",
       "      <td>0</td>\n",
       "    </tr>\n",
       "    <tr>\n",
       "      <th>...</th>\n",
       "      <td>...</td>\n",
       "      <td>...</td>\n",
       "      <td>...</td>\n",
       "      <td>...</td>\n",
       "      <td>...</td>\n",
       "      <td>...</td>\n",
       "      <td>...</td>\n",
       "    </tr>\n",
       "    <tr>\n",
       "      <th>1208</th>\n",
       "      <td>..\\nCLERK'S OFFICE U.S. DIST. COURT\\nAT ROANOK...</td>\n",
       "      <td>grant</td>\n",
       "      <td>support</td>\n",
       "      <td>train</td>\n",
       "      <td>815</td>\n",
       "      <td>gov.uscourts.vawd.108351.5.0.txt</td>\n",
       "      <td>1</td>\n",
       "    </tr>\n",
       "    <tr>\n",
       "      <th>1209</th>\n",
       "      <td>IN THE UNITED STATES DISTRICT COURT\\nFOR THE W...</td>\n",
       "      <td>grant</td>\n",
       "      <td>opposition</td>\n",
       "      <td>train</td>\n",
       "      <td>815</td>\n",
       "      <td>gov.uscourts.vawd.108351.10.0.txt</td>\n",
       "      <td>1</td>\n",
       "    </tr>\n",
       "    <tr>\n",
       "      <th>1210</th>\n",
       "      <td>Case 3:07-cv-02000-H-CAB\\n\\n1\\n2\\n3\\n\\nDocumen...</td>\n",
       "      <td>deny</td>\n",
       "      <td>support</td>\n",
       "      <td>train</td>\n",
       "      <td>892</td>\n",
       "      <td>gov.uscourts.casd.256908.58.0.txt</td>\n",
       "      <td>0</td>\n",
       "    </tr>\n",
       "    <tr>\n",
       "      <th>1211</th>\n",
       "      <td>Case 3:07-cv-02000-H-CAB\\n\\n1\\n2\\n3\\n4\\n5\\n6\\n...</td>\n",
       "      <td>deny</td>\n",
       "      <td>opposition</td>\n",
       "      <td>train</td>\n",
       "      <td>892</td>\n",
       "      <td>gov.uscourts.casd.256908.95.0.txt</td>\n",
       "      <td>0</td>\n",
       "    </tr>\n",
       "    <tr>\n",
       "      <th>1212</th>\n",
       "      <td>oO Oo NWN OH FP WY YY KS\\n\\nOo NO NO NY NO NO ...</td>\n",
       "      <td>deny</td>\n",
       "      <td>opposition</td>\n",
       "      <td>train</td>\n",
       "      <td>892</td>\n",
       "      <td>gov.uscourts.casd.256908.64.0.txt</td>\n",
       "      <td>0</td>\n",
       "    </tr>\n",
       "  </tbody>\n",
       "</table>\n",
       "<p>610 rows × 7 columns</p>\n",
       "</div>"
      ],
      "text/plain": [
       "                                                 prompt completion  \\\n",
       "0     CLRB Hanson Industries, LLC et al v. Google In...       deny   \n",
       "1     CLRB Hanson Industries, LLC et al v. Google In...       deny   \n",
       "2     Case 1:08-cv-06978-TPG Document 586 Filed 07/1...       deny   \n",
       "3     Case 1:08-cv-06978-TPG Document 585 Filed 07/1...       deny   \n",
       "4     Case 1:08-cv-06978-TPG Document 591 Filed 07/1...       deny   \n",
       "...                                                 ...        ...   \n",
       "1208  ..\\nCLERK'S OFFICE U.S. DIST. COURT\\nAT ROANOK...      grant   \n",
       "1209  IN THE UNITED STATES DISTRICT COURT\\nFOR THE W...      grant   \n",
       "1210  Case 3:07-cv-02000-H-CAB\\n\\n1\\n2\\n3\\n\\nDocumen...       deny   \n",
       "1211  Case 3:07-cv-02000-H-CAB\\n\\n1\\n2\\n3\\n4\\n5\\n6\\n...       deny   \n",
       "1212  oO Oo NWN OH FP WY YY KS\\n\\nOo NO NO NY NO NO ...       deny   \n",
       "\n",
       "      brief_type data_type  file_path                           file_name  \\\n",
       "0        support      test        456   gov.uscourts.cand.34465.234.0.txt   \n",
       "1     opposition      test        456   gov.uscourts.cand.34465.288.0.txt   \n",
       "2        support     train        895  gov.uscourts.nysd.330523.586.0.txt   \n",
       "3        support     train        895  gov.uscourts.nysd.330523.585.0.txt   \n",
       "4     opposition     train        895  gov.uscourts.nysd.330523.591.0.txt   \n",
       "...          ...       ...        ...                                 ...   \n",
       "1208     support     train        815    gov.uscourts.vawd.108351.5.0.txt   \n",
       "1209  opposition     train        815   gov.uscourts.vawd.108351.10.0.txt   \n",
       "1210     support     train        892   gov.uscourts.casd.256908.58.0.txt   \n",
       "1211  opposition     train        892   gov.uscourts.casd.256908.95.0.txt   \n",
       "1212  opposition     train        892   gov.uscourts.casd.256908.64.0.txt   \n",
       "\n",
       "      labels  \n",
       "0          0  \n",
       "1          0  \n",
       "2          0  \n",
       "3          0  \n",
       "4          0  \n",
       "...      ...  \n",
       "1208       1  \n",
       "1209       1  \n",
       "1210       0  \n",
       "1211       0  \n",
       "1212       0  \n",
       "\n",
       "[610 rows x 7 columns]"
      ]
     },
     "execution_count": 2,
     "metadata": {},
     "output_type": "execute_result"
    }
   ],
   "source": [
    "def decision2label(decision):\n",
    "    if  \"grant\" in decision:\n",
    "        return 1\n",
    "    elif \"deny\" in decision:\n",
    "        return 0\n",
    "    else:\n",
    "        print(f\"error occured with decision: {decision} \",)\n",
    "        exit(\"Invalid decision\")\n",
    "\n",
    "\n",
    "def test_metrics(model, dataloader):\n",
    "    acc = evaluate.load(\"accuracy\")\n",
    "    preci = evaluate.load(\"precision\")\n",
    "    recall = evaluate.load(\"recall\")\n",
    "\n",
    "    csv = {'brief':[],'predict':[], 'score':[], 'truth':[]}\n",
    "\n",
    "    model.eval()\n",
    "    for batch in dataloader:\n",
    "        briefs = batch['file_name']\n",
    "        inputs = {k: v.to(device) for k, v in batch.items() if k != \"file_name\"}\n",
    "        with torch.no_grad():\n",
    "            outputs = model(**inputs)\n",
    "\n",
    "        logits = outputs.logits\n",
    "        propabilities = f.softmax(logits, dim=-1)\n",
    "        predictions = torch.argmax(logits, dim=-1)\n",
    "        acc.add_batch(predictions=predictions, references=inputs[\"labels\"])\n",
    "        preci.add_batch(predictions=predictions, references=inputs[\"labels\"])\n",
    "        recall.add_batch(predictions=predictions, references=inputs[\"labels\"])\n",
    "\n",
    "        csv['brief'].extend(briefs)\n",
    "        labels = lambda x: \"grant\" if x == 1 else \"deny\"\n",
    "        predict = list(map(labels, predictions))\n",
    "        csv['predict'].extend(predict) \n",
    "        csv['score'].extend(propabilities[:,1].cpu().numpy())\n",
    "        csv['truth'].extend(list(map(labels, inputs[\"labels\"].cpu().numpy())))\n",
    "\n",
    "    return {'accuracy': acc.compute()['accuracy'],\n",
    "            'precision': preci.compute()['precision'], \n",
    "            'recall': recall.compute()['recall'],\n",
    "            'csv': csv}\n",
    "\n",
    "#TESTSET = \"../dataset/testset.csv\"\n",
    "\n",
    "UNPAIRED_PATH = '../dataset/testset.csv'\n",
    "\n",
    "testset = pd.read_csv(UNPAIRED_PATH, index_col=0)\n",
    "\n",
    "testset = testset.loc[testset['data_type'] == 'train']\n",
    "\n",
    "# randomly set 20% of the data to test\n",
    "testset['data_type'] = testset['data_type'].apply(lambda x: \"test\" if random.random() < 0.2 else \"train\")\n",
    "\n",
    "testset['labels'] = testset['completion'].apply(decision2label)\n",
    "\n",
    "train = testset.loc[testset['data_type'] == 'train']\n",
    "test = testset.loc[testset['data_type'] == 'test']\n",
    "\n",
    "support_train = train.loc[train['brief_type'] == \"support\"]\n",
    "support_test = test.loc[test['brief_type'] == \"support\"]\n",
    "\n",
    "oppo_train = train.loc[train['brief_type'] == \"opposition\"]\n",
    "oppo_test = test.loc[test['brief_type'] == \"opposition\"]\n",
    "\n",
    "testset\n",
    "\n",
    "# try putting support and train together\n",
    "\n"
   ]
  },
  {
   "cell_type": "markdown",
   "metadata": {},
   "source": [
    "### Define tokenizers and Dataloaders\n",
    "\n",
    "You will have to edit and run the below cells several times for each datatype and model.\n",
    "\n",
    "As of the time this note was taken, the below cells uses bert and train opposition.\n",
    "\n",
    "If you want to use mistral or use train on support or increase/decrease the context size then you will have to various variable names.\n",
    "\n",
    "For exmaple:\n",
    "```model_type = \"bert\"```. This sets the model type to bert. You can change this to mistral\n",
    "`key = \"opposition\"`. This sets the input type to oppositon. You can change this to support.\n",
    "\n"
   ]
  },
  {
   "cell_type": "code",
   "execution_count": 3,
   "metadata": {},
   "outputs": [
    {
     "data": {
      "application/vnd.jupyter.widget-view+json": {
       "model_id": "23bb0fcda7324346bc273520972af328",
       "version_major": 2,
       "version_minor": 0
      },
      "text/plain": [
       "Map:   0%|          | 0/233 [00:00<?, ? examples/s]"
      ]
     },
     "metadata": {},
     "output_type": "display_data"
    },
    {
     "data": {
      "application/vnd.jupyter.widget-view+json": {
       "model_id": "05cf84ee1e1b4061b74da27b976c8d99",
       "version_major": 2,
       "version_minor": 0
      },
      "text/plain": [
       "Map:   0%|          | 0/56 [00:00<?, ? examples/s]"
      ]
     },
     "metadata": {},
     "output_type": "display_data"
    },
    {
     "name": "stdout",
     "output_type": "stream",
     "text": [
      "DatasetDict({\n",
      "    train: Dataset({\n",
      "        features: ['file_name', 'labels', 'input_ids', 'token_type_ids', 'attention_mask'],\n",
      "        num_rows: 233\n",
      "    })\n",
      "    test: Dataset({\n",
      "        features: ['file_name', 'labels', 'input_ids', 'token_type_ids', 'attention_mask'],\n",
      "        num_rows: 56\n",
      "    })\n",
      "})\n"
     ]
    },
    {
     "data": {
      "text/html": [
       "<div>\n",
       "<style scoped>\n",
       "    .dataframe tbody tr th:only-of-type {\n",
       "        vertical-align: middle;\n",
       "    }\n",
       "\n",
       "    .dataframe tbody tr th {\n",
       "        vertical-align: top;\n",
       "    }\n",
       "\n",
       "    .dataframe thead th {\n",
       "        text-align: right;\n",
       "    }\n",
       "</style>\n",
       "<table border=\"1\" class=\"dataframe\">\n",
       "  <thead>\n",
       "    <tr style=\"text-align: right;\">\n",
       "      <th></th>\n",
       "      <th>prompt</th>\n",
       "      <th>completion</th>\n",
       "      <th>brief_type</th>\n",
       "      <th>data_type</th>\n",
       "      <th>file_path</th>\n",
       "      <th>file_name</th>\n",
       "      <th>labels</th>\n",
       "    </tr>\n",
       "  </thead>\n",
       "  <tbody>\n",
       "    <tr>\n",
       "      <th>0</th>\n",
       "      <td>CLRB Hanson Industries, LLC et al v. Google In...</td>\n",
       "      <td>deny</td>\n",
       "      <td>support</td>\n",
       "      <td>test</td>\n",
       "      <td>456</td>\n",
       "      <td>gov.uscourts.cand.34465.234.0.txt</td>\n",
       "      <td>0</td>\n",
       "    </tr>\n",
       "    <tr>\n",
       "      <th>1</th>\n",
       "      <td>CLRB Hanson Industries, LLC et al v. Google In...</td>\n",
       "      <td>deny</td>\n",
       "      <td>opposition</td>\n",
       "      <td>test</td>\n",
       "      <td>456</td>\n",
       "      <td>gov.uscourts.cand.34465.288.0.txt</td>\n",
       "      <td>0</td>\n",
       "    </tr>\n",
       "    <tr>\n",
       "      <th>2</th>\n",
       "      <td>Case 1:08-cv-06978-TPG Document 586 Filed 07/1...</td>\n",
       "      <td>deny</td>\n",
       "      <td>support</td>\n",
       "      <td>train</td>\n",
       "      <td>895</td>\n",
       "      <td>gov.uscourts.nysd.330523.586.0.txt</td>\n",
       "      <td>0</td>\n",
       "    </tr>\n",
       "    <tr>\n",
       "      <th>3</th>\n",
       "      <td>Case 1:08-cv-06978-TPG Document 585 Filed 07/1...</td>\n",
       "      <td>deny</td>\n",
       "      <td>support</td>\n",
       "      <td>train</td>\n",
       "      <td>895</td>\n",
       "      <td>gov.uscourts.nysd.330523.585.0.txt</td>\n",
       "      <td>0</td>\n",
       "    </tr>\n",
       "    <tr>\n",
       "      <th>4</th>\n",
       "      <td>Case 1:08-cv-06978-TPG Document 591 Filed 07/1...</td>\n",
       "      <td>deny</td>\n",
       "      <td>opposition</td>\n",
       "      <td>train</td>\n",
       "      <td>895</td>\n",
       "      <td>gov.uscourts.nysd.330523.591.0.txt</td>\n",
       "      <td>0</td>\n",
       "    </tr>\n",
       "    <tr>\n",
       "      <th>...</th>\n",
       "      <td>...</td>\n",
       "      <td>...</td>\n",
       "      <td>...</td>\n",
       "      <td>...</td>\n",
       "      <td>...</td>\n",
       "      <td>...</td>\n",
       "      <td>...</td>\n",
       "    </tr>\n",
       "    <tr>\n",
       "      <th>1208</th>\n",
       "      <td>..\\nCLERK'S OFFICE U.S. DIST. COURT\\nAT ROANOK...</td>\n",
       "      <td>grant</td>\n",
       "      <td>support</td>\n",
       "      <td>train</td>\n",
       "      <td>815</td>\n",
       "      <td>gov.uscourts.vawd.108351.5.0.txt</td>\n",
       "      <td>1</td>\n",
       "    </tr>\n",
       "    <tr>\n",
       "      <th>1209</th>\n",
       "      <td>IN THE UNITED STATES DISTRICT COURT\\nFOR THE W...</td>\n",
       "      <td>grant</td>\n",
       "      <td>opposition</td>\n",
       "      <td>train</td>\n",
       "      <td>815</td>\n",
       "      <td>gov.uscourts.vawd.108351.10.0.txt</td>\n",
       "      <td>1</td>\n",
       "    </tr>\n",
       "    <tr>\n",
       "      <th>1210</th>\n",
       "      <td>Case 3:07-cv-02000-H-CAB\\n\\n1\\n2\\n3\\n\\nDocumen...</td>\n",
       "      <td>deny</td>\n",
       "      <td>support</td>\n",
       "      <td>train</td>\n",
       "      <td>892</td>\n",
       "      <td>gov.uscourts.casd.256908.58.0.txt</td>\n",
       "      <td>0</td>\n",
       "    </tr>\n",
       "    <tr>\n",
       "      <th>1211</th>\n",
       "      <td>Case 3:07-cv-02000-H-CAB\\n\\n1\\n2\\n3\\n4\\n5\\n6\\n...</td>\n",
       "      <td>deny</td>\n",
       "      <td>opposition</td>\n",
       "      <td>train</td>\n",
       "      <td>892</td>\n",
       "      <td>gov.uscourts.casd.256908.95.0.txt</td>\n",
       "      <td>0</td>\n",
       "    </tr>\n",
       "    <tr>\n",
       "      <th>1212</th>\n",
       "      <td>oO Oo NWN OH FP WY YY KS\\n\\nOo NO NO NY NO NO ...</td>\n",
       "      <td>deny</td>\n",
       "      <td>opposition</td>\n",
       "      <td>train</td>\n",
       "      <td>892</td>\n",
       "      <td>gov.uscourts.casd.256908.64.0.txt</td>\n",
       "      <td>0</td>\n",
       "    </tr>\n",
       "  </tbody>\n",
       "</table>\n",
       "<p>610 rows × 7 columns</p>\n",
       "</div>"
      ],
      "text/plain": [
       "                                                 prompt completion  \\\n",
       "0     CLRB Hanson Industries, LLC et al v. Google In...       deny   \n",
       "1     CLRB Hanson Industries, LLC et al v. Google In...       deny   \n",
       "2     Case 1:08-cv-06978-TPG Document 586 Filed 07/1...       deny   \n",
       "3     Case 1:08-cv-06978-TPG Document 585 Filed 07/1...       deny   \n",
       "4     Case 1:08-cv-06978-TPG Document 591 Filed 07/1...       deny   \n",
       "...                                                 ...        ...   \n",
       "1208  ..\\nCLERK'S OFFICE U.S. DIST. COURT\\nAT ROANOK...      grant   \n",
       "1209  IN THE UNITED STATES DISTRICT COURT\\nFOR THE W...      grant   \n",
       "1210  Case 3:07-cv-02000-H-CAB\\n\\n1\\n2\\n3\\n\\nDocumen...       deny   \n",
       "1211  Case 3:07-cv-02000-H-CAB\\n\\n1\\n2\\n3\\n4\\n5\\n6\\n...       deny   \n",
       "1212  oO Oo NWN OH FP WY YY KS\\n\\nOo NO NO NY NO NO ...       deny   \n",
       "\n",
       "      brief_type data_type  file_path                           file_name  \\\n",
       "0        support      test        456   gov.uscourts.cand.34465.234.0.txt   \n",
       "1     opposition      test        456   gov.uscourts.cand.34465.288.0.txt   \n",
       "2        support     train        895  gov.uscourts.nysd.330523.586.0.txt   \n",
       "3        support     train        895  gov.uscourts.nysd.330523.585.0.txt   \n",
       "4     opposition     train        895  gov.uscourts.nysd.330523.591.0.txt   \n",
       "...          ...       ...        ...                                 ...   \n",
       "1208     support     train        815    gov.uscourts.vawd.108351.5.0.txt   \n",
       "1209  opposition     train        815   gov.uscourts.vawd.108351.10.0.txt   \n",
       "1210     support     train        892   gov.uscourts.casd.256908.58.0.txt   \n",
       "1211  opposition     train        892   gov.uscourts.casd.256908.95.0.txt   \n",
       "1212  opposition     train        892   gov.uscourts.casd.256908.64.0.txt   \n",
       "\n",
       "      labels  \n",
       "0          0  \n",
       "1          0  \n",
       "2          0  \n",
       "3          0  \n",
       "4          0  \n",
       "...      ...  \n",
       "1208       1  \n",
       "1209       1  \n",
       "1210       0  \n",
       "1211       0  \n",
       "1212       0  \n",
       "\n",
       "[610 rows x 7 columns]"
      ]
     },
     "execution_count": 3,
     "metadata": {},
     "output_type": "execute_result"
    }
   ],
   "source": [
    "\n",
    "model_type = \"bert\"\n",
    "\n",
    "key = \"opposition\"\n",
    "\n",
    "# Remember to change this\n",
    "\n",
    "features = Features({ 'prompt' : Value(dtype='string'),\n",
    "                     'completion': ClassLabel(num_classes=3, names=['deny', 'grant', 'TBD'],  id=None),\n",
    "                     'brief_type' : ClassLabel(num_classes=2, names=[\"support\", \"opposition\"], id=None),\n",
    "                        'data_type' : ClassLabel(num_classes=2, names=[\"train\", \"test\"], id=None),\n",
    "                        'file_path' : Value(dtype='int64') ,\n",
    "                        'file_name' : Value(dtype='string'),   \n",
    "                        'labels' : Value(dtype='int64')\n",
    "                     })\n",
    "\n",
    "# can change the argument\n",
    "if key == \"support\":    \n",
    "    dataset_train = Dataset.from_pandas(support_train, preserve_index=False , features= features )\n",
    "    dataset_test = Dataset.from_pandas(support_test, preserve_index=False,  features= features)\n",
    "else: #  key == opposition\n",
    "   \n",
    "    dataset_train = Dataset.from_pandas(oppo_train, preserve_index=False, features= features)\n",
    "    dataset_test = Dataset.from_pandas(oppo_test, preserve_index=False, features= features)\n",
    "\n",
    "lr = 1e-5\n",
    "\n",
    "dataset = DatasetDict()\n",
    "\n",
    "\n",
    "dataset['train'] = dataset_train\n",
    "dataset['test'] = dataset_test\n",
    "\n",
    "\n",
    "if model_type == \"mistral\":\n",
    "\n",
    "    tokenizer = AutoTokenizer.from_pretrained(mistral_checkpoint, add_prefix_space=True, device=device)\n",
    "    tokenizer.pad_token_id = tokenizer.eos_token_id\n",
    "    tokenizer.pad_token = tokenizer.eos_token\n",
    "\n",
    "\n",
    "    config = AutoConfig.from_pretrained(mistral_checkpoint)\n",
    "    max_input_size =  1024\n",
    "\n",
    "    def tokenize_function(examples):\n",
    "        return tokenizer(examples['prompt'], truncation= True, padding=\"max_length\" , max_length=max_input_size)\n",
    "\n",
    "    #mistral_data_collator = DataCollatorWithPadding(tokenizer)\n",
    "\n",
    "else:\n",
    "    tokenizer = AutoTokenizer.from_pretrained(bert_checkpoint)\n",
    "\n",
    "    def tokenize_function(briefs):\n",
    "     return tokenizer(briefs[\"prompt\"], padding=\"max_length\", truncation=True)\n",
    "\n",
    "\n",
    "tokenized_datasets = dataset.map(tokenize_function, batched=True)\n",
    "\n",
    "# small_train_dataset = tokenized_datasets[\"train\"].shuffle(seed=42).select(range(200))\n",
    "# small_eval_dataset = tokenized_datasets[\"test\"].shuffle(seed=42).select(range(200))\n",
    "\n",
    "tokenized_datasets = tokenized_datasets.remove_columns([\"completion\",\"prompt\",\"brief_type\",\"data_type\", \"file_path\", ]) # \"file_name\"])\n",
    "tokenized_datasets.set_format(\"torch\")\n",
    "\n",
    "\n",
    "train_dataloader = DataLoader(tokenized_datasets[\"train\"], shuffle=True, batch_size=16, )\n",
    "eval_dataloader = DataLoader(tokenized_datasets[\"test\"], batch_size=16, ) \n",
    "\n",
    "\n",
    "print(tokenized_datasets)\n",
    "testset"
   ]
  },
  {
   "cell_type": "markdown",
   "metadata": {},
   "source": [
    "## Model\n",
    "\n",
    "There are two models available to be used in this experiment.\n",
    "Bert and Mistral.\n",
    "\n",
    "Only run the cell that corresponds to the model you want to use.\n",
    "\n",
    "In the cells below, you can also configure the model and it's hyperparameters as you see fit.\n",
    "\n",
    "Important note:\n",
    "Mistral is quite large and could not fit in the current GPU capacity for this experiment."
   ]
  },
  {
   "cell_type": "markdown",
   "metadata": {},
   "source": [
    "Bert"
   ]
  },
  {
   "cell_type": "code",
   "execution_count": 4,
   "metadata": {},
   "outputs": [
    {
     "name": "stderr",
     "output_type": "stream",
     "text": [
      "Some weights of BertForSequenceClassification were not initialized from the model checkpoint at bert-base-uncased and are newly initialized: ['classifier.bias', 'classifier.weight']\n",
      "You should probably TRAIN this model on a down-stream task to be able to use it for predictions and inference.\n"
     ]
    },
    {
     "name": "stdout",
     "output_type": "stream",
     "text": [
      "The model has 109483778 parameters.\n"
     ]
    }
   ],
   "source": [
    "lr = 1e-5\n",
    "model = AutoModelForSequenceClassification.from_pretrained(bert_checkpoint, num_labels=2).to(device)\n",
    "optimizer = torch.optim.AdamW(model.parameters(), lr=lr)\n",
    "num_params = model.num_parameters()\n",
    "print(f\"The model has {num_params} parameters.\")"
   ]
  },
  {
   "cell_type": "markdown",
   "metadata": {},
   "source": [
    "Mistral (Do not run this)"
   ]
  },
  {
   "cell_type": "code",
   "execution_count": 4,
   "metadata": {},
   "outputs": [
    {
     "data": {
      "application/vnd.jupyter.widget-view+json": {
       "model_id": "11bf08a04c7a4e178e6a58768b7e9560",
       "version_major": 2,
       "version_minor": 0
      },
      "text/plain": [
       "Loading checkpoint shards:   0%|          | 0/2 [00:00<?, ?it/s]"
      ]
     },
     "metadata": {},
     "output_type": "display_data"
    },
    {
     "name": "stderr",
     "output_type": "stream",
     "text": [
      "Some weights of MistralForSequenceClassification were not initialized from the model checkpoint at mistralai/Mistral-7B-v0.1 and are newly initialized: ['score.weight']\n",
      "You should probably TRAIN this model on a down-stream task to be able to use it for predictions and inference.\n",
      "WARNING:root:Some parameters are on the meta device device because they were offloaded to the cpu.\n"
     ]
    },
    {
     "name": "stdout",
     "output_type": "stream",
     "text": [
      "trainable params: 860,160 || all params: 7,111,528,448 || trainable%: 0.012095290151611583\n"
     ]
    }
   ],
   "source": [
    "\n",
    "# model =  AutoModelForSequenceClassification.from_pretrained(\n",
    "#   pretrained_model_name_or_path=mistral_checkpoint,\n",
    "#   num_labels=2,\n",
    "#   #use_flash_attention_2=True,\n",
    "#   torch_dtype= torch.bfloat16,\n",
    "# #  device_map=\"auto\"\n",
    "# ).to(device)\n",
    "\n",
    "# model.config.pad_token_id = model.config.eos_token_id\n",
    "\n",
    "# mistral_peft_config = LoraConfig(\n",
    "#     task_type=TaskType.SEQ_CLS, r=2, lora_alpha=16, lora_dropout=0.1, bias=\"none\", \n",
    "#     target_modules=[\n",
    "#         \"q_proj\",\n",
    "#         \"v_proj\",\n",
    "#     ],\n",
    "# )\n",
    "\n",
    "# model = get_peft_model(model, mistral_peft_config)\n",
    "# model.print_trainable_parameters()\n",
    "\n",
    "# lr = 1e-5\n",
    "# optimizer = torch.optim.AdamW(model.parameters(), lr=lr)\n",
    "\n"
   ]
  },
  {
   "cell_type": "markdown",
   "metadata": {},
   "source": [
    "## Train and Test\n",
    "\n",
    "This project is connected to Weight and Biases [(wandb)](https://wandb.ai/site)\n",
    "\n",
    "So make sure to pip install and sign up to wand if you want to see the training graphs.\n",
    "\n",
    "In the cell below you can change the num_epochs.\n",
    "\n"
   ]
  },
  {
   "cell_type": "code",
   "execution_count": 5,
   "metadata": {},
   "outputs": [
    {
     "name": "stderr",
     "output_type": "stream",
     "text": [
      "Failed to detect the name of this notebook, you can set it manually with the WANDB_NOTEBOOK_NAME environment variable to enable code saving.\n",
      "\u001b[34m\u001b[1mwandb\u001b[0m: Currently logged in as: \u001b[33moqcardoso\u001b[0m. Use \u001b[1m`wandb login --relogin`\u001b[0m to force relogin\n"
     ]
    },
    {
     "data": {
      "text/html": [
       "wandb version 0.16.5 is available!  To upgrade, please run:\n",
       " $ pip install wandb --upgrade"
      ],
      "text/plain": [
       "<IPython.core.display.HTML object>"
      ]
     },
     "metadata": {},
     "output_type": "display_data"
    },
    {
     "data": {
      "text/html": [
       "Tracking run with wandb version 0.16.3"
      ],
      "text/plain": [
       "<IPython.core.display.HTML object>"
      ]
     },
     "metadata": {},
     "output_type": "display_data"
    },
    {
     "data": {
      "text/html": [
       "Run data is saved locally in <code>/scratchB/oqcardoso/predict_motion/per_motion_prediction/wandb/run-20240328_172846-b0daa9uo</code>"
      ],
      "text/plain": [
       "<IPython.core.display.HTML object>"
      ]
     },
     "metadata": {},
     "output_type": "display_data"
    },
    {
     "data": {
      "text/html": [
       "Syncing run <strong><a href='https://wandb.ai/oqcardoso/LLM_TOTURIAL/runs/b0daa9uo' target=\"_blank\">Opposition-bert-base-uncased</a></strong> to <a href='https://wandb.ai/oqcardoso/LLM_TOTURIAL' target=\"_blank\">Weights & Biases</a> (<a href='https://wandb.me/run' target=\"_blank\">docs</a>)<br/>"
      ],
      "text/plain": [
       "<IPython.core.display.HTML object>"
      ]
     },
     "metadata": {},
     "output_type": "display_data"
    },
    {
     "data": {
      "text/html": [
       " View project at <a href='https://wandb.ai/oqcardoso/LLM_TOTURIAL' target=\"_blank\">https://wandb.ai/oqcardoso/LLM_TOTURIAL</a>"
      ],
      "text/plain": [
       "<IPython.core.display.HTML object>"
      ]
     },
     "metadata": {},
     "output_type": "display_data"
    },
    {
     "data": {
      "text/html": [
       " View run at <a href='https://wandb.ai/oqcardoso/LLM_TOTURIAL/runs/b0daa9uo' target=\"_blank\">https://wandb.ai/oqcardoso/LLM_TOTURIAL/runs/b0daa9uo</a>"
      ],
      "text/plain": [
       "<IPython.core.display.HTML object>"
      ]
     },
     "metadata": {},
     "output_type": "display_data"
    },
    {
     "data": {
      "text/html": [
       "<button onClick=\"this.nextSibling.style.display='block';this.style.display='none';\">Display W&B run</button><iframe src='https://wandb.ai/oqcardoso/LLM_TOTURIAL/runs/b0daa9uo?jupyter=true' style='border:none;width:100%;height:420px;display:none;'></iframe>"
      ],
      "text/plain": [
       "<wandb.sdk.wandb_run.Run at 0x7f52e7a07ad0>"
      ]
     },
     "execution_count": 5,
     "metadata": {},
     "output_type": "execute_result"
    }
   ],
   "source": [
    "\n",
    "# what does get_scheduler do?\n",
    "\n",
    "from transformers import get_scheduler\n",
    "\n",
    "num_epochs = 50\n",
    "num_training_steps = num_epochs * len(train_dataloader)\n",
    "\n",
    "name = \"Support\" if key == \"support\" else \"Opposition\"\n",
    "\n",
    "wandb.init(\n",
    "    # set the wandb project where this run will be logged\n",
    "    project=\"LLM_TOTURIAL\",  \n",
    "    name= f\"{name}-{bert_checkpoint}\",#f\"Opposition-mistral-7B-v0.1-1-Tokensize:{max_input_size}\",\n",
    "    # track hyperparameters and run metadata\n",
    "    config={\n",
    "    \"optimizer\": \"AdamW\",\n",
    "    \"lr\": lr,\n",
    "\n",
    "    \"dataset\": \"single-supports\",\n",
    "    \"epochs\": num_epochs,\n",
    "    }\n",
    ")\n",
    "\n"
   ]
  },
  {
   "cell_type": "markdown",
   "metadata": {},
   "source": [
    "### Training and Evaluation\n",
    "\n",
    "Simply put this is where training and evaluation takes place.\n",
    "At every epoch i send the accumulated average loss, metrics like precision, recall and accuracy to wandb\n",
    "\n",
    "I save the model to disk that produces the highest accuracy, aswell as the prediction files."
   ]
  },
  {
   "cell_type": "code",
   "execution_count": 6,
   "metadata": {},
   "outputs": [
    {
     "data": {
      "application/vnd.jupyter.widget-view+json": {
       "model_id": "2375f4ccf5b54f08abac1b1cc14472ea",
       "version_major": 2,
       "version_minor": 0
      },
      "text/plain": [
       "  0%|          | 0/750 [00:00<?, ?it/s]"
      ]
     },
     "metadata": {},
     "output_type": "display_data"
    },
    {
     "name": "stdout",
     "output_type": "stream",
     "text": [
      "Training model\n",
      "Epoch 0 completed\n",
      "Accuracy: {'accuracy': 0.5064377682403434}\n",
      "loss : 0.7049660404523214\n",
      "Evaluating model on test set\n",
      "{'accuracy': 0.5892857142857143, 'precision': 0.5818181818181818, 'recall': 1.0, 'csv': {'brief': ['gov.uscourts.cand.34465.288.0.txt', 'gov.uscourts.nysd.316362.316.0.txt', 'gov.uscourts.dcd.129507.9.0.txt', 'gov.uscourts.ded.7515.137.0.txt', 'gov.uscourts.txsd.1368817.38.0.txt', 'gov.uscourts.wawd.172919.11.0.txt', 'gov.uscourts.cand.196553.34.0.txt', 'gov.uscourts.akd.243.46.0.txt', 'gov.uscourts.azd.384949.15.0.txt', 'gov.uscourts.mad.138808.27.0.txt', 'gov.uscourts.nced.86451.39.0.txt', 'gov.uscourts.mad.13855.48.0.txt', 'gov.uscourts.akd.336.70.0.txt', 'gov.uscourts.dcd.169197.15.0.txt', 'gov.uscourts.flnd.78373.183.0.txt', 'gov.uscourts.flmd.185863.26.0.txt', 'gov.uscourts.gamd.69935.212.0.txt', 'gov.uscourts.mied.295088.60.0.txt', 'gov.uscourts.utd.80761.38.0.txt', 'gov.uscourts.txed.104068.225.0.txt', 'gov.uscourts.mad.118796.29.0.txt', 'gov.uscourts.nysd.312386.11.0.txt', 'gov.uscourts.txed.119083.179.0.txt', 'gov.uscourts.flmd.323947.99.0.txt', 'gov.uscourts.casd.253104.19.0.txt', 'gov.uscourts.cand.197984.2292.0.txt', 'gov.uscourts.cand.197984.2195.0.txt', 'gov.uscourts.nysd.323651.74.0.txt', 'gov.uscourts.cand.187342.9.0.txt', 'gov.uscourts.cand.203194.33.0.txt', 'gov.uscourts.insd.41796.146.0.txt', 'gov.uscourts.mad.149233.76.0.txt', 'gov.uscourts.vaed.269931.46.0.txt', 'gov.uscourts.mad.123555.68.0.txt', 'gov.uscourts.med.40349.108.0.txt', 'gov.uscourts.mad.98545.33.0.txt', 'gov.uscourts.wawd.214849.103.0.txt', 'gov.uscourts.mad.138034.25.0.txt', 'gov.uscourts.utd.80761.52.0.txt', 'gov.uscourts.nmd.249540.34.0.txt', 'gov.uscourts.flmd.299494.47.0.txt', 'gov.uscourts.scd.194409.52.0.txt', 'gov.uscourts.wawd.174096.145.0.txt', 'gov.uscourts.nyed.361979.119.0.txt', 'gov.uscourts.mdd.256416.21.0.txt', 'gov.uscourts.caed.224936.29.0.txt', 'gov.uscourts.dcd.148138.10.0.txt', 'gov.uscourts.cod.150184.136.0.txt', 'gov.uscourts.txwd.745575.19.0.txt', 'gov.uscourts.txed.93303.234.0.txt', 'gov.uscourts.vtd.18657.126.0.txt', 'gov.uscourts.casd.261835.11.0.txt', 'gov.uscourts.ksd.100034.14.0.txt', 'gov.uscourts.miwd.5376.106.0.txt', 'gov.uscourts.med.49305.40.0.txt', 'gov.uscourts.cand.197658.24.0.txt'], 'predict': ['grant', 'grant', 'grant', 'grant', 'grant', 'grant', 'grant', 'grant', 'grant', 'grant', 'grant', 'grant', 'grant', 'grant', 'grant', 'grant', 'grant', 'grant', 'grant', 'grant', 'grant', 'grant', 'grant', 'grant', 'grant', 'grant', 'grant', 'grant', 'grant', 'grant', 'grant', 'grant', 'grant', 'grant', 'grant', 'grant', 'grant', 'grant', 'grant', 'grant', 'grant', 'grant', 'deny', 'grant', 'grant', 'grant', 'grant', 'grant', 'grant', 'grant', 'grant', 'grant', 'grant', 'grant', 'grant', 'grant'], 'score': [0.5546317, 0.54771787, 0.5270071, 0.5666055, 0.5501481, 0.5604117, 0.52239364, 0.5691737, 0.54013383, 0.54352057, 0.5453147, 0.5703677, 0.59082025, 0.59534353, 0.54770076, 0.55069053, 0.59873354, 0.5295213, 0.516763, 0.5437717, 0.5665857, 0.56643146, 0.53496265, 0.54411834, 0.5267008, 0.52845883, 0.55247504, 0.62190485, 0.528046, 0.5448637, 0.5219354, 0.556308, 0.5895223, 0.5205557, 0.5311469, 0.56188625, 0.5473709, 0.5877523, 0.57668203, 0.5806425, 0.5053122, 0.57041425, 0.49771976, 0.5942124, 0.5522892, 0.5250888, 0.55590814, 0.5388418, 0.56133896, 0.5417248, 0.5519606, 0.5027651, 0.5523683, 0.555767, 0.54077095, 0.55244726], 'truth': ['deny', 'grant', 'grant', 'grant', 'grant', 'grant', 'grant', 'grant', 'deny', 'grant', 'deny', 'deny', 'grant', 'grant', 'deny', 'deny', 'grant', 'deny', 'deny', 'grant', 'grant', 'grant', 'grant', 'deny', 'grant', 'grant', 'grant', 'grant', 'deny', 'deny', 'grant', 'deny', 'grant', 'grant', 'deny', 'grant', 'deny', 'deny', 'deny', 'grant', 'deny', 'grant', 'deny', 'grant', 'grant', 'deny', 'deny', 'deny', 'grant', 'grant', 'grant', 'grant', 'grant', 'deny', 'deny', 'deny']}}\n",
      "Saving model\n",
      "Epoch 1 completed\n",
      "Accuracy: {'accuracy': 0.5407725321888412}\n",
      "loss : 0.6807590087254842\n",
      "Evaluating model on test set\n",
      "{'accuracy': 0.5357142857142857, 'precision': 0.7142857142857143, 'recall': 0.3125, 'csv': {'brief': ['gov.uscourts.cand.34465.288.0.txt', 'gov.uscourts.nysd.316362.316.0.txt', 'gov.uscourts.dcd.129507.9.0.txt', 'gov.uscourts.ded.7515.137.0.txt', 'gov.uscourts.txsd.1368817.38.0.txt', 'gov.uscourts.wawd.172919.11.0.txt', 'gov.uscourts.cand.196553.34.0.txt', 'gov.uscourts.akd.243.46.0.txt', 'gov.uscourts.azd.384949.15.0.txt', 'gov.uscourts.mad.138808.27.0.txt', 'gov.uscourts.nced.86451.39.0.txt', 'gov.uscourts.mad.13855.48.0.txt', 'gov.uscourts.akd.336.70.0.txt', 'gov.uscourts.dcd.169197.15.0.txt', 'gov.uscourts.flnd.78373.183.0.txt', 'gov.uscourts.flmd.185863.26.0.txt', 'gov.uscourts.gamd.69935.212.0.txt', 'gov.uscourts.mied.295088.60.0.txt', 'gov.uscourts.utd.80761.38.0.txt', 'gov.uscourts.txed.104068.225.0.txt', 'gov.uscourts.mad.118796.29.0.txt', 'gov.uscourts.nysd.312386.11.0.txt', 'gov.uscourts.txed.119083.179.0.txt', 'gov.uscourts.flmd.323947.99.0.txt', 'gov.uscourts.casd.253104.19.0.txt', 'gov.uscourts.cand.197984.2292.0.txt', 'gov.uscourts.cand.197984.2195.0.txt', 'gov.uscourts.nysd.323651.74.0.txt', 'gov.uscourts.cand.187342.9.0.txt', 'gov.uscourts.cand.203194.33.0.txt', 'gov.uscourts.insd.41796.146.0.txt', 'gov.uscourts.mad.149233.76.0.txt', 'gov.uscourts.vaed.269931.46.0.txt', 'gov.uscourts.mad.123555.68.0.txt', 'gov.uscourts.med.40349.108.0.txt', 'gov.uscourts.mad.98545.33.0.txt', 'gov.uscourts.wawd.214849.103.0.txt', 'gov.uscourts.mad.138034.25.0.txt', 'gov.uscourts.utd.80761.52.0.txt', 'gov.uscourts.nmd.249540.34.0.txt', 'gov.uscourts.flmd.299494.47.0.txt', 'gov.uscourts.scd.194409.52.0.txt', 'gov.uscourts.wawd.174096.145.0.txt', 'gov.uscourts.nyed.361979.119.0.txt', 'gov.uscourts.mdd.256416.21.0.txt', 'gov.uscourts.caed.224936.29.0.txt', 'gov.uscourts.dcd.148138.10.0.txt', 'gov.uscourts.cod.150184.136.0.txt', 'gov.uscourts.txwd.745575.19.0.txt', 'gov.uscourts.txed.93303.234.0.txt', 'gov.uscourts.vtd.18657.126.0.txt', 'gov.uscourts.casd.261835.11.0.txt', 'gov.uscourts.ksd.100034.14.0.txt', 'gov.uscourts.miwd.5376.106.0.txt', 'gov.uscourts.med.49305.40.0.txt', 'gov.uscourts.cand.197658.24.0.txt'], 'predict': ['deny', 'deny', 'deny', 'deny', 'deny', 'grant', 'deny', 'grant', 'deny', 'deny', 'deny', 'deny', 'deny', 'deny', 'deny', 'grant', 'deny', 'deny', 'deny', 'grant', 'grant', 'deny', 'deny', 'deny', 'deny', 'deny', 'deny', 'grant', 'deny', 'deny', 'deny', 'grant', 'grant', 'deny', 'deny', 'deny', 'deny', 'grant', 'grant', 'grant', 'deny', 'grant', 'deny', 'deny', 'deny', 'deny', 'deny', 'deny', 'grant', 'deny', 'grant', 'deny', 'deny', 'deny', 'deny', 'deny'], 'score': [0.4308778, 0.45040238, 0.4553561, 0.4504214, 0.4357173, 0.5008188, 0.4497184, 0.5025844, 0.4376566, 0.47174057, 0.45032445, 0.49466056, 0.49413183, 0.43276972, 0.4716335, 0.508752, 0.45352066, 0.43714836, 0.44966516, 0.5011677, 0.5154299, 0.44114706, 0.43839777, 0.42251474, 0.40883052, 0.40876284, 0.4137369, 0.5582565, 0.4230631, 0.42682007, 0.44031772, 0.51778185, 0.5185081, 0.43613026, 0.46604097, 0.45508355, 0.4869777, 0.5489858, 0.54047, 0.5522049, 0.43084595, 0.51329964, 0.4125973, 0.48266482, 0.4709223, 0.41213065, 0.46182993, 0.47113612, 0.5114263, 0.4570716, 0.5264109, 0.4197083, 0.4867303, 0.4816749, 0.46670648, 0.4950763], 'truth': ['deny', 'grant', 'grant', 'grant', 'grant', 'grant', 'grant', 'grant', 'deny', 'grant', 'deny', 'deny', 'grant', 'grant', 'deny', 'deny', 'grant', 'deny', 'deny', 'grant', 'grant', 'grant', 'grant', 'deny', 'grant', 'grant', 'grant', 'grant', 'deny', 'deny', 'grant', 'deny', 'grant', 'grant', 'deny', 'grant', 'deny', 'deny', 'deny', 'grant', 'deny', 'grant', 'deny', 'grant', 'grant', 'deny', 'deny', 'deny', 'grant', 'grant', 'grant', 'grant', 'grant', 'deny', 'deny', 'deny']}}\n",
      "Epoch 2 completed\n",
      "Accuracy: {'accuracy': 0.6566523605150214}\n",
      "loss : 0.6432879249254863\n",
      "Evaluating model on test set\n",
      "{'accuracy': 0.5535714285714286, 'precision': 0.5945945945945946, 'recall': 0.6875, 'csv': {'brief': ['gov.uscourts.cand.34465.288.0.txt', 'gov.uscourts.nysd.316362.316.0.txt', 'gov.uscourts.dcd.129507.9.0.txt', 'gov.uscourts.ded.7515.137.0.txt', 'gov.uscourts.txsd.1368817.38.0.txt', 'gov.uscourts.wawd.172919.11.0.txt', 'gov.uscourts.cand.196553.34.0.txt', 'gov.uscourts.akd.243.46.0.txt', 'gov.uscourts.azd.384949.15.0.txt', 'gov.uscourts.mad.138808.27.0.txt', 'gov.uscourts.nced.86451.39.0.txt', 'gov.uscourts.mad.13855.48.0.txt', 'gov.uscourts.akd.336.70.0.txt', 'gov.uscourts.dcd.169197.15.0.txt', 'gov.uscourts.flnd.78373.183.0.txt', 'gov.uscourts.flmd.185863.26.0.txt', 'gov.uscourts.gamd.69935.212.0.txt', 'gov.uscourts.mied.295088.60.0.txt', 'gov.uscourts.utd.80761.38.0.txt', 'gov.uscourts.txed.104068.225.0.txt', 'gov.uscourts.mad.118796.29.0.txt', 'gov.uscourts.nysd.312386.11.0.txt', 'gov.uscourts.txed.119083.179.0.txt', 'gov.uscourts.flmd.323947.99.0.txt', 'gov.uscourts.casd.253104.19.0.txt', 'gov.uscourts.cand.197984.2292.0.txt', 'gov.uscourts.cand.197984.2195.0.txt', 'gov.uscourts.nysd.323651.74.0.txt', 'gov.uscourts.cand.187342.9.0.txt', 'gov.uscourts.cand.203194.33.0.txt', 'gov.uscourts.insd.41796.146.0.txt', 'gov.uscourts.mad.149233.76.0.txt', 'gov.uscourts.vaed.269931.46.0.txt', 'gov.uscourts.mad.123555.68.0.txt', 'gov.uscourts.med.40349.108.0.txt', 'gov.uscourts.mad.98545.33.0.txt', 'gov.uscourts.wawd.214849.103.0.txt', 'gov.uscourts.mad.138034.25.0.txt', 'gov.uscourts.utd.80761.52.0.txt', 'gov.uscourts.nmd.249540.34.0.txt', 'gov.uscourts.flmd.299494.47.0.txt', 'gov.uscourts.scd.194409.52.0.txt', 'gov.uscourts.wawd.174096.145.0.txt', 'gov.uscourts.nyed.361979.119.0.txt', 'gov.uscourts.mdd.256416.21.0.txt', 'gov.uscourts.caed.224936.29.0.txt', 'gov.uscourts.dcd.148138.10.0.txt', 'gov.uscourts.cod.150184.136.0.txt', 'gov.uscourts.txwd.745575.19.0.txt', 'gov.uscourts.txed.93303.234.0.txt', 'gov.uscourts.vtd.18657.126.0.txt', 'gov.uscourts.casd.261835.11.0.txt', 'gov.uscourts.ksd.100034.14.0.txt', 'gov.uscourts.miwd.5376.106.0.txt', 'gov.uscourts.med.49305.40.0.txt', 'gov.uscourts.cand.197658.24.0.txt'], 'predict': ['grant', 'deny', 'grant', 'grant', 'deny', 'grant', 'grant', 'grant', 'grant', 'grant', 'grant', 'grant', 'grant', 'deny', 'deny', 'grant', 'grant', 'grant', 'deny', 'grant', 'grant', 'grant', 'deny', 'deny', 'deny', 'deny', 'deny', 'grant', 'deny', 'deny', 'grant', 'grant', 'grant', 'grant', 'grant', 'deny', 'grant', 'grant', 'grant', 'grant', 'deny', 'grant', 'deny', 'grant', 'grant', 'deny', 'grant', 'grant', 'grant', 'deny', 'grant', 'deny', 'grant', 'grant', 'deny', 'grant'], 'score': [0.52234185, 0.4978706, 0.64722, 0.51690626, 0.44173563, 0.5956942, 0.5086889, 0.61700964, 0.53541124, 0.5143101, 0.5086802, 0.5676912, 0.6126776, 0.43448088, 0.48984653, 0.5498174, 0.51263934, 0.50485206, 0.49837416, 0.52820873, 0.61913925, 0.5026687, 0.45753688, 0.43646204, 0.421856, 0.44316533, 0.442748, 0.71462566, 0.44202974, 0.47485685, 0.5880023, 0.6383977, 0.6378893, 0.6219797, 0.5876941, 0.49960393, 0.5883722, 0.6578105, 0.6508929, 0.64844024, 0.42570928, 0.63883096, 0.3839709, 0.55725825, 0.51543534, 0.42590892, 0.51711273, 0.5277503, 0.60686904, 0.44562733, 0.61541975, 0.44858307, 0.5557734, 0.51858664, 0.44965708, 0.5042711], 'truth': ['deny', 'grant', 'grant', 'grant', 'grant', 'grant', 'grant', 'grant', 'deny', 'grant', 'deny', 'deny', 'grant', 'grant', 'deny', 'deny', 'grant', 'deny', 'deny', 'grant', 'grant', 'grant', 'grant', 'deny', 'grant', 'grant', 'grant', 'grant', 'deny', 'deny', 'grant', 'deny', 'grant', 'grant', 'deny', 'grant', 'deny', 'deny', 'deny', 'grant', 'deny', 'grant', 'deny', 'grant', 'grant', 'deny', 'deny', 'deny', 'grant', 'grant', 'grant', 'grant', 'grant', 'deny', 'deny', 'deny']}}\n",
      "Epoch 3 completed\n",
      "Accuracy: {'accuracy': 0.8326180257510729}\n",
      "loss : 0.5227746486663818\n",
      "Evaluating model on test set\n",
      "{'accuracy': 0.6428571428571429, 'precision': 0.6666666666666666, 'recall': 0.75, 'csv': {'brief': ['gov.uscourts.cand.34465.288.0.txt', 'gov.uscourts.nysd.316362.316.0.txt', 'gov.uscourts.dcd.129507.9.0.txt', 'gov.uscourts.ded.7515.137.0.txt', 'gov.uscourts.txsd.1368817.38.0.txt', 'gov.uscourts.wawd.172919.11.0.txt', 'gov.uscourts.cand.196553.34.0.txt', 'gov.uscourts.akd.243.46.0.txt', 'gov.uscourts.azd.384949.15.0.txt', 'gov.uscourts.mad.138808.27.0.txt', 'gov.uscourts.nced.86451.39.0.txt', 'gov.uscourts.mad.13855.48.0.txt', 'gov.uscourts.akd.336.70.0.txt', 'gov.uscourts.dcd.169197.15.0.txt', 'gov.uscourts.flnd.78373.183.0.txt', 'gov.uscourts.flmd.185863.26.0.txt', 'gov.uscourts.gamd.69935.212.0.txt', 'gov.uscourts.mied.295088.60.0.txt', 'gov.uscourts.utd.80761.38.0.txt', 'gov.uscourts.txed.104068.225.0.txt', 'gov.uscourts.mad.118796.29.0.txt', 'gov.uscourts.nysd.312386.11.0.txt', 'gov.uscourts.txed.119083.179.0.txt', 'gov.uscourts.flmd.323947.99.0.txt', 'gov.uscourts.casd.253104.19.0.txt', 'gov.uscourts.cand.197984.2292.0.txt', 'gov.uscourts.cand.197984.2195.0.txt', 'gov.uscourts.nysd.323651.74.0.txt', 'gov.uscourts.cand.187342.9.0.txt', 'gov.uscourts.cand.203194.33.0.txt', 'gov.uscourts.insd.41796.146.0.txt', 'gov.uscourts.mad.149233.76.0.txt', 'gov.uscourts.vaed.269931.46.0.txt', 'gov.uscourts.mad.123555.68.0.txt', 'gov.uscourts.med.40349.108.0.txt', 'gov.uscourts.mad.98545.33.0.txt', 'gov.uscourts.wawd.214849.103.0.txt', 'gov.uscourts.mad.138034.25.0.txt', 'gov.uscourts.utd.80761.52.0.txt', 'gov.uscourts.nmd.249540.34.0.txt', 'gov.uscourts.flmd.299494.47.0.txt', 'gov.uscourts.scd.194409.52.0.txt', 'gov.uscourts.wawd.174096.145.0.txt', 'gov.uscourts.nyed.361979.119.0.txt', 'gov.uscourts.mdd.256416.21.0.txt', 'gov.uscourts.caed.224936.29.0.txt', 'gov.uscourts.dcd.148138.10.0.txt', 'gov.uscourts.cod.150184.136.0.txt', 'gov.uscourts.txwd.745575.19.0.txt', 'gov.uscourts.txed.93303.234.0.txt', 'gov.uscourts.vtd.18657.126.0.txt', 'gov.uscourts.casd.261835.11.0.txt', 'gov.uscourts.ksd.100034.14.0.txt', 'gov.uscourts.miwd.5376.106.0.txt', 'gov.uscourts.med.49305.40.0.txt', 'gov.uscourts.cand.197658.24.0.txt'], 'predict': ['grant', 'grant', 'grant', 'grant', 'deny', 'grant', 'grant', 'grant', 'grant', 'grant', 'grant', 'grant', 'grant', 'grant', 'deny', 'deny', 'grant', 'grant', 'deny', 'grant', 'grant', 'grant', 'deny', 'deny', 'deny', 'deny', 'deny', 'grant', 'grant', 'grant', 'grant', 'grant', 'grant', 'grant', 'grant', 'grant', 'grant', 'grant', 'grant', 'grant', 'deny', 'grant', 'deny', 'grant', 'deny', 'deny', 'deny', 'deny', 'grant', 'deny', 'grant', 'deny', 'grant', 'deny', 'deny', 'deny'], 'score': [0.60972834, 0.61015034, 0.7190696, 0.6481083, 0.38961044, 0.7400677, 0.5703068, 0.7025723, 0.62841403, 0.6018568, 0.5808743, 0.67631584, 0.7668314, 0.5045315, 0.38968217, 0.44208393, 0.5982305, 0.62900794, 0.42257056, 0.5152212, 0.7184649, 0.68929374, 0.33418095, 0.32872978, 0.3471771, 0.43890685, 0.43862224, 0.76896244, 0.510728, 0.75609326, 0.67737526, 0.7779697, 0.758846, 0.7183657, 0.71070474, 0.69328225, 0.72027194, 0.78542835, 0.7880893, 0.72730726, 0.2353097, 0.78025216, 0.24132241, 0.55203426, 0.3841841, 0.31636742, 0.31995994, 0.32546535, 0.6922633, 0.31357405, 0.6585355, 0.4775528, 0.5742104, 0.4259292, 0.28721887, 0.32330778], 'truth': ['deny', 'grant', 'grant', 'grant', 'grant', 'grant', 'grant', 'grant', 'deny', 'grant', 'deny', 'deny', 'grant', 'grant', 'deny', 'deny', 'grant', 'deny', 'deny', 'grant', 'grant', 'grant', 'grant', 'deny', 'grant', 'grant', 'grant', 'grant', 'deny', 'deny', 'grant', 'deny', 'grant', 'grant', 'deny', 'grant', 'deny', 'deny', 'deny', 'grant', 'deny', 'grant', 'deny', 'grant', 'grant', 'deny', 'deny', 'deny', 'grant', 'grant', 'grant', 'grant', 'grant', 'deny', 'deny', 'deny']}}\n",
      "Saving model\n",
      "Epoch 4 completed\n",
      "Accuracy: {'accuracy': 0.9313304721030042}\n",
      "loss : 0.3264007826646169\n",
      "Evaluating model on test set\n",
      "{'accuracy': 0.5714285714285714, 'precision': 0.6428571428571429, 'recall': 0.5625, 'csv': {'brief': ['gov.uscourts.cand.34465.288.0.txt', 'gov.uscourts.nysd.316362.316.0.txt', 'gov.uscourts.dcd.129507.9.0.txt', 'gov.uscourts.ded.7515.137.0.txt', 'gov.uscourts.txsd.1368817.38.0.txt', 'gov.uscourts.wawd.172919.11.0.txt', 'gov.uscourts.cand.196553.34.0.txt', 'gov.uscourts.akd.243.46.0.txt', 'gov.uscourts.azd.384949.15.0.txt', 'gov.uscourts.mad.138808.27.0.txt', 'gov.uscourts.nced.86451.39.0.txt', 'gov.uscourts.mad.13855.48.0.txt', 'gov.uscourts.akd.336.70.0.txt', 'gov.uscourts.dcd.169197.15.0.txt', 'gov.uscourts.flnd.78373.183.0.txt', 'gov.uscourts.flmd.185863.26.0.txt', 'gov.uscourts.gamd.69935.212.0.txt', 'gov.uscourts.mied.295088.60.0.txt', 'gov.uscourts.utd.80761.38.0.txt', 'gov.uscourts.txed.104068.225.0.txt', 'gov.uscourts.mad.118796.29.0.txt', 'gov.uscourts.nysd.312386.11.0.txt', 'gov.uscourts.txed.119083.179.0.txt', 'gov.uscourts.flmd.323947.99.0.txt', 'gov.uscourts.casd.253104.19.0.txt', 'gov.uscourts.cand.197984.2292.0.txt', 'gov.uscourts.cand.197984.2195.0.txt', 'gov.uscourts.nysd.323651.74.0.txt', 'gov.uscourts.cand.187342.9.0.txt', 'gov.uscourts.cand.203194.33.0.txt', 'gov.uscourts.insd.41796.146.0.txt', 'gov.uscourts.mad.149233.76.0.txt', 'gov.uscourts.vaed.269931.46.0.txt', 'gov.uscourts.mad.123555.68.0.txt', 'gov.uscourts.med.40349.108.0.txt', 'gov.uscourts.mad.98545.33.0.txt', 'gov.uscourts.wawd.214849.103.0.txt', 'gov.uscourts.mad.138034.25.0.txt', 'gov.uscourts.utd.80761.52.0.txt', 'gov.uscourts.nmd.249540.34.0.txt', 'gov.uscourts.flmd.299494.47.0.txt', 'gov.uscourts.scd.194409.52.0.txt', 'gov.uscourts.wawd.174096.145.0.txt', 'gov.uscourts.nyed.361979.119.0.txt', 'gov.uscourts.mdd.256416.21.0.txt', 'gov.uscourts.caed.224936.29.0.txt', 'gov.uscourts.dcd.148138.10.0.txt', 'gov.uscourts.cod.150184.136.0.txt', 'gov.uscourts.txwd.745575.19.0.txt', 'gov.uscourts.txed.93303.234.0.txt', 'gov.uscourts.vtd.18657.126.0.txt', 'gov.uscourts.casd.261835.11.0.txt', 'gov.uscourts.ksd.100034.14.0.txt', 'gov.uscourts.miwd.5376.106.0.txt', 'gov.uscourts.med.49305.40.0.txt', 'gov.uscourts.cand.197658.24.0.txt'], 'predict': ['grant', 'grant', 'grant', 'grant', 'deny', 'grant', 'deny', 'grant', 'deny', 'deny', 'deny', 'grant', 'grant', 'deny', 'deny', 'deny', 'grant', 'grant', 'deny', 'deny', 'grant', 'grant', 'deny', 'deny', 'deny', 'deny', 'deny', 'grant', 'grant', 'grant', 'grant', 'grant', 'grant', 'grant', 'grant', 'deny', 'grant', 'grant', 'grant', 'grant', 'deny', 'grant', 'deny', 'grant', 'deny', 'deny', 'deny', 'deny', 'grant', 'deny', 'grant', 'deny', 'deny', 'deny', 'deny', 'deny'], 'score': [0.56697077, 0.6581493, 0.7234297, 0.77575886, 0.26100603, 0.79705966, 0.39079362, 0.7531772, 0.29060805, 0.44323975, 0.30511004, 0.7507497, 0.84035665, 0.27454433, 0.16227809, 0.20862651, 0.6303114, 0.7731349, 0.20072058, 0.21599638, 0.6851516, 0.6970639, 0.173551, 0.19692478, 0.14801684, 0.24570897, 0.24182506, 0.8040332, 0.5153273, 0.8474246, 0.7008352, 0.85554755, 0.7432314, 0.7323927, 0.8164565, 0.2519306, 0.75666815, 0.83951056, 0.8411965, 0.739537, 0.12812574, 0.828347, 0.14222395, 0.6827662, 0.18158057, 0.15604123, 0.13574035, 0.30441436, 0.76987004, 0.14422446, 0.65913695, 0.2906237, 0.44739056, 0.2674377, 0.15688659, 0.12821878], 'truth': ['deny', 'grant', 'grant', 'grant', 'grant', 'grant', 'grant', 'grant', 'deny', 'grant', 'deny', 'deny', 'grant', 'grant', 'deny', 'deny', 'grant', 'deny', 'deny', 'grant', 'grant', 'grant', 'grant', 'deny', 'grant', 'grant', 'grant', 'grant', 'deny', 'deny', 'grant', 'deny', 'grant', 'grant', 'deny', 'grant', 'deny', 'deny', 'deny', 'grant', 'deny', 'grant', 'deny', 'grant', 'grant', 'deny', 'deny', 'deny', 'grant', 'grant', 'grant', 'grant', 'grant', 'deny', 'deny', 'deny']}}\n",
      "Epoch 5 completed\n",
      "Accuracy: {'accuracy': 0.9742489270386266}\n",
      "loss : 0.17369398226340613\n",
      "Evaluating model on test set\n",
      "{'accuracy': 0.5892857142857143, 'precision': 0.6666666666666666, 'recall': 0.5625, 'csv': {'brief': ['gov.uscourts.cand.34465.288.0.txt', 'gov.uscourts.nysd.316362.316.0.txt', 'gov.uscourts.dcd.129507.9.0.txt', 'gov.uscourts.ded.7515.137.0.txt', 'gov.uscourts.txsd.1368817.38.0.txt', 'gov.uscourts.wawd.172919.11.0.txt', 'gov.uscourts.cand.196553.34.0.txt', 'gov.uscourts.akd.243.46.0.txt', 'gov.uscourts.azd.384949.15.0.txt', 'gov.uscourts.mad.138808.27.0.txt', 'gov.uscourts.nced.86451.39.0.txt', 'gov.uscourts.mad.13855.48.0.txt', 'gov.uscourts.akd.336.70.0.txt', 'gov.uscourts.dcd.169197.15.0.txt', 'gov.uscourts.flnd.78373.183.0.txt', 'gov.uscourts.flmd.185863.26.0.txt', 'gov.uscourts.gamd.69935.212.0.txt', 'gov.uscourts.mied.295088.60.0.txt', 'gov.uscourts.utd.80761.38.0.txt', 'gov.uscourts.txed.104068.225.0.txt', 'gov.uscourts.mad.118796.29.0.txt', 'gov.uscourts.nysd.312386.11.0.txt', 'gov.uscourts.txed.119083.179.0.txt', 'gov.uscourts.flmd.323947.99.0.txt', 'gov.uscourts.casd.253104.19.0.txt', 'gov.uscourts.cand.197984.2292.0.txt', 'gov.uscourts.cand.197984.2195.0.txt', 'gov.uscourts.nysd.323651.74.0.txt', 'gov.uscourts.cand.187342.9.0.txt', 'gov.uscourts.cand.203194.33.0.txt', 'gov.uscourts.insd.41796.146.0.txt', 'gov.uscourts.mad.149233.76.0.txt', 'gov.uscourts.vaed.269931.46.0.txt', 'gov.uscourts.mad.123555.68.0.txt', 'gov.uscourts.med.40349.108.0.txt', 'gov.uscourts.mad.98545.33.0.txt', 'gov.uscourts.wawd.214849.103.0.txt', 'gov.uscourts.mad.138034.25.0.txt', 'gov.uscourts.utd.80761.52.0.txt', 'gov.uscourts.nmd.249540.34.0.txt', 'gov.uscourts.flmd.299494.47.0.txt', 'gov.uscourts.scd.194409.52.0.txt', 'gov.uscourts.wawd.174096.145.0.txt', 'gov.uscourts.nyed.361979.119.0.txt', 'gov.uscourts.mdd.256416.21.0.txt', 'gov.uscourts.caed.224936.29.0.txt', 'gov.uscourts.dcd.148138.10.0.txt', 'gov.uscourts.cod.150184.136.0.txt', 'gov.uscourts.txwd.745575.19.0.txt', 'gov.uscourts.txed.93303.234.0.txt', 'gov.uscourts.vtd.18657.126.0.txt', 'gov.uscourts.casd.261835.11.0.txt', 'gov.uscourts.ksd.100034.14.0.txt', 'gov.uscourts.miwd.5376.106.0.txt', 'gov.uscourts.med.49305.40.0.txt', 'gov.uscourts.cand.197658.24.0.txt'], 'predict': ['deny', 'grant', 'grant', 'grant', 'deny', 'grant', 'deny', 'grant', 'deny', 'deny', 'deny', 'grant', 'grant', 'grant', 'deny', 'deny', 'deny', 'grant', 'deny', 'deny', 'grant', 'grant', 'deny', 'deny', 'deny', 'deny', 'deny', 'grant', 'grant', 'grant', 'deny', 'grant', 'grant', 'grant', 'grant', 'grant', 'grant', 'grant', 'grant', 'grant', 'deny', 'grant', 'deny', 'grant', 'deny', 'deny', 'deny', 'deny', 'grant', 'deny', 'grant', 'deny', 'deny', 'deny', 'deny', 'deny'], 'score': [0.4090266, 0.53241324, 0.7450855, 0.84906787, 0.12844382, 0.76200837, 0.15395841, 0.7198808, 0.09712447, 0.46951032, 0.22357112, 0.82303655, 0.84428066, 0.6712833, 0.09037327, 0.1076243, 0.32051757, 0.6597084, 0.081304476, 0.16656905, 0.63706857, 0.83227426, 0.09548474, 0.10933019, 0.09022951, 0.18457586, 0.40267107, 0.84636235, 0.56594, 0.8845539, 0.46600264, 0.89260375, 0.6094, 0.7604231, 0.8543656, 0.8636699, 0.7106809, 0.8331756, 0.7406813, 0.7453685, 0.07698654, 0.83759755, 0.097260825, 0.62946033, 0.10701551, 0.105880015, 0.07947389, 0.19468255, 0.77154684, 0.08920814, 0.6838904, 0.12430981, 0.22875315, 0.120725535, 0.080656305, 0.079529546], 'truth': ['deny', 'grant', 'grant', 'grant', 'grant', 'grant', 'grant', 'grant', 'deny', 'grant', 'deny', 'deny', 'grant', 'grant', 'deny', 'deny', 'grant', 'deny', 'deny', 'grant', 'grant', 'grant', 'grant', 'deny', 'grant', 'grant', 'grant', 'grant', 'deny', 'deny', 'grant', 'deny', 'grant', 'grant', 'deny', 'grant', 'deny', 'deny', 'deny', 'grant', 'deny', 'grant', 'deny', 'grant', 'grant', 'deny', 'deny', 'deny', 'grant', 'grant', 'grant', 'grant', 'grant', 'deny', 'deny', 'deny']}}\n",
      "Epoch 6 completed\n",
      "Accuracy: {'accuracy': 0.9957081545064378}\n",
      "loss : 0.1018533671895663\n",
      "Evaluating model on test set\n",
      "{'accuracy': 0.5714285714285714, 'precision': 0.6666666666666666, 'recall': 0.5, 'csv': {'brief': ['gov.uscourts.cand.34465.288.0.txt', 'gov.uscourts.nysd.316362.316.0.txt', 'gov.uscourts.dcd.129507.9.0.txt', 'gov.uscourts.ded.7515.137.0.txt', 'gov.uscourts.txsd.1368817.38.0.txt', 'gov.uscourts.wawd.172919.11.0.txt', 'gov.uscourts.cand.196553.34.0.txt', 'gov.uscourts.akd.243.46.0.txt', 'gov.uscourts.azd.384949.15.0.txt', 'gov.uscourts.mad.138808.27.0.txt', 'gov.uscourts.nced.86451.39.0.txt', 'gov.uscourts.mad.13855.48.0.txt', 'gov.uscourts.akd.336.70.0.txt', 'gov.uscourts.dcd.169197.15.0.txt', 'gov.uscourts.flnd.78373.183.0.txt', 'gov.uscourts.flmd.185863.26.0.txt', 'gov.uscourts.gamd.69935.212.0.txt', 'gov.uscourts.mied.295088.60.0.txt', 'gov.uscourts.utd.80761.38.0.txt', 'gov.uscourts.txed.104068.225.0.txt', 'gov.uscourts.mad.118796.29.0.txt', 'gov.uscourts.nysd.312386.11.0.txt', 'gov.uscourts.txed.119083.179.0.txt', 'gov.uscourts.flmd.323947.99.0.txt', 'gov.uscourts.casd.253104.19.0.txt', 'gov.uscourts.cand.197984.2292.0.txt', 'gov.uscourts.cand.197984.2195.0.txt', 'gov.uscourts.nysd.323651.74.0.txt', 'gov.uscourts.cand.187342.9.0.txt', 'gov.uscourts.cand.203194.33.0.txt', 'gov.uscourts.insd.41796.146.0.txt', 'gov.uscourts.mad.149233.76.0.txt', 'gov.uscourts.vaed.269931.46.0.txt', 'gov.uscourts.mad.123555.68.0.txt', 'gov.uscourts.med.40349.108.0.txt', 'gov.uscourts.mad.98545.33.0.txt', 'gov.uscourts.wawd.214849.103.0.txt', 'gov.uscourts.mad.138034.25.0.txt', 'gov.uscourts.utd.80761.52.0.txt', 'gov.uscourts.nmd.249540.34.0.txt', 'gov.uscourts.flmd.299494.47.0.txt', 'gov.uscourts.scd.194409.52.0.txt', 'gov.uscourts.wawd.174096.145.0.txt', 'gov.uscourts.nyed.361979.119.0.txt', 'gov.uscourts.mdd.256416.21.0.txt', 'gov.uscourts.caed.224936.29.0.txt', 'gov.uscourts.dcd.148138.10.0.txt', 'gov.uscourts.cod.150184.136.0.txt', 'gov.uscourts.txwd.745575.19.0.txt', 'gov.uscourts.txed.93303.234.0.txt', 'gov.uscourts.vtd.18657.126.0.txt', 'gov.uscourts.casd.261835.11.0.txt', 'gov.uscourts.ksd.100034.14.0.txt', 'gov.uscourts.miwd.5376.106.0.txt', 'gov.uscourts.med.49305.40.0.txt', 'gov.uscourts.cand.197658.24.0.txt'], 'predict': ['deny', 'deny', 'deny', 'grant', 'deny', 'grant', 'deny', 'grant', 'deny', 'grant', 'deny', 'grant', 'grant', 'deny', 'deny', 'deny', 'deny', 'grant', 'deny', 'grant', 'grant', 'grant', 'deny', 'deny', 'deny', 'deny', 'deny', 'grant', 'deny', 'grant', 'deny', 'grant', 'grant', 'grant', 'grant', 'deny', 'grant', 'grant', 'grant', 'grant', 'deny', 'grant', 'deny', 'grant', 'deny', 'deny', 'deny', 'deny', 'grant', 'deny', 'grant', 'deny', 'deny', 'deny', 'deny', 'deny'], 'score': [0.25205156, 0.49865508, 0.45467886, 0.854777, 0.07238175, 0.8193438, 0.1505028, 0.7220897, 0.08482978, 0.61583775, 0.20453678, 0.8951488, 0.84433854, 0.11869271, 0.06270167, 0.1325769, 0.49767846, 0.62743646, 0.06917767, 0.5488774, 0.76001763, 0.6259169, 0.0814227, 0.08586608, 0.088962115, 0.16613027, 0.21280132, 0.9104362, 0.3318693, 0.9324084, 0.39628208, 0.9046625, 0.7153828, 0.6511181, 0.8562412, 0.41970685, 0.83391684, 0.81580836, 0.6163775, 0.85604644, 0.066921934, 0.8542805, 0.10169405, 0.6992468, 0.08580019, 0.08715061, 0.07137178, 0.1488236, 0.8087511, 0.09724412, 0.7937404, 0.16153064, 0.19476365, 0.103952795, 0.062420852, 0.08547141], 'truth': ['deny', 'grant', 'grant', 'grant', 'grant', 'grant', 'grant', 'grant', 'deny', 'grant', 'deny', 'deny', 'grant', 'grant', 'deny', 'deny', 'grant', 'deny', 'deny', 'grant', 'grant', 'grant', 'grant', 'deny', 'grant', 'grant', 'grant', 'grant', 'deny', 'deny', 'grant', 'deny', 'grant', 'grant', 'deny', 'grant', 'deny', 'deny', 'deny', 'grant', 'deny', 'grant', 'deny', 'grant', 'grant', 'deny', 'deny', 'deny', 'grant', 'grant', 'grant', 'grant', 'grant', 'deny', 'deny', 'deny']}}\n",
      "Epoch 7 completed\n",
      "Accuracy: {'accuracy': 0.9957081545064378}\n",
      "loss : 0.06990610063076019\n",
      "Evaluating model on test set\n",
      "{'accuracy': 0.6785714285714286, 'precision': 0.7058823529411765, 'recall': 0.75, 'csv': {'brief': ['gov.uscourts.cand.34465.288.0.txt', 'gov.uscourts.nysd.316362.316.0.txt', 'gov.uscourts.dcd.129507.9.0.txt', 'gov.uscourts.ded.7515.137.0.txt', 'gov.uscourts.txsd.1368817.38.0.txt', 'gov.uscourts.wawd.172919.11.0.txt', 'gov.uscourts.cand.196553.34.0.txt', 'gov.uscourts.akd.243.46.0.txt', 'gov.uscourts.azd.384949.15.0.txt', 'gov.uscourts.mad.138808.27.0.txt', 'gov.uscourts.nced.86451.39.0.txt', 'gov.uscourts.mad.13855.48.0.txt', 'gov.uscourts.akd.336.70.0.txt', 'gov.uscourts.dcd.169197.15.0.txt', 'gov.uscourts.flnd.78373.183.0.txt', 'gov.uscourts.flmd.185863.26.0.txt', 'gov.uscourts.gamd.69935.212.0.txt', 'gov.uscourts.mied.295088.60.0.txt', 'gov.uscourts.utd.80761.38.0.txt', 'gov.uscourts.txed.104068.225.0.txt', 'gov.uscourts.mad.118796.29.0.txt', 'gov.uscourts.nysd.312386.11.0.txt', 'gov.uscourts.txed.119083.179.0.txt', 'gov.uscourts.flmd.323947.99.0.txt', 'gov.uscourts.casd.253104.19.0.txt', 'gov.uscourts.cand.197984.2292.0.txt', 'gov.uscourts.cand.197984.2195.0.txt', 'gov.uscourts.nysd.323651.74.0.txt', 'gov.uscourts.cand.187342.9.0.txt', 'gov.uscourts.cand.203194.33.0.txt', 'gov.uscourts.insd.41796.146.0.txt', 'gov.uscourts.mad.149233.76.0.txt', 'gov.uscourts.vaed.269931.46.0.txt', 'gov.uscourts.mad.123555.68.0.txt', 'gov.uscourts.med.40349.108.0.txt', 'gov.uscourts.mad.98545.33.0.txt', 'gov.uscourts.wawd.214849.103.0.txt', 'gov.uscourts.mad.138034.25.0.txt', 'gov.uscourts.utd.80761.52.0.txt', 'gov.uscourts.nmd.249540.34.0.txt', 'gov.uscourts.flmd.299494.47.0.txt', 'gov.uscourts.scd.194409.52.0.txt', 'gov.uscourts.wawd.174096.145.0.txt', 'gov.uscourts.nyed.361979.119.0.txt', 'gov.uscourts.mdd.256416.21.0.txt', 'gov.uscourts.caed.224936.29.0.txt', 'gov.uscourts.dcd.148138.10.0.txt', 'gov.uscourts.cod.150184.136.0.txt', 'gov.uscourts.txwd.745575.19.0.txt', 'gov.uscourts.txed.93303.234.0.txt', 'gov.uscourts.vtd.18657.126.0.txt', 'gov.uscourts.casd.261835.11.0.txt', 'gov.uscourts.ksd.100034.14.0.txt', 'gov.uscourts.miwd.5376.106.0.txt', 'gov.uscourts.med.49305.40.0.txt', 'gov.uscourts.cand.197658.24.0.txt'], 'predict': ['grant', 'grant', 'grant', 'grant', 'deny', 'grant', 'deny', 'grant', 'deny', 'grant', 'deny', 'grant', 'grant', 'grant', 'deny', 'deny', 'grant', 'grant', 'deny', 'grant', 'grant', 'grant', 'deny', 'deny', 'deny', 'deny', 'grant', 'grant', 'grant', 'grant', 'grant', 'grant', 'grant', 'grant', 'grant', 'grant', 'grant', 'grant', 'grant', 'grant', 'deny', 'grant', 'deny', 'grant', 'deny', 'deny', 'deny', 'deny', 'grant', 'deny', 'grant', 'grant', 'deny', 'deny', 'deny', 'deny'], 'score': [0.5719635, 0.8453026, 0.9132125, 0.9470089, 0.1643261, 0.9345796, 0.4189773, 0.935647, 0.15089332, 0.8326616, 0.38011867, 0.9431377, 0.9342482, 0.75433385, 0.11836835, 0.27558178, 0.8880553, 0.9056248, 0.1286291, 0.7510884, 0.90474856, 0.9354053, 0.09474224, 0.15899482, 0.105548546, 0.47979575, 0.6173746, 0.9411936, 0.76771045, 0.93866205, 0.7833679, 0.94741035, 0.9093717, 0.91244465, 0.9358815, 0.91026044, 0.9350444, 0.9386641, 0.9408758, 0.9381713, 0.07756418, 0.940008, 0.1103273, 0.90267056, 0.076293066, 0.26076695, 0.10182743, 0.24541701, 0.92454547, 0.1037404, 0.9182178, 0.54234654, 0.46320057, 0.39908776, 0.08352002, 0.13229938], 'truth': ['deny', 'grant', 'grant', 'grant', 'grant', 'grant', 'grant', 'grant', 'deny', 'grant', 'deny', 'deny', 'grant', 'grant', 'deny', 'deny', 'grant', 'deny', 'deny', 'grant', 'grant', 'grant', 'grant', 'deny', 'grant', 'grant', 'grant', 'grant', 'deny', 'deny', 'grant', 'deny', 'grant', 'grant', 'deny', 'grant', 'deny', 'deny', 'deny', 'grant', 'deny', 'grant', 'deny', 'grant', 'grant', 'deny', 'deny', 'deny', 'grant', 'grant', 'grant', 'grant', 'grant', 'deny', 'deny', 'deny']}}\n",
      "Saving model\n",
      "Epoch 8 completed\n",
      "Accuracy: {'accuracy': 0.9957081545064378}\n",
      "loss : 0.059269762287537255\n",
      "Evaluating model on test set\n",
      "{'accuracy': 0.5892857142857143, 'precision': 0.68, 'recall': 0.53125, 'csv': {'brief': ['gov.uscourts.cand.34465.288.0.txt', 'gov.uscourts.nysd.316362.316.0.txt', 'gov.uscourts.dcd.129507.9.0.txt', 'gov.uscourts.ded.7515.137.0.txt', 'gov.uscourts.txsd.1368817.38.0.txt', 'gov.uscourts.wawd.172919.11.0.txt', 'gov.uscourts.cand.196553.34.0.txt', 'gov.uscourts.akd.243.46.0.txt', 'gov.uscourts.azd.384949.15.0.txt', 'gov.uscourts.mad.138808.27.0.txt', 'gov.uscourts.nced.86451.39.0.txt', 'gov.uscourts.mad.13855.48.0.txt', 'gov.uscourts.akd.336.70.0.txt', 'gov.uscourts.dcd.169197.15.0.txt', 'gov.uscourts.flnd.78373.183.0.txt', 'gov.uscourts.flmd.185863.26.0.txt', 'gov.uscourts.gamd.69935.212.0.txt', 'gov.uscourts.mied.295088.60.0.txt', 'gov.uscourts.utd.80761.38.0.txt', 'gov.uscourts.txed.104068.225.0.txt', 'gov.uscourts.mad.118796.29.0.txt', 'gov.uscourts.nysd.312386.11.0.txt', 'gov.uscourts.txed.119083.179.0.txt', 'gov.uscourts.flmd.323947.99.0.txt', 'gov.uscourts.casd.253104.19.0.txt', 'gov.uscourts.cand.197984.2292.0.txt', 'gov.uscourts.cand.197984.2195.0.txt', 'gov.uscourts.nysd.323651.74.0.txt', 'gov.uscourts.cand.187342.9.0.txt', 'gov.uscourts.cand.203194.33.0.txt', 'gov.uscourts.insd.41796.146.0.txt', 'gov.uscourts.mad.149233.76.0.txt', 'gov.uscourts.vaed.269931.46.0.txt', 'gov.uscourts.mad.123555.68.0.txt', 'gov.uscourts.med.40349.108.0.txt', 'gov.uscourts.mad.98545.33.0.txt', 'gov.uscourts.wawd.214849.103.0.txt', 'gov.uscourts.mad.138034.25.0.txt', 'gov.uscourts.utd.80761.52.0.txt', 'gov.uscourts.nmd.249540.34.0.txt', 'gov.uscourts.flmd.299494.47.0.txt', 'gov.uscourts.scd.194409.52.0.txt', 'gov.uscourts.wawd.174096.145.0.txt', 'gov.uscourts.nyed.361979.119.0.txt', 'gov.uscourts.mdd.256416.21.0.txt', 'gov.uscourts.caed.224936.29.0.txt', 'gov.uscourts.dcd.148138.10.0.txt', 'gov.uscourts.cod.150184.136.0.txt', 'gov.uscourts.txwd.745575.19.0.txt', 'gov.uscourts.txed.93303.234.0.txt', 'gov.uscourts.vtd.18657.126.0.txt', 'gov.uscourts.casd.261835.11.0.txt', 'gov.uscourts.ksd.100034.14.0.txt', 'gov.uscourts.miwd.5376.106.0.txt', 'gov.uscourts.med.49305.40.0.txt', 'gov.uscourts.cand.197658.24.0.txt'], 'predict': ['deny', 'deny', 'grant', 'grant', 'deny', 'grant', 'deny', 'grant', 'deny', 'grant', 'deny', 'grant', 'grant', 'deny', 'deny', 'deny', 'grant', 'grant', 'deny', 'deny', 'grant', 'grant', 'deny', 'deny', 'deny', 'deny', 'deny', 'grant', 'deny', 'grant', 'deny', 'grant', 'grant', 'grant', 'grant', 'deny', 'grant', 'grant', 'grant', 'grant', 'deny', 'grant', 'deny', 'grant', 'deny', 'deny', 'deny', 'deny', 'grant', 'deny', 'grant', 'deny', 'deny', 'deny', 'deny', 'deny'], 'score': [0.3767851, 0.28313342, 0.92974526, 0.94139206, 0.05519895, 0.893739, 0.07945859, 0.7582126, 0.050142687, 0.5527437, 0.101331, 0.9042387, 0.8754191, 0.10798759, 0.04313595, 0.06409158, 0.5837412, 0.72287416, 0.042640787, 0.45074388, 0.685531, 0.88004136, 0.046494357, 0.05303043, 0.046530347, 0.10862631, 0.14846444, 0.954783, 0.19615477, 0.9572682, 0.434065, 0.93694615, 0.69068, 0.9124117, 0.8934485, 0.19346938, 0.8542984, 0.8577688, 0.8418689, 0.8597014, 0.039788704, 0.8763776, 0.059730727, 0.7864976, 0.043548167, 0.056233272, 0.03962788, 0.07564635, 0.8372387, 0.04503984, 0.84042704, 0.13186112, 0.06947065, 0.071849935, 0.03890717, 0.047712058], 'truth': ['deny', 'grant', 'grant', 'grant', 'grant', 'grant', 'grant', 'grant', 'deny', 'grant', 'deny', 'deny', 'grant', 'grant', 'deny', 'deny', 'grant', 'deny', 'deny', 'grant', 'grant', 'grant', 'grant', 'deny', 'grant', 'grant', 'grant', 'grant', 'deny', 'deny', 'grant', 'deny', 'grant', 'grant', 'deny', 'grant', 'deny', 'deny', 'deny', 'grant', 'deny', 'grant', 'deny', 'grant', 'grant', 'deny', 'deny', 'deny', 'grant', 'grant', 'grant', 'grant', 'grant', 'deny', 'deny', 'deny']}}\n",
      "Epoch 9 completed\n",
      "Accuracy: {'accuracy': 1.0}\n",
      "loss : 0.04012830679615339\n",
      "Evaluating model on test set\n",
      "{'accuracy': 0.625, 'precision': 0.6896551724137931, 'recall': 0.625, 'csv': {'brief': ['gov.uscourts.cand.34465.288.0.txt', 'gov.uscourts.nysd.316362.316.0.txt', 'gov.uscourts.dcd.129507.9.0.txt', 'gov.uscourts.ded.7515.137.0.txt', 'gov.uscourts.txsd.1368817.38.0.txt', 'gov.uscourts.wawd.172919.11.0.txt', 'gov.uscourts.cand.196553.34.0.txt', 'gov.uscourts.akd.243.46.0.txt', 'gov.uscourts.azd.384949.15.0.txt', 'gov.uscourts.mad.138808.27.0.txt', 'gov.uscourts.nced.86451.39.0.txt', 'gov.uscourts.mad.13855.48.0.txt', 'gov.uscourts.akd.336.70.0.txt', 'gov.uscourts.dcd.169197.15.0.txt', 'gov.uscourts.flnd.78373.183.0.txt', 'gov.uscourts.flmd.185863.26.0.txt', 'gov.uscourts.gamd.69935.212.0.txt', 'gov.uscourts.mied.295088.60.0.txt', 'gov.uscourts.utd.80761.38.0.txt', 'gov.uscourts.txed.104068.225.0.txt', 'gov.uscourts.mad.118796.29.0.txt', 'gov.uscourts.nysd.312386.11.0.txt', 'gov.uscourts.txed.119083.179.0.txt', 'gov.uscourts.flmd.323947.99.0.txt', 'gov.uscourts.casd.253104.19.0.txt', 'gov.uscourts.cand.197984.2292.0.txt', 'gov.uscourts.cand.197984.2195.0.txt', 'gov.uscourts.nysd.323651.74.0.txt', 'gov.uscourts.cand.187342.9.0.txt', 'gov.uscourts.cand.203194.33.0.txt', 'gov.uscourts.insd.41796.146.0.txt', 'gov.uscourts.mad.149233.76.0.txt', 'gov.uscourts.vaed.269931.46.0.txt', 'gov.uscourts.mad.123555.68.0.txt', 'gov.uscourts.med.40349.108.0.txt', 'gov.uscourts.mad.98545.33.0.txt', 'gov.uscourts.wawd.214849.103.0.txt', 'gov.uscourts.mad.138034.25.0.txt', 'gov.uscourts.utd.80761.52.0.txt', 'gov.uscourts.nmd.249540.34.0.txt', 'gov.uscourts.flmd.299494.47.0.txt', 'gov.uscourts.scd.194409.52.0.txt', 'gov.uscourts.wawd.174096.145.0.txt', 'gov.uscourts.nyed.361979.119.0.txt', 'gov.uscourts.mdd.256416.21.0.txt', 'gov.uscourts.caed.224936.29.0.txt', 'gov.uscourts.dcd.148138.10.0.txt', 'gov.uscourts.cod.150184.136.0.txt', 'gov.uscourts.txwd.745575.19.0.txt', 'gov.uscourts.txed.93303.234.0.txt', 'gov.uscourts.vtd.18657.126.0.txt', 'gov.uscourts.casd.261835.11.0.txt', 'gov.uscourts.ksd.100034.14.0.txt', 'gov.uscourts.miwd.5376.106.0.txt', 'gov.uscourts.med.49305.40.0.txt', 'gov.uscourts.cand.197658.24.0.txt'], 'predict': ['grant', 'grant', 'grant', 'grant', 'deny', 'grant', 'deny', 'grant', 'deny', 'grant', 'deny', 'grant', 'grant', 'deny', 'deny', 'deny', 'grant', 'grant', 'deny', 'grant', 'grant', 'grant', 'deny', 'deny', 'deny', 'deny', 'deny', 'grant', 'deny', 'grant', 'grant', 'grant', 'grant', 'grant', 'grant', 'deny', 'grant', 'grant', 'grant', 'grant', 'deny', 'grant', 'deny', 'grant', 'deny', 'deny', 'deny', 'deny', 'grant', 'deny', 'grant', 'deny', 'deny', 'deny', 'deny', 'deny'], 'score': [0.59063506, 0.5567918, 0.95484877, 0.9577189, 0.053078897, 0.9456365, 0.1363911, 0.89710057, 0.056086358, 0.81535697, 0.28344595, 0.94795495, 0.9414828, 0.18086877, 0.051042926, 0.08820062, 0.83137774, 0.8922593, 0.047995936, 0.7444981, 0.8271438, 0.9237354, 0.05006391, 0.060014304, 0.04424547, 0.23003347, 0.29183507, 0.962911, 0.34390172, 0.96360695, 0.79150265, 0.9624966, 0.8817633, 0.94843954, 0.9454384, 0.4673104, 0.9315057, 0.9420235, 0.94331956, 0.92888016, 0.036308497, 0.94687337, 0.06042941, 0.8864438, 0.042197946, 0.061283384, 0.040400594, 0.11089142, 0.9286669, 0.04850113, 0.9325139, 0.2705218, 0.08471816, 0.09728162, 0.04041849, 0.053737648], 'truth': ['deny', 'grant', 'grant', 'grant', 'grant', 'grant', 'grant', 'grant', 'deny', 'grant', 'deny', 'deny', 'grant', 'grant', 'deny', 'deny', 'grant', 'deny', 'deny', 'grant', 'grant', 'grant', 'grant', 'deny', 'grant', 'grant', 'grant', 'grant', 'deny', 'deny', 'grant', 'deny', 'grant', 'grant', 'deny', 'grant', 'deny', 'deny', 'deny', 'grant', 'deny', 'grant', 'deny', 'grant', 'grant', 'deny', 'deny', 'deny', 'grant', 'grant', 'grant', 'grant', 'grant', 'deny', 'deny', 'deny']}}\n"
     ]
    },
    {
     "ename": "KeyboardInterrupt",
     "evalue": "",
     "output_type": "error",
     "traceback": [
      "\u001b[0;31m---------------------------------------------------------------------------\u001b[0m",
      "\u001b[0;31mKeyboardInterrupt\u001b[0m                         Traceback (most recent call last)",
      "Cell \u001b[0;32mIn[6], line 19\u001b[0m\n\u001b[1;32m     16\u001b[0m loss \u001b[38;5;241m=\u001b[39m outputs\u001b[38;5;241m.\u001b[39mloss\n\u001b[1;32m     17\u001b[0m loss\u001b[38;5;241m.\u001b[39mbackward()\n\u001b[0;32m---> 19\u001b[0m average_loss \u001b[38;5;241m+\u001b[39m\u001b[38;5;241m=\u001b[39m \u001b[43mloss\u001b[49m\u001b[38;5;241;43m.\u001b[39;49m\u001b[43mitem\u001b[49m\u001b[43m(\u001b[49m\u001b[43m)\u001b[49m\n\u001b[1;32m     22\u001b[0m optimizer\u001b[38;5;241m.\u001b[39mstep()\n\u001b[1;32m     24\u001b[0m optimizer\u001b[38;5;241m.\u001b[39mzero_grad()\n",
      "\u001b[0;31mKeyboardInterrupt\u001b[0m: "
     ]
    }
   ],
   "source": [
    "from tqdm.auto import tqdm\n",
    "progress_bar = tqdm(range(num_training_steps))\n",
    "\n",
    "# i wonder if the outputs.loss is the same as loss_fn(outputs, labels)\n",
    "# Try to log the values \n",
    "\n",
    "best_valid_acc = 0.0\n",
    "model.train()\n",
    "print(\"Training model\")\n",
    "for epoch in range(num_epochs):\n",
    "    acc = evaluate.load(\"accuracy\")\n",
    "    average_loss = 0\n",
    "    for batch in train_dataloader:\n",
    "        inputs = {k: v.to(device) for k, v in batch.items() if k != \"file_name\"}\n",
    "        outputs = model(**inputs)\n",
    "        loss = outputs.loss\n",
    "        loss.backward()\n",
    "        \n",
    "        average_loss += loss.item()\n",
    "        \n",
    "\n",
    "        optimizer.step()\n",
    "       \n",
    "        optimizer.zero_grad()\n",
    "        progress_bar.update(1)\n",
    "\n",
    "        # get the predictions\n",
    "        logits = outputs.logits\n",
    "        predictions = torch.argmax(logits, dim=-1)\n",
    "        acc.add_batch(predictions=predictions, references=inputs[\"labels\"])\n",
    "\n",
    "    accuracy_per_epoch = acc.compute()\n",
    "    print(f\"Epoch {epoch} completed\")\n",
    "    print(f\"Accuracy: {accuracy_per_epoch}\")\n",
    "    avg_loss = average_loss / len(train_dataloader)\n",
    "    print(f\"loss : {avg_loss}\")\n",
    "\n",
    "    print(\"Evaluating model on test set\")\n",
    "    metrics = test_metrics(model, eval_dataloader)\n",
    "    csv = metrics[\"csv\"]\n",
    "    csv = pd.DataFrame(csv)\n",
    "    print(metrics)\n",
    "    \n",
    "    wandb.log({\"loss_per_epoch\": avg_loss , \n",
    "               \"accuracy_per_epoch\": accuracy_per_epoch,\n",
    "               \"test_accuracy\" :metrics[\"accuracy\"],\n",
    "                \"test_recall\": metrics[\"recall\"],\n",
    "                \"test_precision\": metrics[\"precision\"],\n",
    "               })\n",
    "    \n",
    "    if metrics[\"accuracy\"] > best_valid_acc:\n",
    "        best_valid_acc = metrics[\"accuracy\"]\n",
    "        print(\"Saving model\")\n",
    "        model.save_pretrained(f\"../models/LLM-{model_type}-{key}-test\")\n",
    "        csv.to_csv(f\"../predictions/LLM-{model_type}-{key}-test.csv\", index=False)\n",
    "    \n",
    "wandb.finish()\n",
    "\n",
    "\n"
   ]
  },
  {
   "cell_type": "code",
   "execution_count": null,
   "metadata": {},
   "outputs": [],
   "source": []
  }
 ],
 "metadata": {
  "kernelspec": {
   "display_name": "Python 3",
   "language": "python",
   "name": "python3"
  },
  "language_info": {
   "codemirror_mode": {
    "name": "ipython",
    "version": 3
   },
   "file_extension": ".py",
   "mimetype": "text/x-python",
   "name": "python",
   "nbconvert_exporter": "python",
   "pygments_lexer": "ipython3",
   "version": "3.11.4"
  }
 },
 "nbformat": 4,
 "nbformat_minor": 2
}

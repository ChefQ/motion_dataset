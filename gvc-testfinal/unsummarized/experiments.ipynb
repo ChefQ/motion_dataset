{
 "cells": [
  {
   "cell_type": "code",
   "execution_count": 1,
   "metadata": {},
   "outputs": [],
   "source": [
    "from sklearn.feature_extraction.text import CountVectorizer\n",
    "import pandas as pd\n",
    "import numpy as np\n",
    "from sklearn.feature_extraction.text import TfidfVectorizer\n",
    "import ast\n",
    "from sklearn.linear_model import SGDClassifier\n",
    "from sklearn.pipeline import Pipeline\n",
    "from sklearn.feature_extraction.text import TfidfTransformer\n",
    "from sklearn.linear_model import LogisticRegression\n",
    "from sklearn.neighbors import KNeighborsClassifier\n",
    "from sklearn.ensemble import RandomForestClassifier\n",
    "from matplotlib import pyplot as plt\n",
    "from sklearn.metrics import confusion_matrix\n",
    "import seaborn as sns\n",
    "from sklearn.svm import LinearSVC\n",
    "import torch\n",
    "from sklearn.model_selection import cross_val_predict\n",
    "from sklearn.metrics import classification_report\n",
    "from pickle import dump, load\n",
    "import joblib\n",
    "\n",
    "import re\n",
    "from scipy import sparse\n",
    "from sentence_transformers import SentenceTransformer\n",
    "device = torch.device(\"cuda:1\" if torch.cuda.is_available() else \"cpu\")\n"
   ]
  },
  {
   "cell_type": "markdown",
   "metadata": {},
   "source": [
    "### Data (1)\n",
    "\n",
    "The tab below retrieves  all the data that will be relevant for building the traditional classifiers.\n",
    "\n",
    "set the variables  `PAIRED_PATH` and  `UNPAIRED_PATH` appropriatly"
   ]
  },
  {
   "cell_type": "code",
   "execution_count": 2,
   "metadata": {},
   "outputs": [
    {
     "data": {
      "text/html": [
       "<div>\n",
       "<style scoped>\n",
       "    .dataframe tbody tr th:only-of-type {\n",
       "        vertical-align: middle;\n",
       "    }\n",
       "\n",
       "    .dataframe tbody tr th {\n",
       "        vertical-align: top;\n",
       "    }\n",
       "\n",
       "    .dataframe thead th {\n",
       "        text-align: right;\n",
       "    }\n",
       "</style>\n",
       "<table border=\"1\" class=\"dataframe\">\n",
       "  <thead>\n",
       "    <tr style=\"text-align: right;\">\n",
       "      <th></th>\n",
       "      <th>prompt</th>\n",
       "      <th>completion</th>\n",
       "      <th>brief_type</th>\n",
       "      <th>data_type</th>\n",
       "      <th>file_path</th>\n",
       "    </tr>\n",
       "    <tr>\n",
       "      <th>file_name</th>\n",
       "      <th></th>\n",
       "      <th></th>\n",
       "      <th></th>\n",
       "      <th></th>\n",
       "      <th></th>\n",
       "    </tr>\n",
       "  </thead>\n",
       "  <tbody>\n",
       "    <tr>\n",
       "      <th>gov.uscourts.cand.34465.288.0.txt</th>\n",
       "      <td>CLRB Hanson Industries, LLC et al v. Google In...</td>\n",
       "      <td>deny</td>\n",
       "      <td>opposition</td>\n",
       "      <td>train</td>\n",
       "      <td>456</td>\n",
       "    </tr>\n",
       "    <tr>\n",
       "      <th>gov.uscourts.cand.34465.234.0.txt</th>\n",
       "      <td>CLRB Hanson Industries, LLC et al v. Google In...</td>\n",
       "      <td>deny</td>\n",
       "      <td>support</td>\n",
       "      <td>train</td>\n",
       "      <td>456</td>\n",
       "    </tr>\n",
       "    <tr>\n",
       "      <th>gov.uscourts.cand.203194.41.0.txt</th>\n",
       "      <td>Case 4:08-cv-02364-CW\\n\\n1\\n2\\n3\\n4\\n5\\n6\\n7\\n...</td>\n",
       "      <td>TBD</td>\n",
       "      <td>opposition</td>\n",
       "      <td>test</td>\n",
       "      <td>688</td>\n",
       "    </tr>\n",
       "    <tr>\n",
       "      <th>gov.uscourts.cand.203194.38.0.txt</th>\n",
       "      <td>Case 4:08-cv-02364-CW\\n1\\n2\\n3\\n4\\n5\\n6\\n7\\n8\\...</td>\n",
       "      <td>TBD</td>\n",
       "      <td>support</td>\n",
       "      <td>test</td>\n",
       "      <td>688</td>\n",
       "    </tr>\n",
       "    <tr>\n",
       "      <th>gov.uscourts.vawd.109120.162.0.txt</th>\n",
       "      <td>UNITED STATES DISTRICT COURT\\nFOR THE WESTERN ...</td>\n",
       "      <td>grant</td>\n",
       "      <td>opposition</td>\n",
       "      <td>train</td>\n",
       "      <td>1178</td>\n",
       "    </tr>\n",
       "    <tr>\n",
       "      <th>...</th>\n",
       "      <td>...</td>\n",
       "      <td>...</td>\n",
       "      <td>...</td>\n",
       "      <td>...</td>\n",
       "      <td>...</td>\n",
       "    </tr>\n",
       "    <tr>\n",
       "      <th>gov.uscourts.casd.256908.58.0.txt</th>\n",
       "      <td>Case 3:07-cv-02000-H-CAB\\n\\n1\\n2\\n3\\n\\nDocumen...</td>\n",
       "      <td>deny</td>\n",
       "      <td>support</td>\n",
       "      <td>train</td>\n",
       "      <td>892</td>\n",
       "    </tr>\n",
       "    <tr>\n",
       "      <th>gov.uscourts.cacd.470923.66.0.txt</th>\n",
       "      <td>Case 2:10-cv-03113-R -RC Document 66\\n\\nFiled ...</td>\n",
       "      <td>TBD</td>\n",
       "      <td>opposition</td>\n",
       "      <td>test</td>\n",
       "      <td>947</td>\n",
       "    </tr>\n",
       "    <tr>\n",
       "      <th>gov.uscourts.cacd.470923.65.0.txt</th>\n",
       "      <td>Case 2:10-cv-03113-R -RC Document 65\\n\\nFiled ...</td>\n",
       "      <td>TBD</td>\n",
       "      <td>support</td>\n",
       "      <td>test</td>\n",
       "      <td>947</td>\n",
       "    </tr>\n",
       "    <tr>\n",
       "      <th>gov.uscourts.casd.258578.60.0.txt</th>\n",
       "      <td>Case 3:07-cv-02174-H-BLM\\n\\n1\\n2\\n3\\n4\\n5\\n6\\n...</td>\n",
       "      <td>grant</td>\n",
       "      <td>opposition</td>\n",
       "      <td>train</td>\n",
       "      <td>835</td>\n",
       "    </tr>\n",
       "    <tr>\n",
       "      <th>gov.uscourts.casd.258578.50.0.txt</th>\n",
       "      <td>-\\n\\n \\n\\noO ODO Oo YH Oo OO FSF W ND\\n\\nano o...</td>\n",
       "      <td>grant</td>\n",
       "      <td>support</td>\n",
       "      <td>train</td>\n",
       "      <td>835</td>\n",
       "    </tr>\n",
       "  </tbody>\n",
       "</table>\n",
       "<p>2833 rows × 5 columns</p>\n",
       "</div>"
      ],
      "text/plain": [
       "                                                                               prompt  \\\n",
       "file_name                                                                               \n",
       "gov.uscourts.cand.34465.288.0.txt   CLRB Hanson Industries, LLC et al v. Google In...   \n",
       "gov.uscourts.cand.34465.234.0.txt   CLRB Hanson Industries, LLC et al v. Google In...   \n",
       "gov.uscourts.cand.203194.41.0.txt   Case 4:08-cv-02364-CW\\n\\n1\\n2\\n3\\n4\\n5\\n6\\n7\\n...   \n",
       "gov.uscourts.cand.203194.38.0.txt   Case 4:08-cv-02364-CW\\n1\\n2\\n3\\n4\\n5\\n6\\n7\\n8\\...   \n",
       "gov.uscourts.vawd.109120.162.0.txt  UNITED STATES DISTRICT COURT\\nFOR THE WESTERN ...   \n",
       "...                                                                               ...   \n",
       "gov.uscourts.casd.256908.58.0.txt   Case 3:07-cv-02000-H-CAB\\n\\n1\\n2\\n3\\n\\nDocumen...   \n",
       "gov.uscourts.cacd.470923.66.0.txt   Case 2:10-cv-03113-R -RC Document 66\\n\\nFiled ...   \n",
       "gov.uscourts.cacd.470923.65.0.txt   Case 2:10-cv-03113-R -RC Document 65\\n\\nFiled ...   \n",
       "gov.uscourts.casd.258578.60.0.txt   Case 3:07-cv-02174-H-BLM\\n\\n1\\n2\\n3\\n4\\n5\\n6\\n...   \n",
       "gov.uscourts.casd.258578.50.0.txt   -\\n\\n \\n\\noO ODO Oo YH Oo OO FSF W ND\\n\\nano o...   \n",
       "\n",
       "                                   completion  brief_type data_type  file_path  \n",
       "file_name                                                                       \n",
       "gov.uscourts.cand.34465.288.0.txt        deny  opposition     train        456  \n",
       "gov.uscourts.cand.34465.234.0.txt        deny     support     train        456  \n",
       "gov.uscourts.cand.203194.41.0.txt         TBD  opposition      test        688  \n",
       "gov.uscourts.cand.203194.38.0.txt         TBD     support      test        688  \n",
       "gov.uscourts.vawd.109120.162.0.txt      grant  opposition     train       1178  \n",
       "...                                       ...         ...       ...        ...  \n",
       "gov.uscourts.casd.256908.58.0.txt        deny     support     train        892  \n",
       "gov.uscourts.cacd.470923.66.0.txt         TBD  opposition      test        947  \n",
       "gov.uscourts.cacd.470923.65.0.txt         TBD     support      test        947  \n",
       "gov.uscourts.casd.258578.60.0.txt       grant  opposition     train        835  \n",
       "gov.uscourts.casd.258578.50.0.txt       grant     support     train        835  \n",
       "\n",
       "[2833 rows x 5 columns]"
      ]
     },
     "execution_count": 2,
     "metadata": {},
     "output_type": "execute_result"
    }
   ],
   "source": [
    "\n",
    "# path = f'hidden_states/paired_testset_embeddings_{0}-{50}.csv'\n",
    "# df = pd.read_csv(path, index_col=0)\n",
    "# for i in range(50, 500, 50):\n",
    "#     path = f'hidden_states/paired_testset_embeddings_{i}-{i+50}.csv'\n",
    "#     temp = pd.read_csv(path)\n",
    "#     df = pd.concat([df, temp])\n",
    "\n",
    "\n",
    "\n",
    "PAIRED_PATH = './dataset/paired_testset.csv'\n",
    "UNPAIRED_PATH = './dataset/testset.csv'\n",
    "paired = pd.read_csv(PAIRED_PATH, index_col=0)\n",
    "\n",
    "testset = pd.read_csv(UNPAIRED_PATH, index_col=0)\n",
    "testset.set_index('file_name', inplace=True) \n",
    "\n",
    "testset\n"
   ]
  },
  {
   "cell_type": "code",
   "execution_count": 3,
   "metadata": {},
   "outputs": [
    {
     "data": {
      "text/plain": [
       "((675, 8), (500, 8), (1175, 8))"
      ]
     },
     "execution_count": 3,
     "metadata": {},
     "output_type": "execute_result"
    }
   ],
   "source": [
    "paired[paired[\"data_type\"]==\"train\"].shape, paired[paired[\"data_type\"]==\"test\"].shape , paired.shape\n",
    "\n"
   ]
  },
  {
   "cell_type": "code",
   "execution_count": 4,
   "metadata": {},
   "outputs": [
    {
     "data": {
      "text/plain": [
       "(1646, 5)"
      ]
     },
     "execution_count": 4,
     "metadata": {},
     "output_type": "execute_result"
    }
   ],
   "source": [
    "testset[testset[\"data_type\"] == \"train\"].shape"
   ]
  },
  {
   "cell_type": "code",
   "execution_count": 109,
   "metadata": {},
   "outputs": [
    {
     "name": "stderr",
     "output_type": "stream",
     "text": [
      "/tmp/ipykernel_4714/2001083846.py:14: FutureWarning: Series.__getitem__ treating keys as positions is deprecated. In a future version, integer keys will always be treated as labels (consistent with DataFrame behavior). To access a value by position, use `ser.iloc[pos]`\n",
      "  paired[\"outcome\"] = paired[[\"outcome\",\"target\"]].apply(lambda x: x[1].strip() if 'TBD' in x[0] else x[0].strip(), axis=1)\n"
     ]
    },
    {
     "data": {
      "text/html": [
       "<div>\n",
       "<style scoped>\n",
       "    .dataframe tbody tr th:only-of-type {\n",
       "        vertical-align: middle;\n",
       "    }\n",
       "\n",
       "    .dataframe tbody tr th {\n",
       "        vertical-align: top;\n",
       "    }\n",
       "\n",
       "    .dataframe thead th {\n",
       "        text-align: right;\n",
       "    }\n",
       "</style>\n",
       "<table border=\"1\" class=\"dataframe\">\n",
       "  <thead>\n",
       "    <tr style=\"text-align: right;\">\n",
       "      <th></th>\n",
       "      <th>support</th>\n",
       "      <th>support_file</th>\n",
       "      <th>opposition</th>\n",
       "      <th>opposition_file</th>\n",
       "      <th>outcome</th>\n",
       "      <th>folder_id</th>\n",
       "      <th>case_path</th>\n",
       "      <th>data_type</th>\n",
       "      <th>target</th>\n",
       "    </tr>\n",
       "  </thead>\n",
       "  <tbody>\n",
       "    <tr>\n",
       "      <th>0</th>\n",
       "      <td>['CLRB Hanson Industries, LLC et al v. Google ...</td>\n",
       "      <td>['gov.uscourts.cand.34465.234.0.txt']</td>\n",
       "      <td>['CLRB Hanson Industries, LLC et al v. Google ...</td>\n",
       "      <td>['gov.uscourts.cand.34465.288.0.txt']</td>\n",
       "      <td>deny</td>\n",
       "      <td>456</td>\n",
       "      <td>/mnt/a536sing/sdr1/gvc-recap/5/gov.uscourts.ca...</td>\n",
       "      <td>train</td>\n",
       "      <td>NaN</td>\n",
       "    </tr>\n",
       "    <tr>\n",
       "      <th>1</th>\n",
       "      <td>['Case 4:08-cv-02364-CW\\n1\\n2\\n3\\n4\\n5\\n6\\n7\\n...</td>\n",
       "      <td>['gov.uscourts.cand.203194.38.0.txt']</td>\n",
       "      <td>['Case 4:08-cv-02364-CW\\n\\n1\\n2\\n3\\n4\\n5\\n6\\n7...</td>\n",
       "      <td>['gov.uscourts.cand.203194.41.0.txt']</td>\n",
       "      <td>grant</td>\n",
       "      <td>688</td>\n",
       "      <td>/mnt/a536sing/sdc1/gvc-recap/4/gov.uscourts.ca...</td>\n",
       "      <td>test</td>\n",
       "      <td>grant</td>\n",
       "    </tr>\n",
       "    <tr>\n",
       "      <th>2</th>\n",
       "      <td>['UNITED STATES DISTRICT COURT\\nFOR THE WESTER...</td>\n",
       "      <td>['gov.uscourts.vawd.109120.98.0.txt']</td>\n",
       "      <td>['UNITED STATES DISTRICT COURT\\nFOR THE WESTER...</td>\n",
       "      <td>['gov.uscourts.vawd.109120.162.0.txt']</td>\n",
       "      <td>grant</td>\n",
       "      <td>1178</td>\n",
       "      <td>/mnt/a536sing/sdo1/gvc-recap/0/gov.uscourts.va...</td>\n",
       "      <td>train</td>\n",
       "      <td>NaN</td>\n",
       "    </tr>\n",
       "    <tr>\n",
       "      <th>3</th>\n",
       "      <td>[', Case 1:08-0v-00|96-RBW Document 7 Filed 07...</td>\n",
       "      <td>['gov.uscourts.dcd.129531.7.0.txt']</td>\n",
       "      <td>['Case 1:08-cv-00196-RBW\\n\\nDocument 8\\n\\nFile...</td>\n",
       "      <td>['gov.uscourts.dcd.129531.8.0.txt']</td>\n",
       "      <td>deny</td>\n",
       "      <td>997</td>\n",
       "      <td>/mnt/a536sing/sdx1/gvc-recap/1/gov.uscourts.dc...</td>\n",
       "      <td>test</td>\n",
       "      <td>deny</td>\n",
       "    </tr>\n",
       "    <tr>\n",
       "      <th>4</th>\n",
       "      <td>['Case 1:08-cv-06978-TPG Document 586 Filed 07...</td>\n",
       "      <td>['gov.uscourts.nysd.330523.586.0.txt', 'gov.us...</td>\n",
       "      <td>['Case 1:08-cv-06978-TPG Document 591 Filed 07...</td>\n",
       "      <td>['gov.uscourts.nysd.330523.591.0.txt']</td>\n",
       "      <td>deny</td>\n",
       "      <td>895</td>\n",
       "      <td>/mnt/a536sing/sdr1/gvc-recap/3/gov.uscourts.ny...</td>\n",
       "      <td>train</td>\n",
       "      <td>NaN</td>\n",
       "    </tr>\n",
       "    <tr>\n",
       "      <th>...</th>\n",
       "      <td>...</td>\n",
       "      <td>...</td>\n",
       "      <td>...</td>\n",
       "      <td>...</td>\n",
       "      <td>...</td>\n",
       "      <td>...</td>\n",
       "      <td>...</td>\n",
       "      <td>...</td>\n",
       "      <td>...</td>\n",
       "    </tr>\n",
       "    <tr>\n",
       "      <th>1170</th>\n",
       "      <td>[\"..\\nCLERK'S OFFICE U.S. DIST. COURT\\nAT ROAN...</td>\n",
       "      <td>['gov.uscourts.vawd.108351.5.0.txt']</td>\n",
       "      <td>['IN THE UNITED STATES DISTRICT COURT\\nFOR THE...</td>\n",
       "      <td>['gov.uscourts.vawd.108351.10.0.txt']</td>\n",
       "      <td>grant</td>\n",
       "      <td>815</td>\n",
       "      <td>/mnt/a536sing/sdah1/gvc-recap/1/gov.uscourts.v...</td>\n",
       "      <td>train</td>\n",
       "      <td>NaN</td>\n",
       "    </tr>\n",
       "    <tr>\n",
       "      <th>1171</th>\n",
       "      <td>['Case3:08-cv-00484-JSW Document295\\n\\n1\\n2\\n3...</td>\n",
       "      <td>['gov.uscourts.cand.199646.295.0.txt']</td>\n",
       "      <td>['Case3:08-cv-00484-JSW Document306\\n\\n1\\n2\\n3...</td>\n",
       "      <td>['gov.uscourts.cand.199646.306.0.txt']</td>\n",
       "      <td>grant</td>\n",
       "      <td>568</td>\n",
       "      <td>/mnt/a536sing/sdn1/gvc-recap/6/gov.uscourts.ca...</td>\n",
       "      <td>test</td>\n",
       "      <td>grant</td>\n",
       "    </tr>\n",
       "    <tr>\n",
       "      <th>1172</th>\n",
       "      <td>['Case 3:07-cv-02000-H-CAB\\n\\n1\\n2\\n3\\n\\nDocum...</td>\n",
       "      <td>['gov.uscourts.casd.256908.58.0.txt']</td>\n",
       "      <td>['Case 3:07-cv-02000-H-CAB\\n\\n1\\n2\\n3\\n4\\n5\\n6...</td>\n",
       "      <td>['gov.uscourts.casd.256908.95.0.txt', 'gov.usc...</td>\n",
       "      <td>deny</td>\n",
       "      <td>892</td>\n",
       "      <td>/mnt/a536sing/sdt1/gvc-recap/8/gov.uscourts.ca...</td>\n",
       "      <td>train</td>\n",
       "      <td>NaN</td>\n",
       "    </tr>\n",
       "    <tr>\n",
       "      <th>1173</th>\n",
       "      <td>['Case 2:10-cv-03113-R -RC Document 65\\n\\nFile...</td>\n",
       "      <td>['gov.uscourts.cacd.470923.65.0.txt']</td>\n",
       "      <td>[\"Case 2:10-cv-03113-R -RC Document 66\\n\\nFile...</td>\n",
       "      <td>['gov.uscourts.cacd.470923.66.0.txt']</td>\n",
       "      <td>deny</td>\n",
       "      <td>947</td>\n",
       "      <td>/mnt/a536sing/sdc1/gvc-recap/3/gov.uscourts.ca...</td>\n",
       "      <td>test</td>\n",
       "      <td>deny</td>\n",
       "    </tr>\n",
       "    <tr>\n",
       "      <th>1174</th>\n",
       "      <td>['-\\n\\n \\n\\noO ODO Oo YH Oo OO FSF W ND\\n\\nano...</td>\n",
       "      <td>['gov.uscourts.casd.258578.50.0.txt']</td>\n",
       "      <td>['Case 3:07-cv-02174-H-BLM\\n\\n1\\n2\\n3\\n4\\n5\\n6...</td>\n",
       "      <td>['gov.uscourts.casd.258578.60.0.txt']</td>\n",
       "      <td>grant</td>\n",
       "      <td>835</td>\n",
       "      <td>/mnt/a536sing/sdn1/gvc-recap/8/gov.uscourts.ca...</td>\n",
       "      <td>train</td>\n",
       "      <td>NaN</td>\n",
       "    </tr>\n",
       "  </tbody>\n",
       "</table>\n",
       "<p>1175 rows × 9 columns</p>\n",
       "</div>"
      ],
      "text/plain": [
       "                                                support  \\\n",
       "0     ['CLRB Hanson Industries, LLC et al v. Google ...   \n",
       "1     ['Case 4:08-cv-02364-CW\\n1\\n2\\n3\\n4\\n5\\n6\\n7\\n...   \n",
       "2     ['UNITED STATES DISTRICT COURT\\nFOR THE WESTER...   \n",
       "3     [', Case 1:08-0v-00|96-RBW Document 7 Filed 07...   \n",
       "4     ['Case 1:08-cv-06978-TPG Document 586 Filed 07...   \n",
       "...                                                 ...   \n",
       "1170  [\"..\\nCLERK'S OFFICE U.S. DIST. COURT\\nAT ROAN...   \n",
       "1171  ['Case3:08-cv-00484-JSW Document295\\n\\n1\\n2\\n3...   \n",
       "1172  ['Case 3:07-cv-02000-H-CAB\\n\\n1\\n2\\n3\\n\\nDocum...   \n",
       "1173  ['Case 2:10-cv-03113-R -RC Document 65\\n\\nFile...   \n",
       "1174  ['-\\n\\n \\n\\noO ODO Oo YH Oo OO FSF W ND\\n\\nano...   \n",
       "\n",
       "                                           support_file  \\\n",
       "0                 ['gov.uscourts.cand.34465.234.0.txt']   \n",
       "1                 ['gov.uscourts.cand.203194.38.0.txt']   \n",
       "2                 ['gov.uscourts.vawd.109120.98.0.txt']   \n",
       "3                   ['gov.uscourts.dcd.129531.7.0.txt']   \n",
       "4     ['gov.uscourts.nysd.330523.586.0.txt', 'gov.us...   \n",
       "...                                                 ...   \n",
       "1170               ['gov.uscourts.vawd.108351.5.0.txt']   \n",
       "1171             ['gov.uscourts.cand.199646.295.0.txt']   \n",
       "1172              ['gov.uscourts.casd.256908.58.0.txt']   \n",
       "1173              ['gov.uscourts.cacd.470923.65.0.txt']   \n",
       "1174              ['gov.uscourts.casd.258578.50.0.txt']   \n",
       "\n",
       "                                             opposition  \\\n",
       "0     ['CLRB Hanson Industries, LLC et al v. Google ...   \n",
       "1     ['Case 4:08-cv-02364-CW\\n\\n1\\n2\\n3\\n4\\n5\\n6\\n7...   \n",
       "2     ['UNITED STATES DISTRICT COURT\\nFOR THE WESTER...   \n",
       "3     ['Case 1:08-cv-00196-RBW\\n\\nDocument 8\\n\\nFile...   \n",
       "4     ['Case 1:08-cv-06978-TPG Document 591 Filed 07...   \n",
       "...                                                 ...   \n",
       "1170  ['IN THE UNITED STATES DISTRICT COURT\\nFOR THE...   \n",
       "1171  ['Case3:08-cv-00484-JSW Document306\\n\\n1\\n2\\n3...   \n",
       "1172  ['Case 3:07-cv-02000-H-CAB\\n\\n1\\n2\\n3\\n4\\n5\\n6...   \n",
       "1173  [\"Case 2:10-cv-03113-R -RC Document 66\\n\\nFile...   \n",
       "1174  ['Case 3:07-cv-02174-H-BLM\\n\\n1\\n2\\n3\\n4\\n5\\n6...   \n",
       "\n",
       "                                        opposition_file outcome  folder_id  \\\n",
       "0                 ['gov.uscourts.cand.34465.288.0.txt']    deny        456   \n",
       "1                 ['gov.uscourts.cand.203194.41.0.txt']   grant        688   \n",
       "2                ['gov.uscourts.vawd.109120.162.0.txt']   grant       1178   \n",
       "3                   ['gov.uscourts.dcd.129531.8.0.txt']    deny        997   \n",
       "4                ['gov.uscourts.nysd.330523.591.0.txt']    deny        895   \n",
       "...                                                 ...     ...        ...   \n",
       "1170              ['gov.uscourts.vawd.108351.10.0.txt']   grant        815   \n",
       "1171             ['gov.uscourts.cand.199646.306.0.txt']   grant        568   \n",
       "1172  ['gov.uscourts.casd.256908.95.0.txt', 'gov.usc...    deny        892   \n",
       "1173              ['gov.uscourts.cacd.470923.66.0.txt']    deny        947   \n",
       "1174              ['gov.uscourts.casd.258578.60.0.txt']   grant        835   \n",
       "\n",
       "                                              case_path data_type target  \n",
       "0     /mnt/a536sing/sdr1/gvc-recap/5/gov.uscourts.ca...     train    NaN  \n",
       "1     /mnt/a536sing/sdc1/gvc-recap/4/gov.uscourts.ca...      test  grant  \n",
       "2     /mnt/a536sing/sdo1/gvc-recap/0/gov.uscourts.va...     train    NaN  \n",
       "3     /mnt/a536sing/sdx1/gvc-recap/1/gov.uscourts.dc...      test   deny  \n",
       "4     /mnt/a536sing/sdr1/gvc-recap/3/gov.uscourts.ny...     train    NaN  \n",
       "...                                                 ...       ...    ...  \n",
       "1170  /mnt/a536sing/sdah1/gvc-recap/1/gov.uscourts.v...     train    NaN  \n",
       "1171  /mnt/a536sing/sdn1/gvc-recap/6/gov.uscourts.ca...      test  grant  \n",
       "1172  /mnt/a536sing/sdt1/gvc-recap/8/gov.uscourts.ca...     train    NaN  \n",
       "1173  /mnt/a536sing/sdc1/gvc-recap/3/gov.uscourts.ca...      test   deny  \n",
       "1174  /mnt/a536sing/sdn1/gvc-recap/8/gov.uscourts.ca...     train    NaN  \n",
       "\n",
       "[1175 rows x 9 columns]"
      ]
     },
     "execution_count": 109,
     "metadata": {},
     "output_type": "execute_result"
    }
   ],
   "source": [
    "truth = pd.read_csv('./dataset/gold.csv', header=None) \n",
    "truth.columns =  [\"folder_id\", \"brief\", \"type\", \"target\"]\n",
    "\n",
    "# find rows in testset where testset['file_name'] == truth['brief']\n",
    "# and add the target to testset\n",
    "\n",
    "truth.set_index('brief', inplace=True)\n",
    "\n",
    "paired_truth = truth.groupby('folder_id').agg({'target': 'first'})\n",
    "\n",
    "paired_truth\n",
    "\n",
    "paired = paired.join(paired_truth, on='folder_id', how='left')\n",
    "paired[\"outcome\"] = paired[[\"outcome\",\"target\"]].apply(lambda x: x[1].strip() if 'TBD' in x[0] else x[0].strip(), axis=1)\n",
    "paired"
   ]
  },
  {
   "cell_type": "code",
   "execution_count": 70,
   "metadata": {},
   "outputs": [
    {
     "name": "stderr",
     "output_type": "stream",
     "text": [
      "/tmp/ipykernel_4714/1143000415.py:4: FutureWarning: Series.__getitem__ treating keys as positions is deprecated. In a future version, integer keys will always be treated as labels (consistent with DataFrame behavior). To access a value by position, use `ser.iloc[pos]`\n",
      "  joined[\"completion\"] = joined[[\"completion\", \"target\"]].apply(lambda x: x[1].strip() if 'TBD' in x[0] else x[0].strip(), axis=1)\n"
     ]
    },
    {
     "data": {
      "text/html": [
       "<div>\n",
       "<style scoped>\n",
       "    .dataframe tbody tr th:only-of-type {\n",
       "        vertical-align: middle;\n",
       "    }\n",
       "\n",
       "    .dataframe tbody tr th {\n",
       "        vertical-align: top;\n",
       "    }\n",
       "\n",
       "    .dataframe thead th {\n",
       "        text-align: right;\n",
       "    }\n",
       "</style>\n",
       "<table border=\"1\" class=\"dataframe\">\n",
       "  <thead>\n",
       "    <tr style=\"text-align: right;\">\n",
       "      <th></th>\n",
       "      <th>prompt</th>\n",
       "      <th>completion</th>\n",
       "      <th>brief_type</th>\n",
       "      <th>data_type</th>\n",
       "      <th>file_path</th>\n",
       "    </tr>\n",
       "  </thead>\n",
       "  <tbody>\n",
       "    <tr>\n",
       "      <th>gov.uscourts.akd.243.198.0.txt</th>\n",
       "      <td>Case 3:05-cv-00006-HRH\\n\\nDocument 198\\n\\nFile...</td>\n",
       "      <td>grant</td>\n",
       "      <td>support</td>\n",
       "      <td>train</td>\n",
       "      <td>366</td>\n",
       "    </tr>\n",
       "    <tr>\n",
       "      <th>gov.uscourts.akd.243.201.0.txt</th>\n",
       "      <td>Case 3:05-cv-00006-HRH Document 201 Filed 07/0...</td>\n",
       "      <td>grant</td>\n",
       "      <td>opposition</td>\n",
       "      <td>train</td>\n",
       "      <td>366</td>\n",
       "    </tr>\n",
       "    <tr>\n",
       "      <th>gov.uscourts.akd.243.37.0.txt</th>\n",
       "      <td>Case 3:05-cv-00006-HRH\\n\\nDocument 37\\n\\nFiled...</td>\n",
       "      <td>grant</td>\n",
       "      <td>support</td>\n",
       "      <td>train</td>\n",
       "      <td>674</td>\n",
       "    </tr>\n",
       "    <tr>\n",
       "      <th>gov.uscourts.akd.243.40.0.txt</th>\n",
       "      <td>Case 3:05-cv-00006-HRH\\n\\nDocument 40\\n\\nFiled...</td>\n",
       "      <td>grant</td>\n",
       "      <td>support</td>\n",
       "      <td>train</td>\n",
       "      <td>674</td>\n",
       "    </tr>\n",
       "    <tr>\n",
       "      <th>gov.uscourts.akd.243.46.0.txt</th>\n",
       "      <td>Case 3:05-cv-00006-HRH\\n\\nDocument 46\\n\\nFiled...</td>\n",
       "      <td>grant</td>\n",
       "      <td>opposition</td>\n",
       "      <td>train</td>\n",
       "      <td>674</td>\n",
       "    </tr>\n",
       "    <tr>\n",
       "      <th>...</th>\n",
       "      <td>...</td>\n",
       "      <td>...</td>\n",
       "      <td>...</td>\n",
       "      <td>...</td>\n",
       "      <td>...</td>\n",
       "    </tr>\n",
       "    <tr>\n",
       "      <th>gov.uscourts.wyd.32018.10.0.txt</th>\n",
       "      <td>Case 2:15-cv-00064-SWS Document 10 Filed 05/13...</td>\n",
       "      <td>deny</td>\n",
       "      <td>opposition</td>\n",
       "      <td>train</td>\n",
       "      <td>1118</td>\n",
       "    </tr>\n",
       "    <tr>\n",
       "      <th>gov.uscourts.wyd.32018.13.0.txt</th>\n",
       "      <td>Case 2:15-cv-00064-SWS Document 13 Filed 06/08...</td>\n",
       "      <td>grant</td>\n",
       "      <td>support</td>\n",
       "      <td>train</td>\n",
       "      <td>113</td>\n",
       "    </tr>\n",
       "    <tr>\n",
       "      <th>gov.uscourts.wyd.32018.15.0.txt</th>\n",
       "      <td>Case 2:15-cv-00064-SWS Document 15 Filed 06/23...</td>\n",
       "      <td>grant</td>\n",
       "      <td>opposition</td>\n",
       "      <td>train</td>\n",
       "      <td>113</td>\n",
       "    </tr>\n",
       "    <tr>\n",
       "      <th>gov.uscourts.wyd.32018.18.0.txt</th>\n",
       "      <td>Case 2:15-cv-00064-SWS Document 18 Filed 07/14...</td>\n",
       "      <td>grant</td>\n",
       "      <td>opposition</td>\n",
       "      <td>train</td>\n",
       "      <td>113</td>\n",
       "    </tr>\n",
       "    <tr>\n",
       "      <th>gov.uscourts.wyd.32018.9.0.txt</th>\n",
       "      <td>Case 2:15-cv-00064-SWS Document 9 Filed 05/12/...</td>\n",
       "      <td>deny</td>\n",
       "      <td>support</td>\n",
       "      <td>train</td>\n",
       "      <td>1118</td>\n",
       "    </tr>\n",
       "  </tbody>\n",
       "</table>\n",
       "<p>2833 rows × 5 columns</p>\n",
       "</div>"
      ],
      "text/plain": [
       "                                                                            prompt  \\\n",
       "gov.uscourts.akd.243.198.0.txt   Case 3:05-cv-00006-HRH\\n\\nDocument 198\\n\\nFile...   \n",
       "gov.uscourts.akd.243.201.0.txt   Case 3:05-cv-00006-HRH Document 201 Filed 07/0...   \n",
       "gov.uscourts.akd.243.37.0.txt    Case 3:05-cv-00006-HRH\\n\\nDocument 37\\n\\nFiled...   \n",
       "gov.uscourts.akd.243.40.0.txt    Case 3:05-cv-00006-HRH\\n\\nDocument 40\\n\\nFiled...   \n",
       "gov.uscourts.akd.243.46.0.txt    Case 3:05-cv-00006-HRH\\n\\nDocument 46\\n\\nFiled...   \n",
       "...                                                                            ...   \n",
       "gov.uscourts.wyd.32018.10.0.txt  Case 2:15-cv-00064-SWS Document 10 Filed 05/13...   \n",
       "gov.uscourts.wyd.32018.13.0.txt  Case 2:15-cv-00064-SWS Document 13 Filed 06/08...   \n",
       "gov.uscourts.wyd.32018.15.0.txt  Case 2:15-cv-00064-SWS Document 15 Filed 06/23...   \n",
       "gov.uscourts.wyd.32018.18.0.txt  Case 2:15-cv-00064-SWS Document 18 Filed 07/14...   \n",
       "gov.uscourts.wyd.32018.9.0.txt   Case 2:15-cv-00064-SWS Document 9 Filed 05/12/...   \n",
       "\n",
       "                                completion  brief_type data_type  file_path  \n",
       "gov.uscourts.akd.243.198.0.txt       grant     support     train        366  \n",
       "gov.uscourts.akd.243.201.0.txt       grant  opposition     train        366  \n",
       "gov.uscourts.akd.243.37.0.txt        grant     support     train        674  \n",
       "gov.uscourts.akd.243.40.0.txt        grant     support     train        674  \n",
       "gov.uscourts.akd.243.46.0.txt        grant  opposition     train        674  \n",
       "...                                    ...         ...       ...        ...  \n",
       "gov.uscourts.wyd.32018.10.0.txt       deny  opposition     train       1118  \n",
       "gov.uscourts.wyd.32018.13.0.txt      grant     support     train        113  \n",
       "gov.uscourts.wyd.32018.15.0.txt      grant  opposition     train        113  \n",
       "gov.uscourts.wyd.32018.18.0.txt      grant  opposition     train        113  \n",
       "gov.uscourts.wyd.32018.9.0.txt        deny     support     train       1118  \n",
       "\n",
       "[2833 rows x 5 columns]"
      ]
     },
     "execution_count": 70,
     "metadata": {},
     "output_type": "execute_result"
    }
   ],
   "source": [
    "# testset[truth['brief'].isin(testset['file_name'])]\n",
    "\n",
    "joined = testset.join(truth, how='outer')\n",
    "joined[\"completion\"] = joined[[\"completion\", \"target\"]].apply(lambda x: x[1].strip() if 'TBD' in x[0] else x[0].strip(), axis=1)\n",
    "\n",
    "joined = joined.drop(columns=['target', 'folder_id', 'type'])\n",
    "joined"
   ]
  },
  {
   "cell_type": "code",
   "execution_count": 90,
   "metadata": {},
   "outputs": [
    {
     "name": "stderr",
     "output_type": "stream",
     "text": [
      "/tmp/ipykernel_4714/621605928.py:1: FutureWarning: Series.__getitem__ treating keys as positions is deprecated. In a future version, integer keys will always be treated as labels (consistent with DataFrame behavior). To access a value by position, use `ser.iloc[pos]`\n",
      "  complets = joined.groupby('file_path').apply(lambda x: x['completion'][0])\n",
      "/tmp/ipykernel_4714/621605928.py:1: DeprecationWarning: DataFrameGroupBy.apply operated on the grouping columns. This behavior is deprecated, and in a future version of pandas the grouping columns will be excluded from the operation. Either pass `include_groups=False` to exclude the groupings or explicitly select the grouping columns after groupby to silence this warning.\n",
      "  complets = joined.groupby('file_path').apply(lambda x: x['completion'][0])\n"
     ]
    },
    {
     "data": {
      "text/html": [
       "<div>\n",
       "<style scoped>\n",
       "    .dataframe tbody tr th:only-of-type {\n",
       "        vertical-align: middle;\n",
       "    }\n",
       "\n",
       "    .dataframe tbody tr th {\n",
       "        vertical-align: top;\n",
       "    }\n",
       "\n",
       "    .dataframe thead th {\n",
       "        text-align: right;\n",
       "    }\n",
       "</style>\n",
       "<table border=\"1\" class=\"dataframe\">\n",
       "  <thead>\n",
       "    <tr style=\"text-align: right;\">\n",
       "      <th></th>\n",
       "      <th>file_path</th>\n",
       "      <th>completion</th>\n",
       "    </tr>\n",
       "  </thead>\n",
       "  <tbody>\n",
       "    <tr>\n",
       "      <th>0</th>\n",
       "      <td>1</td>\n",
       "      <td>grant</td>\n",
       "    </tr>\n",
       "    <tr>\n",
       "      <th>1</th>\n",
       "      <td>2</td>\n",
       "      <td>deny</td>\n",
       "    </tr>\n",
       "    <tr>\n",
       "      <th>2</th>\n",
       "      <td>3</td>\n",
       "      <td>deny</td>\n",
       "    </tr>\n",
       "    <tr>\n",
       "      <th>3</th>\n",
       "      <td>4</td>\n",
       "      <td>deny</td>\n",
       "    </tr>\n",
       "    <tr>\n",
       "      <th>4</th>\n",
       "      <td>5</td>\n",
       "      <td>deny</td>\n",
       "    </tr>\n",
       "    <tr>\n",
       "      <th>...</th>\n",
       "      <td>...</td>\n",
       "      <td>...</td>\n",
       "    </tr>\n",
       "    <tr>\n",
       "      <th>1170</th>\n",
       "      <td>1179</td>\n",
       "      <td>grant</td>\n",
       "    </tr>\n",
       "    <tr>\n",
       "      <th>1171</th>\n",
       "      <td>1180</td>\n",
       "      <td>grant</td>\n",
       "    </tr>\n",
       "    <tr>\n",
       "      <th>1172</th>\n",
       "      <td>1181</td>\n",
       "      <td>grant</td>\n",
       "    </tr>\n",
       "    <tr>\n",
       "      <th>1173</th>\n",
       "      <td>1182</td>\n",
       "      <td>deny</td>\n",
       "    </tr>\n",
       "    <tr>\n",
       "      <th>1174</th>\n",
       "      <td>1183</td>\n",
       "      <td>grant</td>\n",
       "    </tr>\n",
       "  </tbody>\n",
       "</table>\n",
       "<p>1175 rows × 2 columns</p>\n",
       "</div>"
      ],
      "text/plain": [
       "      file_path completion\n",
       "0             1      grant\n",
       "1             2       deny\n",
       "2             3       deny\n",
       "3             4       deny\n",
       "4             5       deny\n",
       "...         ...        ...\n",
       "1170       1179      grant\n",
       "1171       1180      grant\n",
       "1172       1181      grant\n",
       "1173       1182       deny\n",
       "1174       1183      grant\n",
       "\n",
       "[1175 rows x 2 columns]"
      ]
     },
     "execution_count": 90,
     "metadata": {},
     "output_type": "execute_result"
    }
   ],
   "source": [
    "complets = joined.groupby('file_path').apply(lambda x: x['completion'][0])\n",
    "complets = complets.reset_index()\n",
    "complets.columns = ['file_path', 'completion']\n",
    "complets"
   ]
  },
  {
   "cell_type": "code",
   "execution_count": 91,
   "metadata": {},
   "outputs": [
    {
     "data": {
      "text/plain": [
       "((554, 2), (621, 2))"
      ]
     },
     "execution_count": 91,
     "metadata": {},
     "output_type": "execute_result"
    }
   ],
   "source": [
    "complets[complets[\"completion\"] == 'grant'].shape , complets[complets[\"completion\"] == 'deny'].shape"
   ]
  },
  {
   "cell_type": "markdown",
   "metadata": {},
   "source": [
    "### Functions (2)\n",
    "\n",
    "This tab contains the definition and configuration of the traditional classifiers.\n",
    "\n",
    "It also contains some utility functions. The most relevant one is \n",
    "`accuracies(trainX, trainY, testX, testY, models=models, feature_type='')`\n",
    "\n",
    "This function takes a model aswell as pairwise data points. The function trains, saves and reports the perfomance of the model."
   ]
  },
  {
   "cell_type": "code",
   "execution_count": 120,
   "metadata": {},
   "outputs": [],
   "source": [
    "from sklearn.preprocessing import StandardScaler\n",
    "from sklearn.pipeline import make_pipeline\n",
    "\n",
    "clf1 = SGDClassifier(loss='hinge', penalty='l2', alpha=1e-3, random_state=42, max_iter=5, tol=None)\n",
    "\n",
    "clf2 = RandomForestClassifier(n_estimators = 1500, criterion = \"entropy\", oob_score = True, max_features= 1)\n",
    "\n",
    "clf3 = KNeighborsClassifier( n_neighbors=2)\n",
    "\n",
    "clf4 = LogisticRegression(solver='liblinear')\n",
    "\n",
    "clf5 = LinearSVC( random_state=42, tol=1e-5)\n",
    "\n",
    "models = {\n",
    "    \"SGD\": clf1,\n",
    "    \"RFT\": clf2,\n",
    "    \"KNN\" : clf3,\n",
    "    \"Logistic\": clf4,\n",
    "    \"LinearSVC\": clf5\n",
    "}\n",
    "# Create a function  that maps vector_indices to a sparse vector\n",
    "# The function should not produce any errors\n",
    "# The function should produce a sparse vector\n",
    "# The function takes in two arguments: vector_indices and max_index\n",
    "\n",
    "def getSingleBriefsTfidf(testset, vocab_length):\n",
    "    \"\"\"\n",
    "    This function converts the tfidf dictionary into a sparse matrix\n",
    "    Concatates all the sparse matrices into a single matrix\n",
    "    Concatates the completion into a single array\n",
    "    Concatates the the data_type into a single array\n",
    "\n",
    "    return X, y, data_type , brief_type\n",
    "    \"\"\"\n",
    "    for i in range(0, len(testset)):\n",
    "        row = testset.iloc[i]\n",
    "        if i == 0:\n",
    "            X = map_vector_indices_to_sparse_vector(row['tfidf'], vocab_length)\n",
    "            y = np.array([row['completion']])\n",
    "            data_type = np.array([row['data_type']])\n",
    "            brief_type = np.array([row['brief_type']])\n",
    "        else:\n",
    "            X = concatenate_sparse_vectors(X, map_vector_indices_to_sparse_vector(row['tfidf'], vocab_length))\n",
    "            y = np.append(y, row['completion'])\n",
    "            data_type = np.append(data_type, row['data_type'])\n",
    "            brief_type = np.append(brief_type, row['brief_type'])\n",
    "\n",
    "    return X, y, data_type , brief_type\n",
    "\n",
    "\n",
    "def map_vector_indices_to_sparse_vector(vector_indices, max_index):\n",
    "    vector = np.zeros(max_index)\n",
    "    for index, value in vector_indices.items():\n",
    "        vector[index] = value\n",
    "    return sparse.csr_matrix(vector)\n",
    "    \n",
    "\n",
    "# Create a function that concatenates two sparse vectors\n",
    "# The function should not produce any errors\n",
    "# The function should produce a sparse vector\n",
    "# The function takes in two arguments: vector1 and vector2\n",
    "def concatenate_sparse_vectors(vector1, vector2):\n",
    "    return sparse.vstack((vector1, vector2))\n",
    "\n",
    "\n",
    "def accuracies(trainX, trainY, testX, testY, models=models, feature_type=''):\n",
    "\n",
    "\n",
    "    for key, model in models.items():\n",
    "\n",
    "        model.fit(trainX, trainY)\n",
    "\n",
    "        with open(f'models/{key}-{feature_type}.pkl', 'wb') as f:  # open a text file\n",
    "            dump(model, f) \n",
    "\n",
    "        print(f\"{key}: {model.score(testX, testY)}\")\n",
    "\n",
    "def cvAcurracies(X,y, models=models):\n",
    "\n",
    "    for key, model in models.items():\n",
    "\n",
    "        y_pred = cross_val_predict(model, X, y , cv=10)\n",
    "        print(f\"{key}\")\n",
    "        print(classification_report(y, y_pred , target_names=[\"Deny\", \"Grant\"]))\n",
    "        tn, fp, fn, tp = confusion_matrix(y, y_pred).ravel()\n",
    "        print(f\"{key}=>tn:{tn}, fp:{fp}, fn:{fn}, tp:{tp}\")\n",
    "\n",
    "\n",
    "\n",
    "def getSingleBriefEmbeddings(brief_type, paired):\n",
    "    embeddings_map = list(map( lambda x: convert_to_numpy(x) , paired[brief_type].to_list()))\n",
    "    outcome_map = paired['outcome'].to_list()\n",
    "    data_type_map = paired['data_type'].to_list()  \n",
    "    data =  [] \n",
    "    outcomes = []\n",
    "    data_types = []\n",
    "\n",
    "    for index,embeddings in enumerate(embeddings_map):\n",
    "        outcome = outcome_map[index]\n",
    "        data_type = data_type_map[index]\n",
    "        for embedding in embeddings: \n",
    "            data.append(embedding)\n",
    "            outcomes.append(outcome)\n",
    "            data_types.append(data_type)\n",
    "    return np.array(data) , np.array(outcomes , dtype=str) , np.array(data_types , dtype=str)\n",
    "\n",
    "# convert string to Torch array\n",
    "\n",
    "def convert_to_numpy(embedding):\n",
    "    return np.array(ast.literal_eval(embedding))\n",
    "\n",
    "\n",
    "def getSingleBriefs(brief_type, paired=paired):\n",
    "    supports_map = list(map( lambda x: ast.literal_eval(x) , paired[brief_type].to_list()))\n",
    "    outcome_map = paired['outcome'].to_list()\n",
    "    data_type_map = paired['data_type'].to_list()  \n",
    "    data = []\n",
    "\n",
    "    for index,documents in enumerate(supports_map):\n",
    "        outcome = outcome_map[index]\n",
    "        data_type = data_type_map[index]\n",
    "        for document in documents: \n",
    "            data.append((document,outcome,data_type))\n",
    "\n",
    "    return np.array(data, dtype=str)\n",
    "\n",
    "def confusion_plot(true_labels, predicted_labels, classes, labels , normalize=False, title=None, cmap=plt.cm.Blues):\n",
    "\n",
    "    plt.figure(figsize=(10, 10))\n",
    "    matrix = confusion_matrix(true_labels, predicted_labels, labels=labels)\n",
    "\n",
    "    sns.heatmap(matrix, cmap=cmap, annot=True,\n",
    "                cbar = True, fmt=\".1f\",\n",
    "                 xticklabels=classes[\"x\"], \n",
    "                 yticklabels=classes[\"y\"])\n",
    "    class_names = [\"No Match\", \"Match\"]\n",
    "    # Plot non-normalized confusion matri\n",
    "    plt.xlabel(\"Predicted\")\n",
    "    plt.ylabel('Actual')\n",
    "    plt.title(title)\n",
    "    plt.show()\n",
    "    return matrix\n",
    "\n"
   ]
  },
  {
   "cell_type": "markdown",
   "metadata": {},
   "source": [
    "### TFIDF (3)\n",
    "\n",
    "\n",
    "This is the TFIDF part of experiment. Here i train traditional models with TFIDF embeddings. \n",
    "\n",
    "The text are fed through a TFIDF Pipeline.\n",
    "\n",
    "Under this cell, I also included confusion matries for the perfomance of these models.\n",
    "\n",
    "However, for the scope of replicating the results, the TFIDF training and testing process ends before the note seciont that says `DONE`. \n",
    "\n",
    "Please after you see `DONE` move towards the `Embeddings` section.\n",
    "\n",
    "Note to self: convert Gordon's TFIDF's to format compatible to sklearns models this site might help : https://stackoverflow.com/questions/7922487/how-to-transform-numpy-matrix-or-array-to-scipy-sparse-matrix\n",
    "\n"
   ]
  },
  {
   "cell_type": "code",
   "execution_count": 112,
   "metadata": {},
   "outputs": [
    {
     "data": {
      "text/plain": [
       "array([['CLRB Hanson Industries, LLC et al v. Google Inc. Doc. 234\\n\\n1 | DAVID T. BIDERMAN, Bar No. 101577\\nTIMOTHY J. FRANKS, Bar No. 197645\\n\\n2 | M. CHRISTOPHER JHANG, Bar No. 211463\\nFARSCHAD FARZAN, Bar No. 215194\\n\\n3 | PERKINS COIE LLP\\n\\nFour Embarcadero Center, Suite 2400\\n\\n4 | San Francisco, California 94111\\nTelephone: (415) 344-7000\\n5 || Facsimile: (415) 344-7050\\nEmail: DBiderman@perkinscoie.com\\n6 | Email: TFranks@perkinscoie.com\\nEmail: CJhang@perkinscoie.com\\n7 | Email: FFarzan@perkinscoie.com\\n8 || Attorneys for Defendant GOOGLE INC.\\n9\\nUNITED STATES DISTRICT COURT\\n10\\nNORTHERN DISTRICT OF CALIFORNIA\\n11\\n12\\n\\'S | CLRB HANSON INDUSTRIES, LLC Case No. C 05-03649 JW\\n14 || d/b/a INDUSTRIAL PRINTING, and\\nHOWARD STERN, on behalf of GOOGLE INC.\\'S NOTICE OF\\n\\n15 || themselves and all others similarly situated, MOTION AND MOTION FOR\\nPARTIAL SUMMARY JUDGMENT\\n\\n \\n\\n \\n\\n16 Plaintiffs, ON PLAINTIFFS\\' \"120% RULE\" AND\\n\"PARTIAL MONTH\" CLAIMS; AND\\n\\n17 MEMORANDUM OF POINTS AND\\n\\n18 v. AUTHORITIES IN SUPPORT\\n\\n19 GOOGLE, INC., Date: November 10, 2008\\nTime: 9:00 a.m.\\n\\n20 Detendant. Place: Courtroom 8\\n\\n71 Judge: Honorable James Ware\\n\\n22\\n\\n23\\n\\n24\\n\\n25\\n\\n26\\n\\n27\\n\\n28\\n\\n \\n\\nGOOGLE\\'S MOTION FOR PARTIAL SUMMARY\\n\\nJUDGMENT ON PLFS\\' \"120% RULE\" CLAIM CASE NO. C 05-03649 JW\\n41063-00231 FGAT.14630961 3\\n\\n \\n\\n \\n\\nDockets.Justia.com\\n\\x0cao ns N\\n\\n\\\\O\\n\\n10\\n11\\n12\\n13\\n14\\n15\\n16\\n17\\n18\\n19\\n20\\n21\\n22\\n23\\n24\\n25\\n26\\n27\\n28\\n\\nTable of Contents\\nTable of Authorities 20... cc cecessessessesesscescesssssscasssecessssensssesessecsessesesecaessesseneesesnecetsesasearersersentenss ii\\nNotice of Motion and Motion .0......cccccccessssscssssssessesssesesesesseaesessesesesscseseeaeeesseceeseseeesseneseveneeseaseeees 1\\nMemorandum of Points and Authorities ..........:cccsssscsesscsesscseseesssceseeaceessecacsaeessesaesecaeeecscereassesecaees 1\\nStatement Of Facts... es seeeseeseesseseeseeecsecsecseceeeeeesscseesesesseeessececsecaesesaesesssscaseeseeeseeeeseeecseaseeeaeeesas 4\\nA. The AdWords Program, \"Daily Budgets,\" the \"120% Rule,\" and Pausing............ 4\\nB. Plaintiffs\\' Advertising Campaigns...........cccccsscsssssscessssesscseeneeteeeseseceeeneeerenseeeneeees 5\\nATQUMEM 00... eee sseceseceneseestessnevsssevseseceseeesssceseecatesseessueesueensesenescseeseresenseseasesesersusessssenaucarsenssesecaes 7\\nI, Plaintiffs Have No Standing to Seek Restitution for Injury Due to Google\\'s\\nOccasional Delivery of Additional Clicks Under the 120% Rulle............escecscesecteesetseesnees 7\\nA. Plaintiffs Have No Evidence that They Suffered an Injury in Fact Due to\\nBeing Charged up to 120% of their Daily Budget on Certain Days... eee 8\\nB. As a Matter of Law, Lost Business Opportunities Do Not Constitute \"Lost\\nMoney or Property\" as Required by the UCL and FAA... eeecssseseeseesetenseesees 11\\nII. At Minimum, Plaintiffs Suffered No Injury After They Knew that Google Would\\nCharge Them Up to 120% of Their Daily Budget on Certain Days ......... cs eceeeeeeeereeeee 13\\nIII. - Plaintiffs Have No Evidence to Support Any Claim that Google Overcharged\\nThem for \"Partial Month\" Campaigns ..0.......ccccccecscsseeeeseeetscseeeeseeseseenenenecsesarseseseneneseeatees 14\\nCONCLUSION ......seseescsseeceeetseseescncerscsecseeeesssesacsasecussesazsesesseaccesacsessaseacsusenesaeaseccacensnseeesensssaseseeees 15\\n\\n \\n\\n \\n\\nGOOGLE\\'S MOTION FOR PARTIAL SUMMARY\\n\\nJUDGMENT ON PLFS\\' \"120% RULE\" CLAIM -i- CASE NO. C 05-03649 JW\\n410N63-0093/1 FGA 14630941 3\\n\\n \\n\\x0cf\\n\\noO Se JT HD WN\\n\\n10\\n11\\n12\\n13\\n14\\n15\\n16\\n17\\n18\\n19\\n20\\n21\\n22\\n23\\n24\\n25\\n26\\n27\\n28\\n\\nTable of Authorities\\n\\nCases Pages\\n\\nAnimal Legal Def. Fund v. Mendes,\\n160 Cal. App. 4th 136, 72 Cal. Rptr. 3d 553 (2008) ...ccceessesesesessteneeesseseecerscseatsesateeesevens 8\\n\\nBrown v. Bank of Am., N.A.,\\n457 F. Supp. 2d 82 (D. Mass. 2006) oo... ecccessssssesesseseseescsessesesevseseseseessaeeseceeeecstaseeeeeees 12, 13\\n\\nBuckland v. Threshold Enters., Ltd.,\\n155 Cal. App. 4th 798, 66 Cal. Rptr. 3d 543 (2007) oo... cecccssesesssseesssenseseesesseetereaees 11,12, 13\\n\\nCelotex Corp. v. Catrett,\\nATT U.S. 317 (1986) oe eeeeessscessescesesessenscssssesseesesesseseesesnessessesessuseesusnseessscsseesaedacaeeaseusessesaseaees 6\\n\\nChavez v. Blue Sky Natural Beverage Co.,\\n503 F. Supp. 2d 1370 (N.D. Cal. 2007) wo. ccccccssccesesesssesssseseesesscsscsssesseessesseseesesseneaes 7, 8,9\\n\\nChern v. Bank of Am.,\\n15 Cal. 3d 866, 127 Cal. Rptr. 110 (1976) oo. eeeessssescsesscseeseeeseseseseacseseeacseeeeeeseneeecseneneeaceees 10\\n\\nDaro v. Superior Court,\\n151 Cal. App. 4th 1079, 61 Cal. Rptr. 3d 716 (2007) o....ceeceeseseeesceneterecesectacetereneresenesens 7,12\\n\\nHal Roach Studios, Inc. v. Richard Feiner & Co.,\\n896 F.2d 1542 (9th Cir. 1990) oo. cccsccsscssssscsssccsescssescsseccsssevsssesssessecesssesseeesseeeessseeeteseatesssens 6\\n\\nKorea Supply Co. v. Lockheed Martin Corp.,\\n29 Cal. 4th 1134, 131 Cal. Rptr. 2d 29 (2003) occ ccccsccesessssecseseeseecsecseeeeeesseetseeeeserstecsareeens 10\\n\\nKung v. FOM Inv. Corp.,\\n563 F.2d 1316 (Oth Cir, 1977) occceeescsecssescneeseseeecseeeeseneeeseecsesesecseeeeeceeeessenesesaeetseeseteetas 10\\n\\nLujan v. Defenders of Wildlife,\\n504 U.S. 555 (1992) voc eeseseesessctetscsssseessssecsssecucsessecsecseeesesaesessesaesesaesseessesnensseteesesrsaeeates 8\\n\\nMAI Sys. Corp. v. UIPS,\\n856 F. Supp. 538 (N.D. Cal. 1994) ooo cccccssssssscssesseseesesssscesesevseeecseesessssessesesersessasatarsaseeses 12\\n\\nNat\\'l Rural Telecomms. Co-op. v. DIRECTV, Inc.,\\n319 F. Supp. 2d 1059 (C.D, Cal. 2003) vc cccccccecccesccssccsscssscesscesscsscssccssecssessseseseseseaseessanteeses il\\n\\nPeterson y. Cellco P\\'ship,\\n164 Cal. App. 4th 1583, 80 Cal. Rptr. 3d 316 (Ct. App. 2008) oo. eeeeeteeeeenetees 7, 8,9, 12\\n\\nRuiz v. Gap, Inc.,\\n540 F. Supp. 2d 1121 (N.D. Cal. 2008) oo. cececccssscesssceessesssseceeesssesesseeeesesseeeseeeseseasesseaeees 7\\n\\nWalker v. USAA Cas. Ins. Co.,\\n474 F. Supp. 2d 1168 (E.D. Cal. 2007) ooo. ..cccccccccccsscccssscesseeeesscsesessssesecesseeeseeesetesseeaeses 10, 11\\n\\n \\n\\n \\n\\nGOOGLE\\'S MOTION FOR PARTIAL SUMMARY .\\nJUDGMENT ON PLFS\\' \"120% RULE\" AND -ll- CASE NO. C 05-03649 JW\\n\"PARTIAL MONTH\" CLAIMS\\n\\n \\n\\x0c>\\n\\nXO oo \"rN Ww\\n\\n10\\n11\\n12\\n13\\n14\\n15\\n16\\n17\\n18\\n19\\n20\\n21\\n22\\n23\\n24\\n25\\n26\\n27\\n28\\n\\nStatutes and Rules Pages\\nFed. R. Civ. P. 56(C) ceeccscscssssssssessessucssessessucssssasssessvesessncesvesecsasssscaresasssecsusssecsunsavecnessucsnveneesvcaveseceave 6\\nFed. R. Civ. P. S6(euro)(2) vocecceesesesesssssssseseseetsssssssussesevssssesssesessseecsescscseeseessseeecsessseseseseesecacseaeees 10\\nCal. Bus. & Prof. Code 0x00A70x00A7 17200 ef Seuroq. weccecsccsccsssssssssescesessesssssssesscssecsusstessssensesessasesesens 1, passim\\nCal. Bus. & Prof. Code 0x00A7 17204 ooeccccccccsccssssssssssessevesceecssceccssesacssesassesesceavsevesseseassarensease 3, passim\\nCal. Bus. & Prof. Code 0x00A70x00A7 17500 ef Seq. ..cescceccccccssssesssscssesssssscsscsssecssvscesssersssevscsevsersvensees 1, passim\\nCal. Bus. & Prof. Code 0x00A7 17535 w..ccccccsccsscsscsscssccssscessccsecsessecsscsceevsetsesassacsassecereretsevereess 3, passim\\n\\n \\n\\n \\n\\nGOOGLE\\'S MOTION FOR PARTIAL SUMMARY .\\nJUDGMENT ON PLFS\\' \"120% RULE\" AND -1l1- CASE NO. C 05-03649 JW\\n\"PARTIAL MONTH\" CLAIMS\\n\\n \\n\\x0cEE Ww NK\\n\\nSN NHN WN\\n\\n10\\n11\\n12\\n13\\n14\\n15\\n16\\n17\\n18\\n19\\n20\\n21\\n22\\n23\\n24\\n25\\n26\\n27\\n28\\n\\nNotice of Motion and Motion\\nTO ALL PARTIES AND THEIR ATTORNEYS OF RECORD:\\n\\nPLEASE TAKE NOTICE that on November 10, 2008 at 9:00 a.m., or soon thereafter as\\nthe matter may be heard, in Court Room 8 of the United States District Court for the Northern\\nDistrict of California, San Jose Division, defendant Google Inc. (\"Google\") will, and hereby,\\ndoes, move the Court for partial summary judgment dismissing Plaintiffs\\' claims that Google\\'s\\npolicy of delivering \"clicks\" valued at up to 120% of a user\\'s designated \"Daily Budget\" is a\\ndeceptive trade practice that violates California\\'s Unfair Competition Law, Cal. Bus. & Prof.\\nCode 0x00A70x00A7 17200 et seq., and False Advertising Act, Cal. Bus. & Prof. Code 0x00A70x00A7 17500 et seg. This\\nmotion is made on the ground that Plaintiffs lack standing to bring those claims because even if\\nGoogle\\'s policies were somehow deceptive (which Google denies), Plaintiffs suffered no injury\\nin fact and lost no money or property as a result. For the same reasons, Google moves for partial\\nsummary judgment dismissing any claims that Plaintiffs overpaid for campaigns that were\\ncancelled after a portion of a month (\"partial month\" campaigns).\\n\\nGoogle\\'s motion is based on this Notice of Motion, the accompanying Memorandum of\\nPoints and Authorities, the supporting Declarations of Adam Samet and David T. Biderman, filed\\nconcurrently herewith, and the papers and records that are on file in this action, and such other\\nmatters and arguments as may be presented to the Court prior to or at the hearing on the motion.\\n\\nMemorandum of Points and Authorities\\n\\nThis is an action against Google by two participants in \"AdWords,\" Google\\'s online\\nadvertising program. The AdWords program allows advertisers to have ads displayed in response\\nto particular search queries by internet users. A participating advertiser sets a \"Daily Budget\" to\\ncontrol its costs, which in most cases are determined by the number of users that \"click\" on its\\nadvertisement and are thus linked to that advertiser\\'s designated website or sites. Because\\ninternet traffic and query volumes fluctuate significantly, Google\\'s software delivers more clicks\\non some days to make up for other days when delivery is below the targeted level. In particular,\\nas Google explains when advertisers sign up, the AdWords program may deliver additional clicks\\n\\nand charge advertisers up to 120% of their Daily Budget on a given day to make up for shortfalls.\\n\\n \\n\\n \\n\\nGOOGLE\\'S MOTION FOR PARTIAL SUMMARY\\nJUDGMENT ON PLFS\\' \"120% RULE\" AND -1- CASE NO. C 05-03649 JW\\n\"PARTIAL MONTH\" CLAIMS\\n\\n \\n\\x0c& WwW\\n\\no eS ND\\n\\n10\\n11\\n12\\n13\\n14\\n15\\n16\\n17\\n18\\n19\\n20\\n21\\n22\\n23\\n24\\n25\\n26\\n27\\n28\\n\\nThis \"120% Rule\" ensures that advertisers\\' expenses in a given month equal, or nearly equal,\\ntheir Daily Budget times the number of days in that month, without going over that limit.\\n\\nIn its previous orders on the parties\\' cross-motions for summary judgment, this Court\\ngranted summary judgment for Google on Plaintiffs\\' claims for breach of the implied covenant of\\ngood faith and fair dealing and unjust enrichment. See ECF Document No. 193 [Aug. 21, 2007\\nOrder Granting in Part and Denying in Part Defendant\\'s Motion for Summary Judgment (\"ECF #\\n193\")] at 16-17, 20; ECF Document No. 223 [May 14, 2008 Order Granting in Part and Denying\\nin Part Defendant\\'s Motion for Partial Summary Judgment (\"ECF # 223\")] at 3-4. The Court also\\ndenied summary judgment on Plaintiffs\\' claims for (1) breach of contract; (2) violation of\\nCalifornia\\'s Unfair Competition Law (\"UCL\"), Cal. Bus. & Prof. Code 0x00A70x00A7 17200 et seg.; and (3)\\nviolation of California\\'s False Advertising Law (\"FAL\"), Cal. Bus. & Prof. Code 0x00A70x00A7 17500 et\\nseq. See ECF # 193 at 16, 19; ECF # 223 at 3-4, 8, 11. On Plaintiffs\\' breach of contract claim,\\n\\nthis Court held that\\n\\n[uJnder the plain language of the AdWords Agreement, Google is\\nnot in breach of the \"Daily Budget\" provision if the following two\\nthings are true: (1) in any particular day in which a customer\\'s ad\\ncampaign is running, Google charges that customer no more than\\n120% of his or her \"Daily Budget;\" and (2) in any particular month\\niii which a customer\\'s ad is running, Google charges a customer no\\nmore than his or her \"Daily Budget\" multiplied by the days in\\nwhich the ad ran in the month. Accordingly, the Court finds that\\nGoogle\\'s practice of charging customers up to 120% of their\\n\"Daily Budget\" does not, in and of itself, constitute a breach of\\nthe AdWords Agreement.\\n\\nECF # 223 at 8 (emphasis added; footnotes omitted). On the other hand, the Court determined\\nthat a breach might exist if advertisers \"were charged more than their `Daily Budget\\' multiplied\\nby the number of days in which their ad campaigns were running,\" potentially including\\ncustomers running \"partial month\" campaigns and customers who \"paused\" their campaigns\\nduring the month. See id. at 15-16.\\n\\nOn Plaintiffs\\' UCL and FAL claims, this Court found that there were triable issues of fact\\nas to whether a reasonable consumer would have been deceived by Google\\'s use of the term\\n\\n\"Daily Budget.\" See ECF # 193 at 19; ECF # 223 at 10-11. In addition to the \"partial month\"\\n\\n \\n\\n \\n\\nGOOGLE\\'S MOTION FOR PARTIAL SUMMARY\\nJUDGMENT ON PLFS\\' \"120% RULE\" AND -2- CASE NO. C 05-03649 JW\\n\"PARTIAL MONTH\" CLAIMS\\n\\n \\n\\x0cN\\n\\noo eo NHN Dn HO EP W\\n\\n10\\n11\\n12\\n13\\n14\\n15\\n16\\n17\\n18\\n19\\n20\\n21\\n22\\n23\\n24\\n25\\n26\\n27\\n28\\n\\nand \"pausing\" issues described above, this Court suggested that confusion over the term \"Daily\\nBudget\" may have injured advertisers who on certain days received more clicks than the targets\\nthat their Daily Budgets implied. ECF # 223 at 11, fn.10.\\n\\nUnlike the potential injury from \"partial month\" and \"pausing\" issues, the potential injury\\nfrom receiving more than the targeted number of clicks on particular days is not that advertisers\\npaid more for clicks than they had agreed. See id. at 8 (holding that Google\\'s application of the\\n120% Rule did not violate the AdWords Agreement). Rather, the Court indicated that such an\\ninjury might arise if an advertiser lost business opportunities to obtain new customers or retain\\nold ones due to the delivery of clicks in excess of its Daily Budget on certain days. As the Court\\nput it, \"the system could result in `overexposure\\' on certain days, which could create difficulties\\nin meeting demand and maintaining customer satisfaction.\" Jd. at.11, fn.10.\\n\\nThis motion focuses primarily on the purported injury caused by Google\\'s occasional\\ndelivery of clicks above Plaintiffs\\' Daily Budget pursuant to the 120% Rule. As a matter of law,\\nto have standing to assert UCL or FAL claims, a private plaintiff must allege and prove that (1) he\\nsuffered an injury in fact; and (2) he lost money or property as a result of the unfair competition\\nor false advertising. Cal. Bus. & Prof. Code 0x00A70x00A7 17204, 17535. As to the occasional delivery of\\nclicks above their Daily Budgets, the named Plaintiffs cannot meet this standing requirement.\\nFirst, Plaintiffs have no evidence that receiving more visitors to their websites on certain days\\ncaused them to lose any business or caused them any other injury. Second, even if Plaintiffs had\\nsuch evidence, lost business opportunities do not qualify as \"lost money or property\" within the\\nmeaning of the UCL and FAL.\\n\\nAt a minimum, even if Plaintiffs could show an injury in fact and a loss of money or\\nproperty from an occasional increase of clicks and traffic to their websites, Plaintiffs have no\\nstanding to seek restitution of that money or property for the period after they learned that Google\\ndelivered clicks and charged advertisers up to 120% of their Daily Budgets on some days.\\nStanding under the UCL and FAL requires a causal nexus between the acts of unfair competition\\nor false advertising and a plaintiff\\'s injury. Once Plaintiffs had the 120% Rule explained to them,\\n\\nany previous confusion was moot and could no longer cause them compensable injury.\\n\\n \\n\\n \\n\\nGOOGLE\\'S MOTION FOR PARTIAL SUMMARY\\nJUDGMENT ON PLFS\\' \"120% RULE\" AND -3- CASE NO. C 05-03649 JW\\n\"PARTIAL MONTH\" CLAIMS\\n\\n \\n\\x0coO Se ND\\n\\n10\\n11\\n12\\n13\\n14\\n15\\n16\\n17\\n18\\n19\\n20\\n21\\n22\\n23\\n24\\n25\\n26\\n27\\n28\\n\\nFinally, Plaintiffs also cannot maintain any claim that they were injured and lost money or\\nproperty as a result of running \"partial month\" campaigns. As discussed below, the evidence is\\nclear and indisputable: neither Plaintiff was ever charged more than its Daily Budget multiplied\\nby the number of days in which its advertising campaign ran in any month. The only claims on\\n\\nwhich Plaintiffs can conceivably proceed to trial are their \"pausing\" claims.\\n\\nStatement of Facts\\n\\nA. The AdWords Program, \"Daily Budgets,\" the \"120% Rule,\" and Pausing\\n\\nUnder the AdWords program, Google posts \"sponsored link\" ads on its websites or its\\nsyndication partner websites. ECF # 193 at 2; ECF #223 at 2; ECF Document No. 88\\n[Declaration of Michael Schulman in Support of Motion for Summary Judgment (\"Schulman\\nDecl.\")], 43. When an internet user clicks on a sponsored link, he or she is sent to the website or\\nsites designated by the advertiser that purchased the advertisement. ECF # 193 at 2; ECF # 223 at\\n2; Schulman Decl., 5. Google generally charges advertisers based on the number of times their\\nads are clicked on by users, using a methodology called cost-per-click (\"CPC\"). Schulman Decl.,\\n95.\\n\\nIn creating their AdWords campaigns, advertisers set a Daily Budget. ECF # 193 at 2-3;\\nECF # 223 at 3; Schulman Decl., 9. Through their Daily Budget, advertisers can control the\\ncharges they incur over the course of a month. ECF # 193 at 2-3; ECF # 223 at 3; Schulman\\nDecl., { 9; ECF Document No. 90 [Declaration of M. Christopher Jhang in Support of First\\nMotion for Summary Judgment (\"Shang Decl.\")], Ex. D (Excerpts of FAQs for AdWords\\nprogram at 84 & 125 of 489).\\n\\nThe number of clicks that an advertiser receives for a campaign can vary from day to day\\ndepending on the usage patterns of internet users. Schulman Decl., 0x00A7 7. To account for this\\nfluctuation, and to make up for days when the number of clicks delivered is below the targeted\\namount and advertisers accordingly are charged less than their Daily Budget, the AdWords\\nprogram may deliver more clicks and charge advertisers up to 120% of their Daily Budget on\\nother days in the same month. ECF # 193 at 4, 6-7; Jhang Decl., Ex. D (Excerpts of FAQs for\\nAdWords program at 84 & 125 of 489); ECF Document No. 206-12, Ex. F [Deposition of\\n\\n \\n\\n \\n\\nGOOGLE\\'S MOTION FOR PARTIAL SUMMARY\\nJUDGMENT ON PLFS\\' \"120% RULE\" AND -4- CASE NO. C 05-03649 Jw\\n\"PARTIAL MONTH\" CLAIMS\\n\\n \\n\\x0c&\\n\\n\"NA WN\\n\\n10\\n11\\n12\\n13\\n14\\n15\\n16\\n17\\n18\\n19\\n20\\n21\\n22\\n23\\n24\\n25\\n26\\n27\\n28\\n\\nHeather Wilburn (\"Wilburn Depo.\"\\')] at 67:22-68:20. Over the course of a month, this \"120%\\nRule\" is designed to make an advertiser\\'s charges equal or come as close as possible to its Daily\\nBudget times the number of days in that month-but never exceed that amount. ECF # 193 at 4;\\nJhang Decl., Ex. D (Excerpts of FAQs for AdWords program at 84 & 125 of 489); Wilburn Depo.\\nat 67:22-68:20. If an advertiser\\'s daily charges ever exceed 120% of its Daily Budget or its\\nmonthly charges exceed its Daily Budget times the number of days in that month, Google\\nprovides the advertiser an \"overdelivery credit.\" ECF #193 at 3; Jhang Decl., Ex. D (Excerpts of\\nFAQs for AdWords program at 84 & 125 of 489).\\n\\nAt all times, an AdWords advertiser has the option of \"pausing\" its campaign to stop its\\nads from being displayed. ECF # 193 at 3, 7; Jnang Decl., Ex. D (Excerpts of FAQs for\\nAdWords program at 261 of 489). No charges accrue to an advertiser when its campaign is\\npaused. ECF # 193 at 7; Jhang Decl., Ex. D (Excerpts of FAQs for AdWords program at 261 of\\n489). Advertisers may \"un-pause\" their campaigns when and if they wish to resume delivery of\\nclicks. Jhang Decl., Ex. D (Excerpts of FAQs for AdWords program at 261 of 489).\\n\\nB. Plaintiffs\\' Advertising Campaigns\\n\\nPlaintiff CLRB Hanson Industries, LLC is an industrial printing business that began\\nrunning campaigns with Google\\'s AdWords program in July 2002. ECF # 223 at 2; Declaration\\nof David T. Biderman in Support of Google Inc.\\'s Motion for Partial Summary Judgment on\\nPlaintiffs\\' \"120% Rule\" and \"Partial Month\" Claims (\"Biderman Decl.\"), 42, Ex. A [Deposition\\nof CLRB Hanson representative Brett R. Hanson (\"Hanson Depo.\")] at 20:10-15. Plaintiff\\nHoward Stern runs a homework-solving business called \"homeworksolver.net\" and began\\nrunning AdWords campaigns in October 2003. See ECF # 223 at 2; Biderman Decl., 93, Ex. B\\n[Deposition of Howard Stern (\"Stern Depo.\")] at 20:10-17.\\n\\nPlaintiffs were sometimes charged more than 100% of their Daily Budgets on particular\\ndays, but only when Google delivered additional clicks to offset shortfalls occurring during the\\nsame month. Declaration of Adam Samet in Support of Google Inc.\\'s Motion for Partial\\nSummary Judgment on Plaintiffs\\' \"120% Rule\" and \"Partial Month\" Claims (\"Samet Decl.\"), J\\n\\n11. Consistent with Google\\'s policy, neither Plaintiff was ever charged more than 120% of its\\n\\n \\n\\n \\n\\nGOOGLE\\'S MOTION FOR PARTIAL SUMMARY\\nJUDGMENT ON PLFS\\' \"120% RULE\" AND -5- CASE NO. C 05-03649 Jw\\n\"PARTIAL MONTH\" CLAIMS\\n\\n \\n\\x0coOo Oo NS DN\\n\\n10\\n11\\n12\\n13\\n14\\n15\\n16\\n17\\n18\\n19\\n20\\n21\\n22\\n23\\n24\\n25\\n26\\n27\\n28\\n\\nDaily Budget on a given day. Jd. Moreover, Plaintiffs\\' monthly charges never exceeded their\\nDaily Budgets multiplied by the number of days in each month. Jd. When either Plaintiff\\ncanceled an advertising campaign after only part of a month, Google did not charge that Plaintiff\\nmore than its Daily Budget times the number of days that its campaign was running in that month.\\nId.\\n\\nBoth Plaintiffs testified that they paused their AdWords campaigns when they did not\\nwant to receive clicks. Hanson Depo. at 72:18-25, 82:5-13; Stern Depo. at 75:19-76:11. Brett\\nHanson, the representative of CLRB Hanson, paused CLRB Hanson\\'s advertising campaigns\\nwhen there was \"[lJack of capacity within the plant\" to take on additional work. Hanson Depo. at\\n72:18-25. Hansen also paused the campaigns when CLRB Hanson \"met [its] targeted return on\\ninvestment at that point and there [was] no need to continue expending money\" on clicks. Jd.\\nHanson paused CLRB Hanson\\'s campaigns on weekends as well. Jd. at 82:5-13. For his part,\\nPlaintiff Stern testified that he paused his campaigns \"on the weekends because I don\\'t think\\npeople are going to be responding, and I\\'m not available to work on these problems on the\\nweekends\" and when he was \"out of [his] home on vacation.\" Stern Depo. at 75:19-76:11.\\n\\nBoth Plaintiffs sent emails to Google complaining about being charged more than their\\nDaily Budget on certain days. Hanson Depo. at 132:19-134:4, 137:23-138:20, 174:3-17; Stern\\nDepo. at 99:17-24, 104:2-16. In both cases, Google employees responded to these emails by\\nexplaining the 120% Rule. Hanson Depo. at 135:20-137:15, 169:16-170:15, 177:19-178:9; Stern\\nDepo. at 99:17-100:15, 104:2-105:24. Specifically, Google informed Brett Hanson in March\\n2005 of its practice of sometimes charging advertisers up to 120% of their Daily Budget. Hanson\\nDepo. at 135:20-137:15, 169:16-170:15, 177:19-178:9. Google explained to Hanson: \"In\\ngeneral, we try to keep your daily cost fluctuation to no more than 20 percent above your daily\\nbudget. And we make sure that within the 30-day billing period you are never charged more than\\nthe number of days in that billing period times your daily budget.\" Jd. at 135:20-136:6. Google\\nlikewise informed Stern in October 2003-the same month he began running AdWords\\ncampaigns-that he might accrue charges up to 120% of his Daily Budget on any given day.\\nStern Depo. at 99:17-100:15, 104:2-105:24. Google told Stern that \"[i]n general, we try to keep\\n\\n \\n\\n \\n\\nGOOGLE\\'S MOTION FOR PARTIAL SUMMARY\\nJUDGMENT ON PLFS\\' \"120% RULE\" AND -6- CASE NO. C 05-03649 JW\\n\"PARTIAL MONTH\" CLAIMS\\n\\n \\n\\x0c',\n",
       "        'deny', 'train'],\n",
       "       ['Case 4:08-cv-02364-CW\\n1\\n2\\n3\\n4\\n5\\n6\\n7\\n8\\n9\\n10\\n\\nDocument 38\\n\\nFiled 07/14/2008\\n\\nPage 1 of 6\\n\\nClark S. Stone (SBN 202123) cstone@macpherson-kwok.com\\nSteven M. Levitan (SBN 148716) slevitan@macpherson-kwok.com\\nInchan A. Kwon (SBN 247614) ikwon@macpherson-kwok.com\\nMACPHERSON KWOK CHEN & HEID LLP\\n2033 Gateway Place, Suite 400\\nSan Jose, CA 95110\\nTelephone: (408) 392-9250\\nFacsimile: (408) 392-9262\\nAlan L. Barry (pro hac vice) abarry@bellboyd.com\\nMichael J. Abernathy (pro hac vice) mabernathy@bellboyd.com\\nSanjay K. Murthy (SBN 212097) smurthy@bellboyd.com\\nBrian J. Arnold (pro hac vice) barnold@bellboyd.com\\nBELL, BOYD & LLOYD LLP\\n70 West Madison Street, Suite 3100\\nChicago, Illinois 60602\\nTelephone: (312) 372-1121\\nFacsimile: (312) 827-8000\\n\\n11\\n12\\n13\\n\\nAttorneys for Defendants\\nNEURALSTEM, INC., KARL K. JOHE, and\\nI. RICHARD GARR\\n\\n14\\n15\\n16\\n\\nUNITED STATES DISTRICT COURT\\nNORTHERN DISTRICT OF CALIFORNIA\\nOAKLAND DIVISION\\n\\n17\\n18\\n19\\n20\\n21\\n22\\n23\\n24\\n25\\n26\\n\\nSTEMCELLS, INC., a Delaware corporation, and Case No. C 08-02364 CW\\nSTEMCELLS CALIFORNIA, INC., a California\\ncorporation,\\nNOTICE OF MOTION; MOTION AND\\nMEMORANDUM OF POINTS AND\\nPlaintiffs,\\nAUTHORITIES IN SUPPORT OF\\nDEFENDANTS’ MOTION TO EXTEND\\nv.\\nTIME TO ANSWER OR OTHERWISE\\nRESPOND TO THE AMENDED\\nNEURALSTEM, INC., a\\nCOMPLAINT\\nDelaware corporation, KARL K. JOHE, an\\nJudge:\\nHon. Claudia Wilken\\nindividual, and I. RICHARD GARR, an\\nDate:\\nAugust 26, 2008\\nindividual,\\nTime:\\n2:00 p.m.\\nDefendants.\\nCourtroom: Courtroom 2, 4th Floor\\n\\n27\\n28\\n\\nDEFENDANTS’ MOTION TO EXTEND TIME TO ANSWER OR\\nOTHERWISE RESPOND TO THE AMENDED COMPLAINT\\nCASE NO. C 08-02364 (CW)\\n\\n\\x0cCase 4:08-cv-02364-CW\\n\\n1\\n\\nDocument 38\\n\\nFiled 07/14/2008\\n\\nPage 2 of 6\\n\\nTO ALL PARTIES AND THEIR RESPECTIVE ATTORNEYS OF RECORD:\\n\\n2\\n\\nPLEASE TAKE NOTICE that, pursuant to Federal Rule of Civil Procedure 6(b),\\n\\n3\\n\\nDefendants Neuralstem, Inc., Karl K. Johe, and I. Richard Garr (collectively “Defendants”)\\n\\n4\\n\\nrespectfully request that this Court extend the time to answer or otherwise respond to StemCells,\\n\\n5\\n6\\n7\\n8\\n9\\n\\nInc. and StemCells California, Inc.’s (collectively “StemCells” or “Plaintiffs”) Amended\\nComplaint until the lesser of: (1) ten 10 days after the District of Maryland’s ruling on StemCells’\\npotential Motion to Transfer or (2) sixty (60) days.1\\nI.\\n\\nSTATEMENT OF FACTS\\n\\n10\\n\\nOn May 7, 2008, Neuralstem filed a declaratory judgment action in the District of Maryland\\n\\n11\\n\\n(the “Maryland Action”), seeking a declaration that U.S. Patent 7,361,505 (“the ‘505 patent’) is\\n\\n12\\n\\ninvalid, not infringed and unenforceable.2 On May 13, 2008, defendant Neuralstem filed a First\\n\\n13\\n\\nAmended Complaint, adding invalidity and non-infringement claims against U.S. Patent 7,115,418\\n\\n14\\n(“the ‘418 patent’) and seeking a declaration that statements made regarding the reexamination of\\n15\\n16\\n\\ncertain StemCells patents do not constitute “trade libel” or “unfair competition.” Because the\\n\\n17\\n\\nMaryland Action pre-dates the instant matter and the two actions are substantially identical,\\n\\n18\\n\\nDefendants filed a Motion to Stay, Dismiss or Transfer in this Court on May 30, 2008. (Dkt. No.\\n\\n19\\n\\n19, Defendants’ Motion to Dismiss, Transfer or Stay). For reasons stated therein, Defendants\\n\\n20\\n\\nbelieve the District of Maryland—i.e. the first filed court—is the proper forum.\\n\\n21\\n\\nOn July 1, 2008, this Court held “the first-to-file rule is applicable” and “defer[red] to the\\n\\n22\\nDistrict of Maryland to decide the appropriate forum and whether an exception to the first-to-file\\n23\\n24\\n25\\n26\\n27\\n\\nrule is applicable.” (Dkt. No. 37, Order at 8).\\n\\nIt further instructed that if StemCells wished to\\n\\nhave its complaint heard in this Court it should file a motion to transfer the Maryland Action no\\n1\\n\\nAll Exhibits are attached to the Declaration of Sanjay K. Murthy In Support of Defendants’\\nMotion to Extend Time to Answer or Otherwise Respond to the Amended Complaint.\\n\\n2\\n\\nThe “Neuralstem Maryland Action” is Civil Action No. 08-cv-1173.\\n\\n28\\nDEFENDANTS’ MOTION TO EXTEND TIME TO ANSWER OR\\nOTHERWISE RESPOND TO AMENDED COMPLAINT\\nCASE NO. C 08-02364 (CW)\\n\\n1\\n\\n\\x0cCase 4:08-cv-02364-CW\\n\\n1\\n\\nDocument 38\\n\\nFiled 07/14/2008\\n\\nPage 3 of 6\\n\\nlater than July 15, 2008. (Id.). Finally, this Court denied Defendants’ motion to dismiss, transfer\\n\\n2\\n\\nor stay this action and stated that the case management conference scheduled for August 26, 2008\\n\\n3\\n\\nwill go forward, “unless by that date the case has been transferred to Maryland or stayed.” (Id.).\\n\\n4\\n5\\n6\\n\\nAs of today, StemCells has not filed a Motion to Transfer in the Maryland Action.\\nNevertheless, recent correspondence from StemCells’ counsel indicates that it intends to file a\\nmotion transfer on July 15, 2008, the very last day of this Court’s deadline. (Ex. A). StemCells’\\n\\n7\\n8\\n9\\n10\\n\\ndecision to wait until July 15, 2008 to file its motion virtually guarantees that the Maryland Court\\nwill not have sufficient time to rule on the forum issue before the Case Management Conference\\nscheduled for August 26, 2008.\\n\\n11\\n\\nOn July 2, 2008, counsel for Defendants requested a limited extension of time to file an\\n\\n12\\n\\nanswer or otherwise respond to StemCells’ First Amended Complaint. (Ex. B). On July 7, 2008,\\n\\n13\\n\\ncounsel for StemCells rejected this request. (Ex. C). Specifically, counsel for StemCells claimed\\n\\n14\\nthat an extension of time was inconsistent with this Court’s July 1, 2008 Order. (Ex. C).\\n15\\n16\\n\\nII.\\n\\nLAW AND ARGUMENT\\n\\n17\\n\\n“A district court has inherent power to control the disposition of the causes on its docket in\\n\\n18\\n\\na manner which will promote economy of time and effort, for itself, for counsel, and for litigants.”\\n\\n19\\n\\nSee, e.g., Filtrol Corp. v. Kelleher, 467 F.2d 242 (9th Cir. 1973). Under Federal Rule of Civil\\n\\n20\\n\\nProcedure 6(b)(1), “[w]hen an act may or must be done within a specified time, the court may for\\n\\n21\\n\\ngood cause, extend the time: (A) with or without motion or notice if the court acts, or if a request is\\n\\n22\\nmade, before the original time or its extension expires.”\\n23\\n24\\n\\nDefendants respectfully request this Court extend the time to answer or otherwise respond\\n\\n25\\n\\nto StemCells’ First Amended Complaint until after the District of Maryland decides the appropriate\\n\\n26\\n\\nforum and whether an exception to the first-to-file rule is applicable.\\n\\n27\\n\\npleadings in this case before that time would undermine the purpose of the first-to-file rule and\\n\\n28\\nDEFENDANTS’ MOTION TO EXTEND TIME TO ANSWER OR\\nOTHERWISE RESPOND TO AMENDED COMPLAINT\\nCASE NO. C 08-02364 (CW)\\n\\n2\\n\\nProceeding with the\\n\\n\\x0cCase 4:08-cv-02364-CW\\n\\n1\\n\\nDocument 38\\n\\nFiled 07/14/2008\\n\\nPage 4 of 6\\n\\nwould result in costly duplicative litigation that Defendants believe this Court intended to avoid.\\n\\n2\\n\\nIn Texas Instruments, Inc. v. Micron Semiconductors, Inc., for example, the court rejected\\n\\n3\\n\\nthe plaintiff’s argument that a second-filed court can proceed, in its discretion, as long as it does\\n\\n4\\n\\nnot interfere with the first-filed court’s jurisdiction. 815 F. Supp. 994, 999 (E.D. Tex. 1993)\\n\\n5\\n6\\n\\n(“federal district courts are courts of coordinate jurisdiction and equal rank, and must exercise care\\nto avoid interference with each other’s affairs and duplicative litigation”). The court explained,\\n\\n7\\n8\\n9\\n\\n“[a]ny other conclusion would undermine the considerations of comity that courts of concurrent\\njurisdiction must observe.” Id.\\n\\nSimilarly, in Custom Energy, LLC v. Liebert Corp., the court\\n\\n10\\n\\ngranted the defendants an extension of time to file responsive pleadings until ten days after the\\n\\n11\\n\\nfirst-filed court determined the appropriate forum. 1998 U.S. Dist. LEXIS 8319, at *5 (D. Kan.\\n\\n12\\n\\nJune 1, 1998) (“the Court will grant an extension until ten days after the Ohio court issues an order\\n\\n13\\n\\ndetermining the appropriate forum”).\\n\\n14\\nBased on the language of the Order, Defendants do not believe this Court intended to have\\n15\\n16\\n\\nthe parties address substantive issues before the District of Maryland decides the appropriate forum\\n\\n17\\n\\nand whether an exception to the first-to-file rule is applicable. (See Order at 8). Having this case\\n\\n18\\n\\nproceed along with the Maryland case simultaneously would unduly increase the Defendants’\\n\\n19\\n\\nlitigation costs by forcing them to litigate the same issues in two forums and waste already scarce\\n\\n20\\n\\njudicial resources by burdening this Court with substantive motions—and additional briefing—\\n\\n21\\n\\nbefore the Maryland court has ruled. These are precisely the sort of inefficiencies that applying the\\n\\n22\\nfirst-to-file rule is designed to prevent.\\n23\\n24\\n\\nAs this Court has recognized, a motion under the first-to-file rule is not considered within\\n\\n25\\n\\nthe ambit of the defenses enumerated in Rule 12(b). Fujitsu Ltd v. Nanya Tech. Corp., 2007 WL\\n\\n26\\n\\n484789, at *3 (N.D. Cal. Feb. 9, 2007) (noting “motions under the first-to-file rule are generally\\n\\n27\\n\\nconsidered to be outside of the ambit of the Rule 12(b) motions that suffice as responsive\\n\\n28\\nDEFENDANTS’ MOTION TO EXTEND TIME TO ANSWER OR\\nOTHERWISE RESPOND TO AMENDED COMPLAINT\\nCASE NO. C 08-02364 (CW)\\n\\n3\\n\\n\\x0cCase 4:08-cv-02364-CW\\n\\n1\\n2\\n\\nDocument 38\\n\\nFiled 07/14/2008\\n\\nPage 5 of 6\\n\\npleadings”). Accordingly, Defendants have the right to file a substantive motion to dismiss under\\nRule 12(b) concurrent with any responsive pleading.\\n\\n3\\n\\nAs Defendants previously pointed out, the Amended Complaint fails to meet Rule 8(a)’s\\n\\n4\\n\\npleading requirements, thus warranting at least a motion to dismiss for failure to state a claim upon\\n\\n5\\n\\nwhich relief can be granted.3\\n\\n6\\n\\n(Dkt. No 19, Motion to Dismiss, Transfer or Stay at 1 n.1).\\n\\nPlaintiffs, moreover, have plead no facts sufficient to support the exercise of personal jurisdiction\\n\\n7\\n8\\n9\\n\\nover the two non-resident defendants (Mr. Garr and Dr. Johe) both of whom are Neuralstem\\nofficers. (See Amended Complaint, at ¶¶ 3-9, Dkt. No. 19 at 6, lines 6-7). Plaintiffs’ related unfair\\n\\n10\\n\\ncompetition and trade libel claims likewise suffer from similar deficiencies. Absent an extension\\n\\n11\\n\\nof time, Neuralstem, StemCells, and this Court will be forced to expend considerable resources\\n\\n12\\n\\naddressing these threshold issues, all of which would be moot if the Maryland court denies\\n\\n13\\n\\nStemCells’ to-be-filed motion to transfer.\\n\\n14\\nDefendants do not seek this extension to delay the resolution of this matter, they only desire\\n15\\n16\\n\\nto avoid litigating the same issues in two different courts simultaneously until the proper forum is\\n\\n17\\n\\ndecided. Indeed, Defendants filed a declaratory judgment action in Maryland before this case to\\n\\n18\\n\\nhave these issues resolved. Under these circumstances, a limited extension of time to respond to\\n\\n19\\n\\nthe Amended Complaint until the forum issue is resolved would conserve judicial resources and\\n\\n20\\n\\nensure that Defendants do not have to answer repetitive allegations on a piecemeal basis.\\n\\n21\\n\\nCONCLUSION\\n\\n22\\nFor reasons state above, Defendants’ respectfully request this Court grant their Motion to\\n23\\n24\\n25\\n26\\n27\\n\\nExtend Time to Answer or Otherwise Respond to StemCells’ Amended Complaint until the lesser\\nof ten (10) days after the Maryland court determines the appropriate forum as called for by this\\n3\\n\\nPlaintiffs effectively conceded that their Amended Complaint is deficient by belatedly\\nidentifying new facts that they claim support their infringement allegations in their Opposition\\nto Defendants’ Motion to Dismiss, Transfer or Stay. (Dkt No. 33, Opposition to Defendants’\\nMotion to Dismiss, Transfer or Stay at 5 n.3).\\n\\n28\\nDEFENDANTS’ MOTION TO EXTEND TIME TO ANSWER OR\\nOTHERWISE RESPOND TO AMENDED COMPLAINT\\nCASE NO. C 08-02364 (CW)\\n\\n4\\n\\n\\x0cCase 4:08-cv-02364-CW\\n\\n1\\n2\\n\\nDocument 38\\n\\nFiled 07/14/2008\\n\\nPage 6 of 6\\n\\nCourt’s Order of July 1, 2008 or sixty (60) days.\\nDated: July 14, 2008\\n\\nRespectfully submitted,\\n\\n3\\n\\nBELL, BOYD & LLOYD LLP\\n\\n4\\n\\nBy: /s/ Sanjay K. Murthy___________\\nAlan L. Barry (pro hac vice)\\nabarry@bellboyd.com\\nMichael J. Abernathy (pro hac vice)\\nmabernathy@bellboyd.com\\nSanjay K. Murthy (SBN 212097)\\nsmurthy@bellboyd.com\\nBrian J. Arnold (pro hac vice)\\nbarnold@bellboyd.com\\n70 West Madison, Suite 3100\\nChicago, Illinois 60602-4207\\n(312) 372-1121\\n(312) 827-8000\\n\\n5\\n6\\n7\\n8\\n9\\n10\\n11\\n12\\n13\\n14\\n15\\n16\\n17\\n18\\n\\nClark S. Stone (SBN 202123)\\ncstone@macpherson-kwok.com\\nSteven M. Levitan (SBN 148716)\\nslevitan@macpherson-kwok.com\\nInchan A. Kwon (SBN 247614)\\nikwon@macpherson-kwok.com\\nMACPHERSON KWOK CHEN & HEID LLP\\n2033 Gateway Place, Suite 400\\nSan Jose, CA 95110\\nTelephone: (408) 392-9250\\nFacsimile: (408) 392-9262\\nAttorney for Defendants\\nNEURALSTEM, INC., KARL K. JOHE, and\\nI. RICHARD GARR\\n\\n19\\n20\\n21\\n22\\n23\\n24\\n25\\n26\\n27\\n28\\nDEFENDANTS’ MOTION TO EXTEND TIME TO ANSWER OR\\nOTHERWISE RESPOND TO AMENDED COMPLAINT\\nCASE NO. C 08-02364 (CW)\\n\\n5\\n\\n\\x0cCase 4:08-cv-02364-CW\\n\\n1\\n2\\n3\\n4\\n5\\n6\\n7\\n8\\n9\\n10\\n11\\n\\nDocument 38-2\\n\\nFiled 07/14/2008\\n\\nPage 1 of 2\\n\\nClark S. Stone (SBN 202123) cstone@macpherson-kwok.com\\nMACPHERSON KWOK CHEN & HEID LLP\\n2033 Gateway Place, Suite 400\\nSan Jose, CA 95110\\nTelephone: (408) 392-9250\\nFacsimile: (408) 392-9262\\nAlan L. Barry (pro hac vice pending) abarry@bellboyd.com\\nMichael J. Abernathy (pro hac vice pending) mabernathy@bellboyd.com\\nSanjay K. Murthy (SBN 212097) smurthy@bellboyd.com\\nBELL, BOYD & LLOYD LLP\\n70 West Madison Street, Suite 3300\\nChicago, Illinois 60602\\nTelephone: (312) 372-1121\\nFacsimile: (312) 827-8000\\nAttorneys for Defendants\\nNEURALSTEM, INC., KARL K. JOHE, and\\nI. RICHARD GARR\\n\\n12\\n13\\n\\nUNITED STATES DISTRICT COURT\\n\\n14\\n\\nNORTHERN DISTRICT OF CALIFORNIA\\n\\n15\\n\\nOAKLAND DIVISION\\n\\n16\\n17\\n18\\n19\\n\\nSTEMCELLS, INC., a Delaware corporation,\\nand STEMCELLS CALIFORNIA, INC., a\\nCalifornia corporation,\\nPlaintiffs,\\n\\n20\\n21\\n\\nv.\\n\\n22\\n\\nNEURALSTEM, INC., a\\nDelaware corporation, KARL K. JOHE, an\\nindividual, and I. RICHARD GARR, an\\nindividual,\\n\\n23\\n24\\n25\\n\\nDefendants.\\n\\n26\\n27\\n28\\n\\nDECLARATION OF SANJAY K. MURTHY IN SUPPORT\\nDEFENDANTS’ MOTION TO EXTEND TIME TO ANSWER OR\\nOTHERWISE RESPOND TO THE AMENDED COMPLAINT\\nCASE NO. C 08-02364 (CW)\\n\\nCase No. C 08-02364 CW\\nDECLARATION OF SANJAY K.\\nMURTHY IN SUPPORT OF\\nDEFENDANTS’ MOTION TO EXTEND\\nTIME TO ANSWER OR OTHERWISE\\nRESPOND TO THE AMENDED\\nCOMPLAINT\\nJudge:\\nDate:\\nTime:\\nCourtroom:\\n\\nHon. Claudia Wilken\\nAugust 26, 2008\\n2:00 p.m.\\nCourtroom 2, 4th Floor\\n\\n\\x0cCase 4:08-cv-02364-CW\\n\\n1\\n2\\n\\nDocument 38-2\\n\\nFiled 07/14/2008\\n\\nPage 2 of 2\\n\\nI, Sanjay K. Murthy, declare:\\n1.\\n\\nI am a partner with the law firm of Bell, Boyd & Lloyd LLP and I am counsel for\\n\\n3\\n\\ndefendants Neuralstem, Inc., Karl K. Johe and I. Richard Garr (collectively “Defendants”) in the\\n\\n4\\n\\nabove-captioned matter. I submit this Declaration in support of Defendants’ Motion to Extend\\n\\n5\\n\\nTime to Answer or Otherwise Respond to the Amended Complaint.\\n\\n6\\n7\\n8\\n9\\n10\\n\\n2.\\n\\nAttached hereto as Exhibit A is a true and correct copy of an e-mail I received from\\n\\nJohn R. Fuisz, counsel for StemCells, Inc. and StemCells California, Inc. on July 9, 2008.\\n3.\\n\\nAttached hereto as Exhibit B is a true and correct copy of a letter I sent to William\\n\\nGaede, counsel for StemCells, Inc. and StemCells California, Inc. on July 2, 2008.\\n4.\\n\\nAttached hereto as Exhibit C is a true and correct copy of a letter I received from\\n\\n11\\n\\nJohn R. Fuisz, counsel for StemCells, Inc. and StemCells California, Inc., on July 7, 2008 in\\n\\n12\\n\\nresponse to my letter of July 2, 2008.\\n\\n13\\n14\\n15\\n\\nI declare under penalty of perjury under the laws of the United States that the foregoing is\\ntrue and correct.\\nExecuted this 14th day of July, 2008 at Chicago, Illinois.\\n\\n16\\n/S/Sanjay K Murthy\\nSanjay K. Murthy\\n\\n17\\n18\\n19\\n20\\n21\\n22\\n23\\n24\\n25\\n26\\n27\\n28\\nDECLARATION OF SANJAY K. MURTHY IN SUPPORT\\nDEFENDANTS’ MOTION TO EXTEND TIME TO ANSWER OR\\nOTHERWISE RESPOND TO THE AMENDED COMPLAINT\\nCASE NO. C 08-02364 (CW)\\n\\n1\\n\\n\\x0cMessage\\nCase 4:08-cv-02364-CW\\n\\nDocument 38-3\\n\\nFiled 07/14/2008\\n\\nPage 1 of 2\\nPage 1 of 2\\n\\nJager, Julie A.\\nFrom:\\n\\nFuisz, John [jfuisz@mwe.com]\\n\\nSent:\\n\\nWednesday, July 09, 2008 11:26 AM\\n\\nTo:\\n\\nMurthy, Sanjay K.; StemCells-NeuralStem (1877) (0109015-00044)\\n\\nCc:\\n\\nGaede, William; Shahida, Stephen\\n\\nSubject: RE: Neuralstem, Inc. v. StemCells, Inc et al. - Civil Action No. 08-1877\\nSanjay We disagree on the service issue. Nevertheless, we interpret the Court\\'s Order as requiring a response on July\\n15, 2008 by all of the defendants, which includes Neurospheres.\\nAs of today, I am still working though representation issues and cannot provide you with a response on behalf of\\nNeurospheres. We should have the representation issues resolved prior to July 15th such that you can expect a\\nmotion to dismiss being filed on behalf of SCI and Neurospheres on the 15th. If we don\\'t work out the\\nrepresentation issues by the 15th, you can expect Neurospheres\\' counsel will file something by the 15th.\\n\\nJohn R. Fuisz\\nMcDermott Will & Emery LLP\\nTel. 202.756.8029\\n\\nFrom: Murthy, Sanjay K. [mailto:smurthy@bellboyd.com]\\nSent: Wednesday, July 09, 2008 12:03 PM\\nTo: Fuisz, John; StemCells-NeuralStem (1877) (0109015-00044)\\nCc: Gaede, William; Shahida, Stephen\\nSubject: Neuralstem, Inc. v. StemCells, Inc et al. - Civil Action No. 08-1877\\n\\nDear John:\\nAs you know Neurospheres Holding Ltd. (\"Neurospheres\") was served on June 12, 2008.\\nAccordingly, its Answer or other response is past due. Please let me know by close of business\\ntoday if you will be filing your response. Otherwise, we will move the Court to enter default\\njudgment.\\nNeurospheres was not a party to StemCells, Inc. and StemCells California, Inc.\\'s (\"StemCells\")\\nmotion for an extension of time. In fact, you even disclaimed representing Neurospheres during\\nour telephonic hearing. Thus, Neurospheres is not covered by Judge Williams\\' Order and nothing\\nin the Order indicates otherwise.\\nFinally, you argued to Judge Williams that you wanted enough time to guarantee that StemCells\\'\\nresponse could be coordinated with Neurospheres\\' response, which is why StemCells was given\\nuntil July 15, 2008, the latest date by which we said service would be perfected, plus 20 days.\\nIndeed, the relief you requested was for StemCells\\' response \"to be the same date on which the\\nresponse is due for the yet to be served Co-Defendant, Neurospheres Holding Ltd,\" which was\\nJuly 2.\\n\\n7/14/2008\\n\\n\\x0cMessage\\nCase 4:08-cv-02364-CW\\n\\nDocument 38-3\\n\\nFiled 07/14/2008\\n\\nPage 2 of 2\\nPage 2 of 2\\n\\nPlease call me if you have any questions regarding the above.\\nBest regards,\\nSanjay\\nSanjay K. Murthy | Bell, Boyd & Lloyd LLP\\n70 W. Madison St., Ste. 3100 | Chicago, IL 60602-4207\\nt. 312-807-4416 | f. 312-827-8138\\nsmurthy@bellboyd.com | www.bellboyd.com\\n\\nThe information contained in this e-mail message may be privileged, confidential, and protected from disclosure. If you are not the intended recipient, any further\\ndisclosure or use, dissemination, distribution, or copying of this message or any attachment is strictly prohibited. If you think that you have received this e-mail message\\nin error, please delete it and notify Sanjay K. Murthy (smurthy@bellboyd.com). If this message contains advice with respect to a Federal tax matter, in accordance with\\nthe Treasury Department\\'s Circular 230 such advice is not intended or written to be used, and cannot be used, for the purpose of avoiding any Federal tax penalties.\\n\\n*******************************************************************************************************************\\nIRS Circular 230 Disclosure: To comply with requirements imposed by the IRS, we inform you that any U.S.\\nfederal tax advice contained herein (including any attachments), unless specifically stated otherwise, is not\\nintended or written to be used, and cannot be used, for the purposes of (i) avoiding penalties under the Internal\\nRevenue Code or (ii) promoting, marketing or recommending to another party any transaction or matter herein.\\n________________________________________________________________________________\\nThis message is a PRIVILEGED AND CONFIDENTIAL communication. This message and all attachments are a\\nprivate communication sent by a law firm and may be confidential or protected by privilege. If you are not the\\nintended recipient, you are hereby notified that any disclosure, copying, distribution or use of the information\\ncontained in or attached to this message is strictly prohibited. Please notify the sender of the delivery error by\\nreplying to this message, and then delete it from your system. Thank you.\\n*******************************************************************************************************************\\nPlease visit http://www.mwe.com/ for more information about our Firm.\\n\\n7/14/2008\\n\\n\\x0cCase 4:08-cv-02364-CW\\n\\nDocument 38-4\\n\\nFiled 07/14/2008\\n\\nEXHIBIT B\\n\\nPage 1 of 2\\n\\n\\x0cCase 4:08-cv-02364-CW\\n\\nDocument 38-4\\n\\nFiled 07/14/2008\\n\\nPage 2 of 2\\n\\n\\x0cCase 4:08-cv-02364-CW\\n\\nDocument 38-5\\n\\nFiled 07/14/2008\\n\\nEXHIBIT C\\n\\nPage 1 of 2\\n\\n\\x0cCase 4:08-cv-02364-CW\\n\\nDocument 38-5\\n\\nFiled 07/14/2008\\n\\nPage 2 of 2\\n\\n\\x0c',\n",
       "        'grant', 'test'],\n",
       "       ['UNITED STATES DISTRICT COURT\\nFOR THE WESTERN DISTRICT OF VIRGINIA\\nCharlottesville Division\\nELIZABETH SINES, SETH WISPELWEY,\\nMARISSA BLAIR, TYLER MAGILL, APRIL\\nMUNIZ, HANNAH PEARCE, MARCUS\\nMARTIN, JOHN DOE, JANE DOE 1, JANE\\nDOE 2, and JANE DOE 3,\\nPlaintiffs,\\nv.\\nJASON KESSLER, RICHARD SPENCER,\\nCHRISTOPHER CANTWELL, JAMES\\nALEX FIELDS, JR., VANGUARD\\nAMERICA, ANDREW ANGLIN,\\nMOONBASE HOLDINGS, LLC, ROBERT\\n“AZZMADOR” RAY, NATHAN DAMIGO,\\nELLIOT KLINE a/k/a/ ELI MOSELY,\\nIDENTITY EVROPA, MATTHEW\\nHEIMBACH, MATTHEW PARROTT a/k/a\\nDAVID MATTHEW PARROTT,\\nTRADITIONALIST WORKER PARTY,\\nMICHAEL HILL, MICHAEL TUBBS,\\nLEAGUE OF THE SOUTH, JEFF SCHOEP,\\nNATIONAL SOCIALIST MOVEMENT,\\nNATIONALIST FRONT, AUGUSTUS SOL\\nINVICTUS, FRATERNAL ORDER OF THE\\nALT-KNIGHTS, MICHAEL “ENOCH”\\nPEINOVICH, LOYAL WHITE KNIGHTS OF\\nTHE KU KLUX KLAN, and EAST COAST\\nKNIGHTS OF THE KU KLUX KLAN a/k/a\\nEAST COAST KNIGHTS OF THE TRUE\\nINVISIBLE EMPIRE,\\n\\nCivil Action No. 3:17-cv-00072-NKM\\n\\nJURY TRIAL DEMANDED\\n\\nDefendants.\\n\\nDOE PLAINTIFFS’ MOTION TO PROCEED UNDER PSEUDONYMS AND\\nMEMORANDUM IN SUPPORT\\n\\nCase 3:17-cv-00072-NKM-JCH Document 98 Filed 11/13/17 Page 1 of 18 Pageid#: 418\\n\\n\\x0cINTRODUCTION\\nThe Doe Plaintiffs are an African-American man and three female members of a Jewish\\nsynagogue in Charlottesville, who protested Defendants’ neo-Nazi and white supremacist march\\nin Charlottesville on August 11-12, 2017, and were attacked and threatened by Defendants, coconspirators, and their supporters. The Court should permit the Doe Plaintiffs to proceed under\\npseudonyms in this case to protect them from further threats and physical and emotional harm.\\nDefendants, their co-conspirators, and their supporters openly advocate and planned for\\nviolence against the Doe Plaintiffs, and have already physically attacked and threatened them.\\nDefendant and co-conspirator James Fields hit one of the Doe Plaintiffs with a car in a deadly\\nattack that killed one person and injured dozens of others, causing her to suffer severe injuries.\\nHe barely missed another Doe Plaintiff in the same attack, but she was close enough that her\\nshirt was sprayed with the blood of the victims. Defendants and co-conspirators attacked\\nindividuals, including other Doe Plaintiffs, with mace or another type of caustic substance, and\\nmade threats against all of them, including “let’s fucking gas the kikes and have a race war” and\\ncalled for “ethnic cleansing.” Defendants do not even try to hide their calls for violence against\\nthe Doe Plaintiffs, as they openly proclaim “we look up to men like Adolf Hitler . . . as\\ninspirations for what we can achieve.”\\nDefendants also have a practice of disclosing and publishing the identities of individuals\\nthat oppose their message and conduct, so that those individuals become greater targets for\\nviolence and threats from Defendants, their co-conspirators, and sympathizers.\\nUnless the Doe Plaintiffs are allowed to proceed anonymously, their identities will be\\npublic and they will be subject to further violence and threats from Defendants, co-conspirators,\\n\\n1\\nCase 3:17-cv-00072-NKM-JCH Document 98 Filed 11/13/17 Page 2 of 18 Pageid#: 419\\n\\n\\x0cand their supporters because of their race, religion, status as plaintiffs, and because they\\nprotested Defendants’ hateful beliefs.\\nFACTS\\nA.\\n\\nThe Doe Plaintiffs.\\n\\nPlaintiff Jane Doe 1 is a female Jewish undergraduate at University of Virginia (“UVA”).\\nJane Doe 1 Declaration (Exhibit 1), ¶ 2. She is the daughter of Jane Doe 2 and sister of Jane Doe\\n3. Id., ¶ 3.\\nPlaintiff Jane Doe 2 is a female member of Congregation Beth Israel and a resident of\\nCharlottesville, Virginia. She is the mother of Jane Doe 1 and Jane Doe 3. Jane Doe 2\\nDeclaration (Exhibit 2), ¶ 3.\\nPlaintiff Jane Doe 3 is a female Jewish resident of Charlottesville, Virginia. She is the\\nsister of Jane Doe 1 and daughter of Jane Doe 2. Jane Doe 3 Declaration (Exhibit 3), ¶ 3.\\nPlaintiff John Doe is an African-American male resident of Charlottesville, Virginia and\\na student at UVA. John Doe Declaration (Exhibit 4), ¶ 2.\\nB.\\n\\nDefendants Commit and Promote Racist and Anti-Semitic Violence.\\n\\nDefendants are neo-Nazis, Klansmen, and white supremacists who espouse racist and\\nanti-Semitic ideologies and conspired to cause the violence and harassment in Charlottesville on\\nAugust 11 and 12. Compl., ¶¶ 21-45. Defendants and their followers explicitly advocate\\nviolence against African Americans and Jews, and several Defendants have committed such\\nviolence. Their hate-based violence and threats are well documented, and include:\\n•\\n\\nOn August 12, 2017, Defendant Fields drove a Dodge Challenger into a crowd of\\npeaceful counter-protesters in Charlottesville, injuring dozens -- including several\\nplaintiffs in this case -- and killing a 32-year old woman, Heather Heyer. Id., ¶\\n24. He is charged with second degree murder, malicious wounding, and hit and\\nrun. Id.\\n\\n2\\nCase 3:17-cv-00072-NKM-JCH Document 98 Filed 11/13/17 Page 3 of 18 Pageid#: 420\\n\\n\\x0c•\\n\\nAfter Defendant Fields’s attack, Defendant Loyal White Knights changed its\\noutgoing voicemail message to say: “Nothing makes us more proud at the KKK\\nthan when we see white patriots such as James Fields, Jr., age 20, taking his car\\nand running over nine communist anti-fascist, killing one nigger-lover named\\nHeather Heyer. James Fields hail victory. It’s men like you that have made the\\ngreat white race strong and will be strong again.” Id., ¶ 44.\\n\\n•\\n\\nDefendant Tubbs previously served a four-year prison sentence for planning to\\nbomb Jewish- and black-owned businesses in Florida. Id., ¶ 36.\\n\\n•\\n\\nDefendant Kessler attacked a man in downtown Charlottesville while collecting\\nsignatures for his petition to remove the African-American vice mayor, Wes\\nBellamy, from the Charlottesville City Council. Id., ¶ 21.\\n\\n•\\n\\nDefendant Cantwell suggests to his followers “let’s fucking gas the kikes and\\nhave a race war.” Compl., ¶ 23. He has been charged with two felony counts of\\nillegal use of tear gas and one felony count of malicious bodily injury by means of\\na caustic substance for his actions in Charlottesville on August 11-12. Id., ¶ 23.\\n\\n•\\n\\nDefendant Daily Stormer calls its website the “world’s most genocidal” website,\\nand includes sections titled “Jewish Problem” and “Race War.” Id., ¶ 26.\\n\\n•\\n\\nDefendant Ray threatened to intimidate and harass Charlottesville’s Jewish\\npopulation, carried a banner (later posted on Defendant Daily Stormer’s website)\\nthat read: “Gas the kikes, race war now!” Id., ¶ 187.\\n\\n•\\n\\nDefendant Spencer has called for “ethnic cleansing.” Id., ¶ 22.\\n\\n•\\n\\nIn the run-up to the Charlottesville rally, Defendant Hill tweeted: “If you want to\\ndefend the South and Western civilization from the Jew and his dark-skinned\\nallies, be at Charlottesville on 12 August,” and Defendant Daily Stormer wrote\\n“Next stop: Charlottesville, VA. Final stop: Auschwitz.” Id., ¶ 4, 94.\\n\\n•\\n\\nDefendant Heimbach, co-chair of the umbrella organization of approximately\\ntwenty white supremacist organizations, Klan groups, and neo-Nazi groups, has\\nexplained “we look up to men like Adolf Hitler . . . as inspirations for what we\\ncan achieve.” Id., ¶ 32.\\n\\n•\\n\\nDefendant Traditionalist Worker Party has said: “Trust nobody who fails to name\\nthe Jew, who fails to explicitly and consistently oppose the Jew, and who\\npreaches cleverness or nuance on the JQ [Jewish Question].” Id., ¶ 34.\\n\\n•\\n\\nDefendant Nationalist Front was conceived to be “the thread that would unite\\nwhite supremacist and white nationalist circles.” Id., ¶ 40.\\n\\n•\\n\\nDefendant Augustus Sol Invictus has said that a violent, second Civil War is\\nnecessary. Id., ¶ 41.\\n3\\n\\nCase 3:17-cv-00072-NKM-JCH Document 98 Filed 11/13/17 Page 4 of 18 Pageid#: 421\\n\\n\\x0cMany of Defendants utilize social media and other platforms allowing them to reach and\\nmobilize scores of devout followers. See id., ¶¶ 21-45. Not only do the Defendants themselves\\nmurder, attack, threaten and/or harass Jews and non-whites, they urge and conspire with their\\ncompatriots to engage in similar actions in the name of neo-Nazism and white supremacy.\\nSupra, pp. 2-3. Defendants organized and promoted a neo-Nazi and white supremacist march in\\nCharlottesville, Virginia, that took place on August 11-12, 2017. Compl., ¶¶ 1, 3. The marchers\\ncame from all over to attend. Id., ¶ 1. The purpose of the march was to inflict violence and\\ninstill fear on people who are targets of Defendants’ hatred, specifically Jews and African\\nAmericans such as John Doe and Jane Does 1-3. Id., ¶¶ 21-45.\\nDefendants and their co-conspirators also engage in a practice known as “doxing,” where\\nthey ascertain and then publish the personal information (such as names and addresses), of\\npeople who oppose them or who are the targets of their hate. Compl., ¶¶ 127, 130-32. For\\nexample, Defendant East Coast Knights published on the internet the home address of a woman\\nwho opposed it, and told its followers “[w]e will be having a rally at this address next week.\\nBring your own torch.” Id., ¶ 125. Another co-conspirator posted the address of a block party in\\nCharlottesville, describing it as a “Negro block party,” and urged other white supremacists to\\nattend, prompting one follower to suggest “[w]e shank them.” Id., ¶ 126. When Defendants’\\nopponents are identified, they are often subjected to death threats or other harm by Defendants or\\ntheir supporters. Indeed, the mother of the woman who was killed by Defendant Fields has\\nalready received scores of death threats just for speaking out against Defendants and their cause. 1\\n\\n1\\n\\nJohn Bowden, Mother of Charlottesville Victim Has Received Death Threats, The Hill\\n(Aug. 17, 2017, 9:03 PM), http://thehill.com/homenews/news/347044-mother-of-charlottesvillevictim-has-received-death-threats (last visited Nov. 13, 2017).\\n4\\nCase 3:17-cv-00072-NKM-JCH Document 98 Filed 11/13/17 Page 5 of 18 Pageid#: 422\\n\\n\\x0cC.\\n\\nDefendants’ Violence and Harassment on August 11, 2017.\\n\\nOn August 11, 2017, Defendants organized and engaged in a torchlight march in\\nCharlottesville, which was to culminate at the statue of Thomas Jefferson near the Rotunda at\\nUVA. Id., ¶ 133; Exhibit 1, ¶ 4; Exhibit 4, ¶ 3. John Doe and Jane Doe 1 -- a male African\\nAmerican and a female Jew, respectively -- were part of a small group of around 30 community\\nmembers and students who had gathered at the Rotunda to peacefully protest Defendants’ march.\\nExhibit 1, ¶ 4; Exhibit 4, ¶ 3.\\nAs Defendants’ mob reached the steps of the Rotunda, hundreds of neo-Nazis and white\\nsupremacists descended upon John Doe, Jane Doe 1, and the others in their group who had\\nlocked arms around the Thomas Jefferson statue. Exhibit 1, ¶ 5; Exhibit 4, ¶ 4. The mob\\nencircled John Doe and Jane Doe 1 and the other students, and blocked them from leaving the\\narea. Exhibit 1, ¶ 5; Exhibit 4, ¶ 4. Defendants and their co-conspirators shouted threats and\\nracist and anti-Semitic chants, including making monkey noises at the black protesters, and\\nshouting “blood and soil” (a Nazi slogan) and “Jews will not replace us.” Exhibit 1, ¶ 5; Exhibit\\n4, ¶ 4. At one point, Defendant Ray shouted, “The heat here is nothing compared to what you’re\\ngoing to get in the ovens!” Compl., ¶ 156. John Doe was one of the few African-American men\\npresent, and he and Jane Doe 1 were each terrified and feared for their lives. Exhibit 1, ¶ 5;\\nExhibit 4, ¶¶ 3-4. Members of Defendants’ mob also sprayed John Doe and Jane Doe 1 with\\nmace or another type of caustic substance, which caused their eyes to burn and made it difficult\\nto breathe. Exhibit 1, ¶ 5; Exhibit 4, ¶ 4.\\nAs Defendants and their co-conspirators entrapped the peaceful protesters, they began to\\nthrow their torches at the students. Exhibit 4, ¶ 4. Fearing for their lives, John Doe and Jane Doe\\n1 struggled to escape and eventually fled, while Defendants, with their followers and co-\\n\\n5\\nCase 3:17-cv-00072-NKM-JCH Document 98 Filed 11/13/17 Page 6 of 18 Pageid#: 423\\n\\n\\x0cconspirators climbed to the top of the Thomas Jefferson statue and waved their torches high in\\nthe air, yelling, “Hail Spencer! Hail victory!” Compl., ¶ 160; Exhibit 1, ¶ 5; Exhibit 4, ¶ 4.\\nD.\\n\\nDefendants’ Violence and Harassment on August 12, 2017.\\n\\nThe following day, August 12, 2017, John Doe and Jane Does 1-3 all peacefully\\nprotested Defendants’ march. Exhibit 1, ¶ 6; Exhibit 2, ¶ 4; Exhibit 3, ¶ 4; Exhibit 4, ¶ 5. During\\nthe march, Defendants and their supporters carried anti-Semitic signs, wore Nazi swastikas, and\\nyelled and chanted anti-Semitic, racist, and pro-Nazi slogans, such as “Heil Hitler,” “Jews will\\nnot replace us,” and “blood and soil.” Exhibit 3, ¶ 5; Exhibit 4, ¶ 5.\\nAt one point, Jane Doe 1 and Jane Doe 3 were on Fourth Street in downtown\\nCharlottesville, when Defendant Fields intentionally drove a car into the crowd of peaceful\\nprotesters, killing a 32-year old woman, Heather Heyer, and injuring dozens of others. Compl.,\\n¶¶ 226-30; Exhibit 1, ¶ 7; Exhibit 3, ¶ 7. Jane Doe 1 was directly hit by Defendant Fields’s\\nvehicle. Exhibit 3, ¶ 9. Her sister, Jane Doe 3, who had been steps away from the attack, was so\\nclose to the impact that blood of the victims sprayed onto her shirt. Exhibit 3, ¶ 8. In the\\ncommotion after the attack, Jane Doe 3 initially could not find Jane Doe 1, but eventually found\\nher lying on the ground in shock and seriously injured. Exhibit 3, ¶ 9. The crash broke both of\\nher legs, and caused severe contusions, a concussion, and bleeding from her head. Exhibit 1, ¶¶\\n8-9; Exhibit 3, ¶ 9. Jane Doe 3 remained by her sister’s side and helped provide first aid for\\nnearly 30 minutes while they waited for an ambulance to take them to the emergency room.\\nExhibit 1, ¶ 8; Exhibit 3, ¶ 10.\\nWhen the girls arrived at the hospital, Jane Doe 3 called her mother, Jane Doe 2, to let\\nher know what happened. Exhibit 2, ¶ 6; Exhibit 3, ¶ 10. When she arrived at the hospital it was\\non lockdown due to the mass casualty event and was not allowing any family members of the\\n\\n6\\nCase 3:17-cv-00072-NKM-JCH Document 98 Filed 11/13/17 Page 7 of 18 Pageid#: 424\\n\\n\\x0cwounded to enter. Exhibit 2, ¶ 6; Exhibit 3, ¶ 10. Jane Doe 2 finally found Jane Doe 3, who\\ncollapsed into her mother’s arms, physically and emotionally exhausted. Exhibit 2, ¶ 6; Exhibit\\n3, ¶ 10.\\nWhen Jane Doe 2 was finally able to enter the hospital, she waited to hear any updates\\nabout her daughter’s condition. Exhibit 2, ¶ 7. Watching the news in the waiting room, Jane\\nDoe 2, for the first time, saw the video of Defendant Fields driving into the crowd where her\\ndaughters had been -- playing over and over on television. Id.\\nJane Doe 1 required major surgery to repair bone and multiple ligaments, and spent\\nseveral days in the hospital. Exhibit 1, ¶ 9. Her recovery will take over a year and will require\\nextensive physical therapy sessions several times each week. Id. In addition to her severe\\nphysical injuries, Jane Doe 1 also suffered emotional distress as a result of the attack. Exhibit 1,\\n¶ 9. She has been unable to return to school full time. Id.\\nJane Doe 2, who was with her daughters shortly before the attack, has been unable to\\nresume a normal life. Exhibit 2, ¶ 8. She spends much of her time caring for her daughter, Jane\\nDoe 1. Id. She has sought psychological support for herself and her family, and suffers from\\nanxiety, which manifests in difficulty sleeping and difficulty focusing. Id.\\nJane Doe 3, who only narrowly missed being struck in the attack, suffered severe\\nemotional distress as a result of Defendants’ conduct and attack on August 12. Exhibit 3, ¶ 11.\\nShe spends a significant amount of time taking care of her sister, Jane Doe 1, and has not been\\nable to work or seek employment as a result. Id. She suffers from crippling anxiety, has had\\ndifficulty sleeping and focusing, and has become hyper-vigilant and severely anxious in public\\nspaces after the attack. Id.\\n\\n7\\nCase 3:17-cv-00072-NKM-JCH Document 98 Filed 11/13/17 Page 8 of 18 Pageid#: 425\\n\\n\\x0cJohn Doe suffered numerous emotional injuries as a result of the events on August 11-12,\\n2017. Exhibit 4, ¶ 6. He has had difficulty focusing in school, and when he walks past the\\nThomas Jefferson statue on campus, he immediately recalls the harm, threats, and fear he\\nsuffered. Id. He has also had trouble sleeping and developed a heightened, anxious sense of\\nawareness in public spaces. Id.\\nAfter the events on August 11-12, the Doe Plaintiffs met with a security expert and have\\ntaken steps to increase their safety and guard against further harm from Defendants and their\\nsupporters. Id., ¶ 7; Exhibit 1, ¶ 10; Exhibit 2, ¶ 9; Exhibit 3, ¶ 12.\\nARGUMENT\\nI.\\n\\nTHE COURT SHOULD PERMIT THE DOE PLAINTIFFS TO PROCEED\\nANONYMOUSLY.\\nA.\\n\\nThe Court Has Discretion to Allow Plaintiffs to Proceed Anonymously.\\n\\n“Federal courts traditionally have recognized that in some cases the general presumption\\nof open trials -- including identification of parties and witnesses by their real names -- should\\nyield in deference to sufficiently pressing needs for party or witness anonymity.” James v.\\nJacobson, 6 F.3d 233, 242 (4th Cir. 1993). “The crucial interests served by open judicial\\nproceedings are not compromised by allowing a party to proceed anonymously,” because “[i]f a\\nplaintiff is granted leave to proceed under a pseudonym, the public is not denied its right to\\nattend the proceedings or inspect the court’s opinions and orders.” Doe v. Alger, 317 F.R.D. 37,\\n39 (W.D. Va. 2016) (citations omitted). Thus, a federal court may exercise its discretion to\\nallow parties to proceed anonymously. James, 6 F.3d at 242.\\nIn deciding whether to allow a party to proceed under a pseudonym, the Court will\\nbalance the party’s interest in anonymity against the public interest in openness and any\\nprejudice to the defendants. Int’l Refugee Assistance Project v. Trump, 2017 WL 818255, at *1\\n8\\nCase 3:17-cv-00072-NKM-JCH Document 98 Filed 11/13/17 Page 9 of 18 Pageid#: 426\\n\\n\\x0c(D. Md. 2017). Under this analysis, the Fourth Circuit has identified a non-exhaustive list of\\nfactors the Court should consider:\\n(1) whether the justification asserted by the requesting party is merely to avoid the\\nannoyance and criticism that may attend any litigation or is to preserve privacy in\\na matter of sensitive and highly personal nature;\\n(2) whether identification poses a risk of retaliatory physical or mental harm to\\nthe requesting party or even more critically, to innocent non-parties;\\n(3) the ages of the persons whose privacy interests are sought to be protected;\\n(4) whether the action is against a governmental or private party; and\\n(5) the risk of unfairness to the opposing party from allowing an action against it\\nto proceed anonymously.\\nId. (citing James, 6 F.3d at 238-39). Consideration of these factors show the Court should\\nexercise its discretion to allow the Doe Plaintiffs to proceed under pseudonyms.\\nB.\\n\\nThe Doe Plaintiffs Already Suffered Violence and Harm from Defendants\\nand Their Supporters, and Are at Risk of Further Retaliatory Harm.\\n\\nCourts routinely permit plaintiffs to proceed anonymously where there is a risk they\\ncould be subject to “retaliation, physical harm or harassment” if their identities are disclosed.\\nE.g., Trump, 2017 WL 818255, at *1-2 (allowing plaintiffs to proceed under pseudonyms where\\nthere was a risk plaintiffs would be subjected to physical harm if their identities were disclosed);\\nAlger, 317 F.R.D. at 40 (“Doe’s identification . . . would likely increase his risk of [physical or\\nmental] harm from other persons.”); Doe v. New Ritz, Inc., 2015 WL 4389699, at *2 (D. Md.\\n2015) (allowing plaintiff to proceed under pseudonym where she had a “fear of physical and\\nmental harm” as a result of retaliation by defendants); see also Doe v. Stegall, 653 F.2d 180, 186\\n(5th Cir. 1981) (“Evidence on the record indicates that the Does may expect extensive\\nharassment and perhaps even violent reprisals if their identities are disclosed.”); Doe v. Shakur,\\n164 F.R.D. 359, 362 (S.D.N.Y. 1996) (“Plaintiff’s allegation that she has been subjected to death\\n9\\nCase 3:17-cv-00072-NKM-JCH Document 98 Filed 11/13/17 Page 10 of 18 Pageid#: 427\\n\\n\\x0cthreats would provide a legitimate basis for allowing her to proceed anonymously.”); Doe v.\\nBarrow County, Ga., 219 F.R.D. 189, 193 (N.D. Ga. 2003) (allowing plaintiff to proceed\\nanonymously where others sharing her view received “boos” and were told to “shut up and sit\\ndown,” and plaintiff feared retaliation for filing the lawsuit). This factor “weighs heavily” on the\\nanalysis. Trump, 2017 WL 818255, at *2.\\nIf a plaintiff was already threatened or harmed by a defendant, that alone is a sufficient\\nbasis to find there is a risk of retaliation, harm or harassment. Javier H. v. Garcia-Botello, 211\\nF.R.D. 194, 196 (W.D.N.Y. 2002) (allowing use of pseudonym where “[d]efendants have\\nthreatened [plaintiffs] with violence in the past, and have demonstrated a willingness to carry out\\nthose threats.”); Roe v. Providence Health Sys.-Or., 2007 WL 1876520, at *2 (D. Or. 2007)\\n(allowing use of pseudonym where plaintiff “suffered past violence” inflicted by defendant).\\nThe risk of harm does not need to be certain or even probable. Rather, even “[p]otential\\nretaliatory physical or mental harm” is a sufficient basis to proceed anonymously. Trump, 2017\\nWL 818255, at *2. It is enough that a plaintiff “fears that disclosure of his participation in this\\ncase could result in retaliation” or that she “may be harassed.” Id. at *2 (emphasis added) (citing\\nDoes I thru XXIII v. Advanced Textile Corp., 214 F.3d 1058, 1071 (9th Cir. 2000) (explaining it\\nis enough if plaintiffs “fear” retaliation, and they “do not need to prove that they face a danger of\\nphysical injury”) (emphasis in original)).\\nCourts will also permit anonymity if the disclosure of a plaintiff’s identity could\\njeopardize the safety of their family members or subject them to harm or harassment. Trump,\\n2017 WL 818255, at *1 (allowing plaintiffs to proceed anonymously where harm could come “to\\nthemselves or innocent family members”); Nelson v. Green, 2007 WL 984127, at *2 (W.D. Va.\\n2007) (allowing plaintiff-father to proceed anonymously to protect identity of plaintiff-daughter).\\n\\n10\\nCase 3:17-cv-00072-NKM-JCH Document 98 Filed 11/13/17 Page 11 of 18 Pageid#: 428\\n\\n\\x0cHere, this factor “weighs heavily” in the Doe Plaintiffs’ favor.\\nFirst, the Doe Plaintiffs have all already been physically and/or emotionally injured by\\nthe actions of Defendants and their supporters and co-conspirators. Defendant Fields struck Jane\\nDoe 1 with a car, causing severe physical injuries, including two broken legs. Supra, pp. 6-7.\\nOther co-conspirators sprayed John Doe and Jane Doe 1 with mace, and showered them with\\nthreats and insults. Supra, pp. 4-5. Jane Doe 3 narrowly missed the car attack, but suffered the\\nemotional trauma of her sister being run over right beside her. Supra, pp. 6-7. Jane Doe 2 had to\\nwatch video of Defendant Fields intentionally running over her daughter with a car, causing her\\nsevere anxiety and requiring her to seek professional psychological support. Supra, pp. 6-7.\\nSecond, if their identities are revealed, it is likely Doe Plaintiffs will face further\\nretaliatory harm and harassment. Defendants have repeatedly conspired to cause, called for, and\\nsupported violence and harassment directed at African Americans, Jews, and others who protest\\non their behalf, suggesting, for example, that people “gas the kikes” and start “ethnic cleansing.”\\nSupra, pp. 2-3. And, Defendants are well-known for publicly revealing and disseminating the\\nidentities of people who speak out against them, encouraging and eliciting further threats of\\nviolence, and potentially acts of violence, against innocent people -- such as the Doe Plaintiffs -who oppose Defendants’ race-based hatred. Supra, p. 3. The disclosure of the Doe Plaintiffs’\\nidentities will expose them to additional harm by Defendants, their co-conspirators and other\\nsympathizers of Defendants who want to show support for the neo-Nazi and white supremacy\\ncause. After surviving Defendants’ violence on August 11-12 -- including a car attack that\\nalready killed one peaceful protester -- the Court should not force the Doe Plaintiffs to risk\\nexposure to further retaliatory violence, threats, or harassment at the hands of Defendants, their\\nco-conspirators, or their supporters.\\n\\n11\\nCase 3:17-cv-00072-NKM-JCH Document 98 Filed 11/13/17 Page 12 of 18 Pageid#: 429\\n\\n\\x0cThird, the Jane Does are all closely related family members. Thus, if any of them are\\ndenied the right to proceed anonymously, it would be easy for Defendants or an assailant to\\nidentify the others, which would jeopardize their safety and subject them to harm or harassment.\\nTrump, 2017 WL 818255, at *1 (allowing plaintiffs to proceed anonymously where disclosure of\\ntheir true names could result in harm to “innocent family members”).\\nC.\\n\\nIdentification of the Jane Doe Plaintiffs Would Reveal Their “Highly\\nPersonal” Religious Identity.\\n\\nCourts will allow a plaintiff to proceed anonymously if the plaintiff seeks to do so, not to\\navoid “annoyance and criticism,” but to preserve “highly personal” information that the plaintiff\\ndoes not want defendants or others to associate with her. Trump, 2017 WL 818255, at *2\\n(granting permission to proceed anonymously where plaintiffs’ “religious faith . . . if disclosed,\\ncould jeopardize their safety”); New Ritz, Inc., 2015 WL 4389699, at *2 (“Doe is not merely\\nconcerned with avoiding annoyance or criticism; her unrebutted affidavit articulates a legitimate\\nfear of physical and mental harm.”). “[R]eligion is perhaps the quintessentially private matter.”\\nStegall, 653 F.2d at 186; Trump, 2017 WL 818255, at *2 (“[A] privacy concern relating to\\nreligious faith . . . . [is] sensitive and personal in nature.”); Doe v. Porter, 370 F.3d 558, 560 (6th\\nCir. 2004) (holding “personal beliefs and practices” are a “private matter” and allowing plaintiffs\\nto proceed anonymously).\\nHere, Defendants espouse pro-Nazi beliefs, hatred and violence toward Jews, suggested\\nthat people “gas the kikes,” call for “ethnic cleansing,” urge their supporters to “defend the South\\nand Western civilization from the Jew,” propose “Final Stop: Auschwitz,” say they “look up to\\nmen like Adolf Hitler,” and demand that others “consistently oppose the Jew.” Supra, pp. 2-3.\\nJane Does 1-3 are members of a Jewish synagogue in Charlottesville. Thus, the public\\nidentification of the Jane Does would allow Defendants to identify them as prime targets of their\\n12\\nCase 3:17-cv-00072-NKM-JCH Document 98 Filed 11/13/17 Page 13 of 18 Pageid#: 430\\n\\n\\x0cviolence and hatred. This “could jeopardize their safety,” and would only exacerbate the\\nlikelihood of further harm, threats, and harassment the Jane Does would receive from Defendants\\nand their supporters. See Trump, 2017 WL 818255, at *2.\\nD.\\n\\nDefendants Will Not Be Prejudiced.\\n\\nThere will be no prejudice to Defendants by the Doe Plaintiffs proceeding anonymously.\\nThere are eleven plaintiffs in this case, and countless witnesses to Defendants’ conduct, so many\\nof the relevant facts will come from witnesses other than the Doe Plaintiffs. Barrow County,\\nGa., 219 F.R.D. at 194 (holding there was no prejudice from plaintiff proceeding anonymously\\nbecause many facts “will likely come from witnesses other than the plaintiff”). And, Plaintiffs’\\ncounsel will disclose the Doe Plaintiffs’ identities to the Court, and will negotiate an appropriate\\nprotective order with defense counsel if, for example, “attorney’s eyes only” treatment of the\\nDoes’ identities is appropriate. 2 E.g., id. at 193 (allowing plaintiff to proceed anonymously\\nwhere her identity would be revealed to the court and counsel for the defense).\\nE.\\n\\nThe Other Factors Do Not Outweigh Plaintiffs’ Interest in Proceeding\\nAnonymously.\\n\\nThe remaining factors -- whether any plaintiffs are minors, and whether the lawsuit is\\nagainst the government -- do not apply. See New Ritz, Inc., 2015 WL 4389699, at *2 (granting\\npermission to proceed anonymously, and noting that where parties were not minors, “[t]he third\\nfactor does not apply”). Thus, the only applicable considerations weigh heavily in favor of the\\nDoe Plaintiffs proceeding anonymously in this case.\\n\\n2\\n\\nDefendants’ counsel, for the most part, has not yet entered an appearance in this matter,\\nso Plaintiffs’ counsel cannot yet consider the propriety of disclosing the Doe Plaintiffs’ identities\\nto defense counsel under an “attorney’s eyes only” designation.\\n13\\n\\nCase 3:17-cv-00072-NKM-JCH Document 98 Filed 11/13/17 Page 14 of 18 Pageid#: 431\\n\\n\\x0cCONCLUSION\\nFor the foregoing reasons, the Court should grant this Motion and order that the Doe\\nPlaintiffs may proceed anonymously.\\n\\nDated: November 13, 2017\\n\\nRespectfully submitted,\\ns/ Robert T. Cahill\\nRobert T. Cahill (VSB 38562)\\nCOOLEY LLP\\n11951 Freedom Drive, 14th Floor\\nReston, VA 20190-5656\\nTelephone: (703) 456-8000\\nFax: (703) 456-8100\\nrcahill@cooley.com\\nOf Counsel:\\nRoberta A. Kaplan (pro hac vice)\\nJulie E. Fink (pro hac vice)\\nChristopher B. Greene (pro hac vice)\\nSeguin L. Strohmeier (pro hac vice)\\nKAPLAN & COMPANY, LLP\\n350 Fifth Avenue, Suite 7110\\nNew York, NY 10118\\nTelephone: (212) 763-0883\\nrkaplan@kaplanandcompany.com\\njfink@kaplanandcompany.com\\ncgreene@kaplanandcompany.com\\nsstrohmeier@kaplanandcompany.com\\nKaren L. Dunn (pro hac vice)\\nWilliam A. Isaacson (pro hac vice)\\nBOIES SCHILLER FLEXNER LLP\\n1401 New York Ave, NW\\nWashington, DC 20005\\nTelephone: (202) 237-2727\\nFax: (202) 237-6131\\nkdunn@bsfllp.com\\nwisaacson@bsfllp.com\\n\\n14\\nCase 3:17-cv-00072-NKM-JCH Document 98 Filed 11/13/17 Page 15 of 18 Pageid#: 432\\n\\n\\x0cPhilip M. Bowman (pro hac vice)\\nYotam Barkai (pro hac vice)\\nJoshua J. Libling (pro hac vice)\\nBOIES SCHILLER FLEXNER LLP\\n575 Lexington Ave.\\nNew York, NY 10022\\nTelephone: (212) 446-2300\\nFax: (212) 446-2350\\npbowman@bsfllp.com\\nybarkai@bsfllp.com\\njlibling@bsfllp.com\\nAlan Levine (pro hac vice)\\nCOOLEY LLP\\n1114 Avenue of the Americas, 46th Floor\\nNew York, NY 10036\\nTelephone: (212) 479-6260\\nFax: (212) 479-6275\\nalevine@cooley.com\\nDavid E. Mills (pro hac vice)\\nCOOLEY LLP\\n1299 Pennsylvania Avenue, NW\\nSuite 700\\nWashington, DC 20004\\nTelephone: (202) 842-7800\\nFax: (202) 842-7899\\ndmills@cooley.com\\nCounsel for Plaintiffs\\n\\n15\\nCase 3:17-cv-00072-NKM-JCH Document 98 Filed 11/13/17 Page 16 of 18 Pageid#: 433\\n\\n\\x0cCERTIFICATE OF SERVICE\\nI hereby certify that on November 13, 2017, I filed the foregoing with the Clerk of Court\\nthrough the CM/ECF system, which will send a notice of electronic filing to:\\nJustin Saunders Gravatt\\nDavid L. Hauck\\nDavid L. Campbell\\nDuane, Hauck, Davis & Gravatt, P.C.\\n100 West Franklin Street, Suite 100\\nRichmond, VA 23220\\njgravatt@dhdglaw.com\\ndhauck@dhdglaw.com\\ndcampbell@dhdglaw.com\\nCounsel for Defendant James A. Fields, Jr.\\nBryan Jones\\n106 W. South St., Suite 211\\nCharlottesville, VA 22902\\nbryan@bjoneslegal.com\\nCounsel for Defendants Michael Hill, Michael Tubbs and League of the South\\nI further hereby certify that on November 13, 2017, I also served the following non-ECF\\nparticipants, via U.S. mail, First Class and postage prepaid, addressed as follows:\\nLoyal White Knights of the Ku Klux Klan\\na/k/a Loyal White Knights Church of\\nInvisible Empire Inc.\\nc/o Registered Agent United States\\nCorporation Agents, Inc.\\n6135 Park South Drive\\nCharlotte, NC 28210\\n\\nNathan Damigo (pro se)\\nIdentity Europa, Inc. (pro se)\\na/k/a Identity Evropa\\n14773 Orange Blossom Rd\\nOakdale, CA 95361\\nMatthew Parrott\\na/k/a David Matthew Parrott\\n950 S. Ridgecrest Lane\\nPaoli, IN 47454\\n\\nMichael Peinovich\\na/k/a Michael “Enoch” Peinovich\\n519 E. 82nd Street, Apt 2C\\nNew York, NY 10028\\n\\nJeff Schoep (pro se)\\nNational Socialist Movement\\nNationalist Front\\nf/k/a Aryan National Alliance\\n22803 Rausch Avenue\\nEastpointe, MI 48021\\n16\\n\\nCase 3:17-cv-00072-NKM-JCH Document 98 Filed 11/13/17 Page 17 of 18 Pageid#: 434\\n\\n\\x0cChristopher Cantwell – inmate\\n(Offender ID no. 1915204)\\nAlbemarle-Charlottesville Regional Jail\\n160 Peregory Lane\\nCharlottesville, VA 22902\\n\\nRobert Ray\\na/k/a Robert \"Azzmador\" Ray and/or\\nRobert Warren Ray\\n22345 Cherry Lane\\nFrankston, TX 75763\\n\\nElliot Kline\\na/k/a Eli Mosely and/or Eli Mosley\\n117 Mesa Drive\\nReading, PA 19608\\n\\nTraditionalist Worker Party\\nRegistered agent: Thomas Buhls\\n2517 Federal Road\\nBenson, NC 27504\\n\\nJason Kessler\\n207 Pineridge Lane\\nCharlottesville, VA 22911\\n\\nMatthew Heimbach\\n3099 Buchanan Road SE, # 411\\nCleveland, TN 37323\\n\\ns/ Robert T. Cahill\\nRobert T. Cahill (VSB 38562)\\nCOOLEY LLP\\n11951 Freedom Drive, 14th Floor\\nReston, VA 20190-5656\\nTelephone: (703) 456-8000\\nFax: (703) 456-8100\\nEmail: rcahill@cooley.com\\nCounsel for Plaintiffs\\n152832521\\n\\n17\\nCase 3:17-cv-00072-NKM-JCH Document 98 Filed 11/13/17 Page 18 of 18 Pageid#: 435\\n\\n\\x0c',\n",
       "        'grant', 'train'],\n",
       "       ...,\n",
       "       ['Case 3:07-cv-02000-H-CAB\\n\\n1\\n2\\n3\\n\\nDocument 58\\n\\nFiled 11/21/2007\\n\\nPage 1 of 4\\n\\nJames S. Blackburn (State Bar No. 169134)\\nARNOLD & PORTER LLP\\n777 South Figueroa Street, 44th Floor\\nLos Angeles, California 90017-5844\\nTelephone: (213) 243-4000\\nFacsimile: (213) 243-4199\\n\\n4\\n5\\n6\\n7\\n8\\n9\\n10\\n\\nJoseph A. Micallef (admitted pro hac vice)\\nARNOLD & PORTER LLP\\n555 Twelfth Street, N.W.\\nWashington, D.C. 20004-1206\\nTelephone: (202) 942-5000\\nFacsimile: (202) 942-5999\\nJoel M. Freed (admitted pro hac vice)\\nMcDERMOTT WILL & EMERY LLP\\n600 13th Street, N.W.\\nWashington, D.C. 20005-3096\\nTelephone: (202) 756-8000\\nFacsimile: (202) 756-8087\\n\\n11\\nAttorneys for Dell Inc.\\n12\\n13\\n14\\n\\nUNITED STATES DISTRICT COURT\\nSOUTHERN DISTRICT OF CALIFORNIA\\n\\n15\\n16\\n17\\n18\\n19\\n20\\n21\\n22\\n23\\n24\\n25\\n26\\n\\n)\\n)\\n)\\nPlaintiffs and Counterclaim-defendants, )\\n)\\nv.\\n)\\n)\\nGATEWAY, INC. AND GATEWAY\\n)\\nCOUNTRY STORES LLC, GATEWAY\\n)\\nCOMPANIES, INC., GATEWAY\\n)\\nMANUFACTURING LLC and\\n)\\nCOWABUNGA ENTERPRISES, INC.,\\n)\\n)\\nDefendants and Counter-claimants,\\n)\\n)\\nand\\n)\\n)\\nMICROSOFT CORPORATION,\\n)\\n)\\nIntervener and Counter-claimant,\\n)\\n)\\nLUCENT TECHNOLOGIES INC. and\\nMULTIMEDIA PATENT TRUST\\n\\nCase No. 07-CV-2000-H (CAB)\\nconsisting of matters severed from\\nconsolidated cases:\\nCase No. 02-CV-2060-B (CAB)\\nCase No. 03-CV-0699-B (CAB)\\nCase No. 03-CV-1108-B (CAB)\\nDELL INC.’S NOTICE OF MOTION\\nAND MOTION FOR STAY OR, IN THE\\nALTERNATIVE, SEVERANCE OF THE\\nHASKELL AND NETRAVALI PATENTS\\nFOR CONSOLIDATION WITH CASE\\nNO. 07-CV-0747\\nJudge Marilyn L. Huff\\nHearing Date: January 7, 2008\\nHearing Time: 10:30 a.m.\\nLocation:\\nCourtroom 13, 5th Floor\\n\\n27\\n28\\n\\nCase No. 07-CV-2000-H (CAB) consisting of matters severed from consolidated cases:\\nCase No. 02-CV-2060-B (CAB); Case No. 03-CV-0699-B (CAB); Case No. 03-CV-1108-B (CAB)\\n\\n\\x0cCase 3:07-cv-02000-H-CAB\\n\\n1\\n2\\n3\\n4\\n5\\n6\\n7\\n8\\n9\\n10\\n11\\n12\\n\\nDocument 58\\n\\nFiled 11/21/2007\\n\\nPage 2 of 4\\n\\n)\\n)\\n)\\nPlaintiff and Counter-defendant,\\n)\\n)\\nv.\\n)\\n)\\nLUCENT TECHNOLOGIES INC.,\\n)\\n)\\nDefendant and Counter-claimant,\\n)\\n)\\n)\\nLUCENT TECHNOLOGIES INC. and\\n)\\nMULTIMEDIA PATENT TRUST,\\n)\\n)\\nPlaintiffs and Counterclaim-defendants, )\\n)\\nv.\\n)\\n)\\nDELL INC.,\\n)\\n)\\nDefendant and Counter-claimant.\\n)\\n)\\nMICROSOFT CORPORATION,\\n\\n13\\n14\\n15\\n16\\n17\\n18\\n19\\n20\\n21\\n22\\n23\\n24\\n25\\n26\\n27\\n28\\n\\nCase No. 07-CV-2000-H (CAB) consisting of matters severed from consolidated cases:\\nCase No. 02-CV-2060-B (CAB); Case No. 03-CV-0699-B (CAB); Case No. 03-CV-1108-B (CAB)\\n\\n\\x0cCase 3:07-cv-02000-H-CAB\\n\\n1\\n2\\n\\nDocument 58\\n\\nFiled 11/21/2007\\n\\nPage 3 of 4\\n\\nTO ALL PARTIES AND THEIR COUNSEL OF RECORD:\\nPLEASE TAKE NOTICE that, on January 7, 2008 at 10:30 A.M., or as soon thereafter as\\n\\n3\\n\\nthe matter may be heard, in the Courtroom of the Honorable Marilyn L. Huff of the United States\\n\\n4\\n\\nDistrict Court, located at 880 Front Street, San Diego, California 92101-8900, defendants and\\n\\n5\\n\\ncounterclaimants Dell Inc. (“Dell”), Microsoft Corporation, Gateway, Inc., Gateway Country\\n\\n6\\n\\nStores, LLC, Gateway Companies, Inc., Gateway Manufacturing LLC and Cowabaunga\\n\\n7\\n\\nEnterprises, Inc. (collectively, “Defendants”) will move, and hereby do move, pursuant to this\\n\\n8\\n\\nCourt’s inherent authority to control its own docket, see Landis v. North American Co., 299 U.S.\\n\\n9\\n\\n248, 254, 57 S. Ct. 163, 81 L. Ed. 153 (1936), for a stay of the trial in this action with respect to\\n\\n10\\n\\nU.S. Patent No. 4,958,226 (the “Haskell Patent”) and U.S. Patent No. 4,383,272 (the “Haskell\\n\\n11\\n\\nPatent”) pending a decision in the recent action brought by MPEG LA, L.L.C. (“MPEG LA”),\\n\\n12\\n\\nMPEG LA, L.L.C. v. Alcatel Lucent, Lucent Technologies, Inc. and Multimedia Patent Trust, in\\n\\n13\\n\\nDelaware Chancery Court seeking, inter alia, a declaration that Defendants and all other MPEG LA\\n\\n14\\n\\nMPEG-2 licensees are licensed under the Haskell and Netravali Patents pursuant to their license\\n\\n15\\n\\nagreements with MPEG LA (the “MPEG LA Action”). A finding by the Delaware Chancery Court\\n\\n16\\n\\nin MPEG LA’s favor would obviate a need for a trial in this action on the Haskell and Netravali\\n\\n17\\n\\nPatents, making a stay the most efficient way to proceed. Moreover, absent a stay, trial on the\\n\\n18\\n\\nHaskell and Netravali Patents will occur before MPEG LA’s claims are heard, and may result in the\\n\\n19\\n\\nimposition of billion dollar judgments against Defendants on patents covered by their MPEG LA\\n\\n20\\n\\nlicenses.\\n\\n21\\n\\nIn the alternative, in the event the Court declines to stay this action with respect to the\\n\\n22\\n\\nHaskell and Netravali Patents, Defendants will move, and hereby do move, pursuant to Rules 21\\n\\n23\\n\\nand 42 of the Federal Rules of Civil Procedure, for severance of the Haskell and Netravali Patents\\n\\n24\\n\\nfrom this action and consolidation of those patents for trial with the recent action brought by MPT\\n\\n25\\n\\ncaptioned Multimedia Patent Trust v. Microsoft Corporation, et al., Case No. 07-CV-0747 (the\\n\\n26\\n\\n“MPT Action”). Trying the Haskell and Netravali Patents along with the three patents asserted in\\n\\n27\\n\\nthe MPT Action will streamline and render more efficient the upcoming trial in this action as well\\n\\n28\\n\\nas the trial in this action. The MPT Action alleges infringement of three additional video coding\\n-1Case No. 07-CV-2000-H (CAB) consisting of matters severed from consolidated cases:\\nCase No. 02-CV-2060-B (CAB); Case No. 03-CV-0699-B (CAB); Case No. 03-CV-1108-B (CAB)\\n\\n\\x0cCase 3:07-cv-02000-H-CAB\\n\\nDocument 58\\n\\nFiled 11/21/2007\\n\\nPage 4 of 4\\n\\n1\\n\\npatents assigned by Lucent to MPT. MPT’s infringement contentions with respect to those patents\\n\\n2\\n\\nconcern many of the same products as MPT’s contentions with respect to the Haskell and Netravali\\n\\n3\\n\\nPatents, and trial of both sets of patents will involve some of the same witnesses. By contrast, the\\n\\n4\\n\\nHaskell and Netravali Patents have no overlap with the other patents to be tried in this action, which\\n\\n5\\n\\ninvolve very different areas of technology, products and witnesses. Moreover, consolidating the\\n\\n6\\n\\nHaskell and Netravali Patents together with the MPT Action will allow time for the Delaware court\\n\\n7\\n\\nto render a decision on MPEG LA’s license claims, which may obviate the need for any trial on the\\n\\n8\\n\\nHaskell and Netravali Patents. Finally, consolidation would eliminate the potential for a double\\n\\n9\\n\\nrecovery by MPT on its video coding infringement claims. MPT’s damages theory for the Haskell\\n\\n10\\n\\nand Netravali Patents is based on a purported licensing practice by Lucent to license all of its\\n\\n11\\n\\nMPEG essential patents for 0.5% of the selling price of a computer, or a minimum of $1.50.\\n\\n12\\n\\nHowever, this purported practice included a license not only to the Haskell and Netravali Patents\\n\\n13\\n\\nbut also the patents asserted in the MPT Action for a single royalty. Trying the patents separately\\n\\n14\\n\\nunfairly gives MPT the opportunity to recover its 0.5% royalty twice, when its own alleged\\n\\n15\\n\\nlicensing policy calls for collection of only one royalty for all of the patents.\\n\\n16\\n\\nThis motion is based on this Notice of Motion and Motion, the Memorandum of Points and\\n\\n17\\n\\nAuthorities in support thereof, the declaration of James S. Blackburn filed concurrently herewith,\\n\\n18\\n\\nthe pleadings, records and files in this action, and upon such other and further evidence and\\n\\n19\\n\\nargument as may properly be presented prior to and at the hearing on the Motion.\\n\\n20\\n21\\n22\\n23\\n\\nNovember 21, 2007\\n\\nARNOLD & PORTER LLP\\nJames S. Blackburn\\nJoseph A. Micallef\\nMcDERMOTT WILL & EMERY LLP\\nJoel M. Freed\\n\\n24\\n25\\n26\\n27\\n\\nBy: /s/ Katherine B. Farkas\\nKatherine B. Farkas\\nkatherine.farkas@aporter.com\\nAttorney for Dell Inc.\\n\\n28\\n-2Case No. 07-CV-2000-H (CAB) consisting of matters severed from consolidated cases:\\nCase No. 02-CV-2060-B (CAB); Case No. 03-CV-0699-B (CAB); Case No. 03-CV-1108-B (CAB)\\n\\n\\x0c',\n",
       "        'deny', 'train'],\n",
       "       ['Case 2:10-cv-03113-R -RC Document 65\\n\\nFiled 01/15/10 Page 1 of 44 Page ID #:576\\n\\n\\x0cCase 2:10-cv-03113-R -RC Document 65\\n\\nFiled 01/15/10 Page 2 of 44 Page ID #:577\\n\\n\\x0cCase 2:10-cv-03113-R -RC Document 65\\n\\nFiled 01/15/10 Page 3 of 44 Page ID #:578\\n\\n\\x0cCase 2:10-cv-03113-R -RC Document 65\\n\\nFiled 01/15/10 Page 4 of 44 Page ID #:579\\n\\n\\x0cCase 2:10-cv-03113-R -RC Document 65\\n\\nFiled 01/15/10 Page 5 of 44 Page ID #:580\\n\\n\\x0cCase 2:10-cv-03113-R -RC Document 65\\n\\nFiled 01/15/10 Page 6 of 44 Page ID #:581\\n\\n\\x0cCase 2:10-cv-03113-R -RC Document 65\\n\\nFiled 01/15/10 Page 7 of 44 Page ID #:582\\n\\n\\x0cCase 2:10-cv-03113-R -RC Document 65\\n\\nFiled 01/15/10 Page 8 of 44 Page ID #:583\\n\\n\\x0cCase 2:10-cv-03113-R -RC Document 65\\n\\nFiled 01/15/10 Page 9 of 44 Page ID #:584\\n\\n\\x0cCase 2:10-cv-03113-R -RC Document 65\\n\\nFiled 01/15/10 Page 10 of 44 Page ID #:585\\n\\n\\x0cCase 2:10-cv-03113-R -RC Document 65\\n\\nFiled 01/15/10 Page 11 of 44 Page ID #:586\\n\\n\\x0cCase 2:10-cv-03113-R -RC Document 65\\n\\nFiled 01/15/10 Page 12 of 44 Page ID #:587\\n\\n\\x0cCase 2:10-cv-03113-R -RC Document 65\\n\\nFiled 01/15/10 Page 13 of 44 Page ID #:588\\n\\n\\x0cCase 2:10-cv-03113-R -RC Document 65\\n\\nFiled 01/15/10 Page 14 of 44 Page ID #:589\\n\\n\\x0cCase 2:10-cv-03113-R -RC Document 65\\n\\nFiled 01/15/10 Page 15 of 44 Page ID #:590\\n\\n\\x0cCase 2:10-cv-03113-R -RC Document 65\\n\\nFiled 01/15/10 Page 16 of 44 Page ID #:591\\n\\n\\x0cCase 2:10-cv-03113-R -RC Document 65\\n\\nFiled 01/15/10 Page 17 of 44 Page ID #:592\\n\\n\\x0cCase 2:10-cv-03113-R -RC Document 65\\n\\nFiled 01/15/10 Page 18 of 44 Page ID #:593\\n\\n\\x0cCase 2:10-cv-03113-R -RC Document 65\\n\\nFiled 01/15/10 Page 19 of 44 Page ID #:594\\n\\n\\x0cCase 2:10-cv-03113-R -RC Document 65\\n\\nFiled 01/15/10 Page 20 of 44 Page ID #:595\\n\\n\\x0cCase 2:10-cv-03113-R -RC Document 65\\n\\nFiled 01/15/10 Page 21 of 44 Page ID #:596\\n\\n\\x0cCase 2:10-cv-03113-R -RC Document 65\\n\\nFiled 01/15/10 Page 22 of 44 Page ID #:597\\n\\n\\x0cCase 2:10-cv-03113-R -RC Document 65\\n\\nFiled 01/15/10 Page 23 of 44 Page ID #:598\\n\\n\\x0cCase 2:10-cv-03113-R -RC Document 65\\n\\nFiled 01/15/10 Page 24 of 44 Page ID #:599\\n\\n\\x0cCase 2:10-cv-03113-R -RC Document 65\\n\\nFiled 01/15/10 Page 25 of 44 Page ID #:600\\n\\n\\x0cCase 2:10-cv-03113-R -RC Document 65\\n\\nFiled 01/15/10 Page 26 of 44 Page ID #:601\\n\\n\\x0cCase 2:10-cv-03113-R -RC Document 65\\n\\nFiled 01/15/10 Page 27 of 44 Page ID #:602\\n\\n\\x0cCase 2:10-cv-03113-R -RC Document 65\\n\\nFiled 01/15/10 Page 28 of 44 Page ID #:603\\n\\n\\x0cCase 2:10-cv-03113-R -RC Document 65\\n\\nFiled 01/15/10 Page 29 of 44 Page ID #:604\\n\\n\\x0cCase 2:10-cv-03113-R -RC Document 65\\n\\nFiled 01/15/10 Page 30 of 44 Page ID #:605\\n\\n\\x0cCase 2:10-cv-03113-R -RC Document 65\\n\\nFiled 01/15/10 Page 31 of 44 Page ID #:606\\n\\n\\x0cCase 2:10-cv-03113-R -RC Document 65\\n\\nFiled 01/15/10 Page 32 of 44 Page ID #:607\\n\\n\\x0cCase 2:10-cv-03113-R -RC Document 65\\n\\nFiled 01/15/10 Page 33 of 44 Page ID #:608\\n\\n\\x0cCase 2:10-cv-03113-R -RC Document 65\\n\\nFiled 01/15/10 Page 34 of 44 Page ID #:609\\n\\n\\x0cCase 2:10-cv-03113-R -RC Document 65\\n\\nFiled 01/15/10 Page 35 of 44 Page ID #:610\\n\\n\\x0cCase 2:10-cv-03113-R -RC Document 65\\n\\nFiled 01/15/10 Page 36 of 44 Page ID #:611\\n\\n\\x0cCase 2:10-cv-03113-R -RC Document 65\\n\\nFiled 01/15/10 Page 37 of 44 Page ID #:612\\n\\n\\x0cCase 2:10-cv-03113-R -RC Document 65\\n\\nFiled 01/15/10 Page 38 of 44 Page ID #:613\\n\\n\\x0cCase 2:10-cv-03113-R -RC Document 65\\n\\nFiled 01/15/10 Page 39 of 44 Page ID #:614\\n\\n\\x0cCase 2:10-cv-03113-R -RC Document 65\\n\\nFiled 01/15/10 Page 40 of 44 Page ID #:615\\n\\n\\x0cCase 2:10-cv-03113-R -RC Document 65\\n\\nFiled 01/15/10 Page 41 of 44 Page ID #:616\\n\\n\\x0cCase 2:10-cv-03113-R -RC Document 65\\n\\nFiled 01/15/10 Page 42 of 44 Page ID #:617\\n\\n\\x0cCase 2:10-cv-03113-R -RC Document 65\\n\\nFiled 01/15/10 Page 43 of 44 Page ID #:618\\n\\n\\x0cCase 2:10-cv-03113-R -RC Document 65\\n\\nFiled 01/15/10 Page 44 of 44 Page ID #:619\\n\\n\\x0c',\n",
       "        'deny', 'test'],\n",
       "       ['-\\n\\n \\n\\noO ODO Oo YH Oo OO FSF W ND\\n\\nano on fF WD NO -\\n\\nweintraub genshlea chediak\\n\\nLAW CORPORATION\\nNO NO NO No NO NO NM i) Nh - - -\\noo ~ On on > ww NO = (c) sO co |\\n\\nCase 3:07-cv-02174-H-BLM Document 50\\n\\nCharles L. Post, State Bar No. 160443\\nThadd A. Blizzard, State Bar No. 83297\\nweintraub genshlea chediak\\n\\na law corporation\\n\\n400 Capitol Mall, 11th Floor\\nSacramento, CA 95814\\n\\n(916) 558-6000 - Main\\n\\n(916) 446-1611 - Facsimile\\n\\nEDMUND G. BROWN JR.\\n\\nAttorney General of the State of California\\nW. DEAN FREEMAN\\n\\nFELIX E. LEATHERWOOD\\n\\nSupervising Deputy Attorneys General\\nRONALD N. ITO, State Bar No. 71322\\nDIANE SPENCER SHAW, State Bar No. 73970\\nLISA W. CHAO, State Bar No. 198536\\nDeputy Attorneys General\\n\\n300 South Spring Street, Suite 1702\\n\\nLos Angeles, CA 90013\\n\\n(213) 897-2477 - Main\\n\\n(213) 897-5775 - Facsimile\\n\\nAttorneys for Defendant\\nThe California Travel and Tourism Commission\\n\\nFiled 02/08/2008 Page1of3\\n\\nUNITED STATES DISTRICT COURT\\nSOUTHERN DISTRICT OF CALIFORNIA\\n\\nMICHAEL SHAMES; GARY GRAMKOW, on\\nbehalf of themselves and on behalf of all\\npersons similarly situated,,\\n\\nPlaintiffs,\\nVs.\\n\\nTHE HERTZ CORPORATION, a Delaware\\ncorporation; DOLLAR THRIFTY\\nAUTOMOTIVE GROUP, INC., a Delaware\\ncorporation; AVIS BUDGET GROUP, INC., a\\nDelaware corporation; VANGUARD CAR\\nRENTAL USA, INC., an Oklahoma\\ncorporation; ENTERPRISE RENT-A-CAR\\nCOMPANY, a Missouri corporation; FOX\\nRENT A CAR, INC., a California corporation;\\nCOAST LEASING CORP., a Texas\\ncorporation; THE CALIFORNIA TRAVEL AND\\nvee COMMISSION and CAROLINE\\nBETETA,\\n\\nDefendants.\\n\\n \\n\\n \\n\\n{10824/16392/TAB/1015539.DOC;} ]\\n\\na\\n\\nSSeS\\n\\nCase No. 07 CV 2174 H BLM\\n[CLASS ACTION]\\n\\nDEFENDANT CALIFORNIA TRAVEL AND\\nTOURISM COMMISSION\\'S NOTICE OF\\nMOTION AND MOTION TO DISMISS\\nPLAINTIFFS\\' COMPLAINT\\n\\n(Fed. R. Civ. P. 12(b)(6)]\\n\\nDate: April 1, 2008\\nTime: 10:30 a.m.\\nPlace: Courtroom 13\\n\\nThe Honorable Marilyn L. Huff\\n\\n \\n\\nNotice of Motion and Motion to\\nDismiss Plaintiffs\\' Complaint\\n\\n \\n\\x0cweintraub genshlea chediak\\n\\nLAW CORPORATION\\n\\n-\\n\\n_\\n\\n1]\\n\\noO OmOOUNS ODO UTDLULULACUWMG 8\\n\\n \\n\\n \\n\\nCase 3:07-cv-02174-H-BLM Document50 ~~ Filed 02/08/2008 Page2of3\\n\\nTO ALL PARTIES AND TO THEIR ATTORNEYS OF RECORD:\\n\\nPLEASE TAKE NOTICE that, on April 1, 2008, at 10:30 a.m., or as soon thereafter as\\nthe matter may be heard, in Courtroom 13 of the above-entitled Court, located at 880 Front\\nStreet, No. 4290, San Diego, California 92101, defendant California Travel and Tourism |\\nCommission (\"CTTC\") will, and hereby does, move the Court for an order dismissing with\\nprejudice Plaintiffs\\' Complaint for failure to state a claim upon which relief may be granted.\\n\\nThis motion is made on the basis that CTTC is entitled to immunity from antitrust liability\\nfor any acts complained of in the Complaint as a state actor. Alternatively, the allegations in the\\nComplaint fail to satisfy the pleading standard announced in Bell Atlantic Corp. v. Twombly, -__\\nU.S. , 127 S.Ct. 1955 (2007). Alternatively, CTTC is immune from antitrust liability under\\nthe Noerr-Pennington doctrine, and Plaintiffs have suffered no injury.\\n\\nCTTC moves to dismiss the Unfair Competition Law claims on the grounds that CTTC is\\nnot a \"person\" for unfair competition purposes and is therefore not subject to suit. The untair\\ncompetition claim should also be dismissed because Plaintiffs\\' Complaint fails to allege facts\\nsufficient to establish any illegal activity on the part of CTTC on which to base an unfair\\ncompetition claim. CTTC is expressly immune from any such suit pursuant to California\\nGovernment Code section 13995.90(c). Any conduct Plaintiffs complain of was done in\\ncompliance with the California Tourism Marketing Act, California Government Code\\nsections 13995 et seq.\\n\\nCTTC moves to dismiss the third claim, alleging violations of the Bagley-Keene Open\\nMeeting Act for lack of jurisdiction since the third claim is not transactionally related to the\\nantitrust claims over which the Court has original jurisdiction. CTTC also moves to dismiss the\\nBagley-Keene Act claim. because the alleged violations are time-barred, and on comity\\nprinciples, as this is an issue best left for the California state courts, or better yet, the California\\nLegislature.\\n\\nThis motion is based upon this Notice, the accompanying Memorandum of Points and\\nAuthorities in Support of Motion to Dismiss, the Motion to Dismiss filed by the Rental Car\\n\\nDefendants on January 25, 2008, in which CTTC has joined, the Request for Judicial Notice\\n\\n \\n\\nNotice of Motion and Motion to\\n{10824/16392/TAB/1 015539.DOC;} 2 Dismiss Plaintitts\\' Complaint\\n\\n \\n\\x0cocmUlUCNUOUUCUCUCOOUCUMNS COC OOO DBC NG\\n\\nweintraub genshlea chediak\\n\\nLAW CORPORATION\\n\\n \\n\\nCase 3:07-cv-02174-H-BLM Document50_ Filed 02/08/2008 Page3of3\\n\\nfiled by the Rental Car Defendants on January 25, 2008, in which CTTC has joined, the\\npleadings and papers filed in this action, and any further evidence, testimony, or evidence as\\n\\nmay be presented at oral argument on this matter.\\n\\nDated: February 8, 2008 Respectfully submitted,\\nWEINTRAUB GENSHLEA CHEDIAK\\n\\nLaw Corporation\\n\\nBy: /s/ Thadd S. Blizzard\\nThadd S. Blizzard\\nCalifornia State Bar No. 83297\\nAttorneys for Defendant California\\nTravel and Tourism Commission\\n\\nEDMUND G. BROWN JR., Attorney General\\nof the State of California\\n\\nW. DEAN FREEMAN\\n\\nFELIX E. LEATHERWOOD\\n\\nSupervising Deputy Attorneys General\\nRONALD N. ITO\\n\\nDIANE SPENCER SHAW\\n\\nLISA W. CHAO\\n\\nDeputy Attorneys General\\n\\nBy: /s/ Ronald N. Ito\\nRonald N. Ito\\nCalifornia State Bar No. 71322\\nAttorneys for Defendant California\\nTravel and Tourism Commission\\n\\n \\n\\nNotice of Motion and Motion to\\n{10824/16392/TAB/1015539.DOC;} 3 Dismiss Plaintiffs\\' Complaint\\n\\n \\n\\x0c',\n",
       "        'grant', 'train']], dtype='<U393633')"
      ]
     },
     "execution_count": 112,
     "metadata": {},
     "output_type": "execute_result"
    }
   ],
   "source": [
    "# supports\n",
    "support_data = getSingleBriefs('support')\n",
    "oppose_data = getSingleBriefs('opposition')\n",
    "support_data"
   ]
  },
  {
   "cell_type": "code",
   "execution_count": 113,
   "metadata": {},
   "outputs": [
    {
     "data": {
      "text/plain": [
       "['pipes/both-tfidf.joblib']"
      ]
     },
     "execution_count": 113,
     "metadata": {},
     "output_type": "execute_result"
    }
   ],
   "source": [
    "# support\n",
    "\n",
    "support_x = support_data[:,0]\n",
    "support_target = support_data[:,1]\n",
    "\n",
    "train = support_data[:,2] == 'train'\n",
    "test = support_data[:,2] == 'test'\n",
    "\n",
    "support_train_x = support_x[train]\n",
    "support_train_target = support_target[train]\n",
    "support_test_x = support_x[test]\n",
    "support_test_target = support_target[test]\n",
    "\n",
    "\n",
    "# opposition\n",
    "\n",
    "oppose_x = oppose_data[:,0]\n",
    "oppose_target = oppose_data[:,1]\n",
    "\n",
    "train = oppose_data[:,2] == 'train'\n",
    "test = oppose_data[:,2] == 'test'\n",
    "\n",
    "oppose_train_x = oppose_x[train]\n",
    "oppose_train_target = oppose_target[train]\n",
    "oppose_test_x = oppose_x[test]\n",
    "oppose_test_target = oppose_target[test]\n",
    "\n",
    "\n",
    "labels = [\"grant\", \"deny\"]\n",
    "classes = {\"x\": labels, \"y\": labels}\n",
    "\n",
    "# concatenate the two oppose_x and support_x\n",
    "all_x = np.concatenate((support_train_x, oppose_train_x), axis=0)\n",
    "\n",
    "pipe = Pipeline([('count', CountVectorizer()),('tfid', TfidfTransformer())])\n",
    "\n",
    "transformed_pipe = pipe.fit(all_x)\n",
    "\n",
    "joblib.dump(transformed_pipe, 'pipes/both-tfidf.joblib')"
   ]
  },
  {
   "cell_type": "code",
   "execution_count": 121,
   "metadata": {},
   "outputs": [
    {
     "name": "stdout",
     "output_type": "stream",
     "text": [
      "SGD: 0.5709677419354838\n",
      "RFT: 0.582258064516129\n",
      "KNN: 0.5774193548387097\n",
      "Logistic: 0.5758064516129032\n"
     ]
    },
    {
     "name": "stderr",
     "output_type": "stream",
     "text": [
      "/scratchB/oqcardoso/.pyenv/versions/3.11.4/lib/python3.11/site-packages/sklearn/svm/_classes.py:31: FutureWarning: The default value of `dual` will change from `True` to `'auto'` in 1.5. Set the value of `dual` explicitly to suppress the warning.\n",
      "  warnings.warn(\n"
     ]
    },
    {
     "name": "stdout",
     "output_type": "stream",
     "text": [
      "LinearSVC: 0.5951612903225807\n"
     ]
    }
   ],
   "source": [
    "pipe = Pipeline([('count', CountVectorizer()),('tfid', TfidfTransformer())])\n",
    "\n",
    "transformed_pipe = pipe.fit(support_train_x)\n",
    "\n",
    "#save pipe for future use\n",
    "joblib.dump(transformed_pipe, 'pipes/support-tfidf.joblib')\n",
    "\n",
    "support_count_train = transformed_pipe['count'].transform(support_train_x)\n",
    "\n",
    "support_tfid_train = transformed_pipe.transform(support_train_x)\n",
    "\n",
    "support_count_test = transformed_pipe['count'].transform(support_test_x)\n",
    "\n",
    "support_tfid_test = transformed_pipe.transform(support_test_x)\n",
    "\n",
    "accuracies(support_tfid_train, support_train_target, support_tfid_test, support_test_target, feature_type='support-tfidf')\n"
   ]
  },
  {
   "cell_type": "code",
   "execution_count": 122,
   "metadata": {},
   "outputs": [
    {
     "name": "stdout",
     "output_type": "stream",
     "text": [
      "SGD: 0.9854838709677419\n",
      "RFT: 1.0\n",
      "KNN: 0.782258064516129\n",
      "Logistic: 0.9354838709677419\n"
     ]
    },
    {
     "name": "stderr",
     "output_type": "stream",
     "text": [
      "/scratchB/oqcardoso/.pyenv/versions/3.11.4/lib/python3.11/site-packages/sklearn/svm/_classes.py:31: FutureWarning: The default value of `dual` will change from `True` to `'auto'` in 1.5. Set the value of `dual` explicitly to suppress the warning.\n",
      "  warnings.warn(\n"
     ]
    },
    {
     "name": "stdout",
     "output_type": "stream",
     "text": [
      "LinearSVC: 0.9967741935483871\n"
     ]
    }
   ],
   "source": [
    "accuracies(support_tfid_test, support_test_target, support_tfid_test, support_test_target, feature_type='support-tfidf')\n"
   ]
  },
  {
   "cell_type": "code",
   "execution_count": 119,
   "metadata": {},
   "outputs": [
    {
     "name": "stdout",
     "output_type": "stream",
     "text": [
      "SGD: 0.5562130177514792\n",
      "RFT: 0.5384615384615384\n",
      "KNN: 0.5207100591715976\n",
      "Logistic: 0.5491124260355029\n"
     ]
    },
    {
     "name": "stderr",
     "output_type": "stream",
     "text": [
      "/scratchB/oqcardoso/.pyenv/versions/3.11.4/lib/python3.11/site-packages/sklearn/svm/_classes.py:31: FutureWarning: The default value of `dual` will change from `True` to `'auto'` in 1.5. Set the value of `dual` explicitly to suppress the warning.\n",
      "  warnings.warn(\n"
     ]
    },
    {
     "name": "stdout",
     "output_type": "stream",
     "text": [
      "LinearSVC: 0.5562130177514792\n"
     ]
    }
   ],
   "source": [
    "accuracies(support_tfid_test, support_test_target, support_tfid_train, support_train_target, feature_type='support-tfidf')\n"
   ]
  },
  {
   "cell_type": "code",
   "execution_count": 116,
   "metadata": {},
   "outputs": [
    {
     "name": "stdout",
     "output_type": "stream",
     "text": [
      "SGD: 0.9751479289940829\n",
      "RFT: 1.0\n",
      "KNN: 0.7988165680473372\n",
      "Logistic: 0.9550295857988166\n"
     ]
    },
    {
     "name": "stderr",
     "output_type": "stream",
     "text": [
      "/scratchB/oqcardoso/.pyenv/versions/3.11.4/lib/python3.11/site-packages/sklearn/svm/_classes.py:31: FutureWarning: The default value of `dual` will change from `True` to `'auto'` in 1.5. Set the value of `dual` explicitly to suppress the warning.\n",
      "  warnings.warn(\n"
     ]
    },
    {
     "name": "stdout",
     "output_type": "stream",
     "text": [
      "LinearSVC: 1.0\n"
     ]
    }
   ],
   "source": [
    "accuracies(support_tfid_train, support_train_target, support_tfid_train, support_train_target, feature_type='support-tfidf')\n"
   ]
  },
  {
   "cell_type": "code",
   "execution_count": 118,
   "metadata": {},
   "outputs": [
    {
     "name": "stdout",
     "output_type": "stream",
     "text": [
      "SGD: 0.9058020477815699\n",
      "RFT: 1.0\n",
      "KNN: 0.7385665529010239\n",
      "Logistic: 0.9153583617747441\n"
     ]
    },
    {
     "name": "stderr",
     "output_type": "stream",
     "text": [
      "/scratchB/oqcardoso/.pyenv/versions/3.11.4/lib/python3.11/site-packages/sklearn/svm/_classes.py:31: FutureWarning: The default value of `dual` will change from `True` to `'auto'` in 1.5. Set the value of `dual` explicitly to suppress the warning.\n",
      "  warnings.warn(\n"
     ]
    },
    {
     "name": "stdout",
     "output_type": "stream",
     "text": [
      "LinearSVC: 0.9965870307167235\n"
     ]
    }
   ],
   "source": [
    "# concatenate support_tfid_train and support_tfid_test\n",
    "support_tfidf = sparse.vstack((support_tfid_train, support_tfid_test))\n",
    "support_target = np.concatenate((support_train_target, support_test_target), axis=0)\n",
    "\n",
    "\n",
    "accuracies(support_tfidf, support_target, support_tfidf, support_target, feature_type='support-tfidf')"
   ]
  },
  {
   "cell_type": "code",
   "execution_count": null,
   "metadata": {},
   "outputs": [],
   "source": []
  },
  {
   "cell_type": "code",
   "execution_count": 7,
   "metadata": {},
   "outputs": [
    {
     "name": "stdout",
     "output_type": "stream",
     "text": [
      "SGD: 0.0\n",
      "RFT: 0.0\n",
      "KNN: 0.0\n",
      "Logistic: 0.0\n"
     ]
    },
    {
     "name": "stderr",
     "output_type": "stream",
     "text": [
      "/scratchB/oqcardoso/.pyenv/versions/3.11.4/lib/python3.11/site-packages/sklearn/svm/_classes.py:31: FutureWarning: The default value of `dual` will change from `True` to `'auto'` in 1.5. Set the value of `dual` explicitly to suppress the warning.\n",
      "  warnings.warn(\n"
     ]
    },
    {
     "name": "stdout",
     "output_type": "stream",
     "text": [
      "LinearSVC: 0.0\n"
     ]
    }
   ],
   "source": [
    "\n",
    "# opposition\n",
    "\n",
    "transformed_pipe = pipe.fit(oppose_train_x)\n",
    "\n",
    "joblib.dump(transformed_pipe, 'pipes/oppose-tfidf.joblib')\n",
    "\n",
    "oppose_count_train = transformed_pipe['count'].transform(oppose_train_x)\n",
    "\n",
    "oppose_tfid_train = transformed_pipe.transform(oppose_train_x)\n",
    "\n",
    "oppose_count_test = transformed_pipe['count'].transform(oppose_test_x)\n",
    "\n",
    "oppose_tfid_test = transformed_pipe.transform(oppose_test_x)\n",
    "\n",
    "accuracies(oppose_tfid_train, oppose_train_target, oppose_tfid_test, oppose_test_target, feature_type='opposition-tfidf')\n"
   ]
  },
  {
   "cell_type": "markdown",
   "metadata": {},
   "source": [
    "#### DONE\n",
    "\n",
    "You can explore the cells below if you want to but it is unrelated to my thesis.\n",
    "Head down towards `Embeddings`"
   ]
  },
  {
   "cell_type": "code",
   "execution_count": 14,
   "metadata": {},
   "outputs": [],
   "source": [
    "np.savetxt(\"support_train_target.csv\", support_train_target, delimiter=\",\", fmt='%s')\n",
    "np.savetxt(\"support_test_target.csv\", support_test_target, delimiter=\",\", fmt='%s')"
   ]
  },
  {
   "cell_type": "code",
   "execution_count": 15,
   "metadata": {},
   "outputs": [
    {
     "ename": "AttributeError",
     "evalue": "'numpy.ndarray' object has no attribute 'lower'",
     "output_type": "error",
     "traceback": [
      "\u001b[0;31m---------------------------------------------------------------------------\u001b[0m",
      "\u001b[0;31mAttributeError\u001b[0m                            Traceback (most recent call last)",
      "Cell \u001b[0;32mIn[15], line 9\u001b[0m\n\u001b[1;32m      1\u001b[0m text_clf \u001b[38;5;241m=\u001b[39m Pipeline([\n\u001b[1;32m      2\u001b[0m     (\u001b[38;5;124m'\u001b[39m\u001b[38;5;124mvect\u001b[39m\u001b[38;5;124m'\u001b[39m, CountVectorizer()),\n\u001b[1;32m      3\u001b[0m     (\u001b[38;5;124m'\u001b[39m\u001b[38;5;124mtfidf\u001b[39m\u001b[38;5;124m'\u001b[39m, TfidfTransformer()),\n\u001b[0;32m   (...)\u001b[0m\n\u001b[1;32m      6\u001b[0m                           max_iter\u001b[38;5;241m=\u001b[39m\u001b[38;5;241m5\u001b[39m, tol\u001b[38;5;241m=\u001b[39m\u001b[38;5;28;01mNone\u001b[39;00m)),\n\u001b[1;32m      7\u001b[0m ])\n\u001b[0;32m----> 9\u001b[0m \u001b[43mtext_clf\u001b[49m\u001b[38;5;241;43m.\u001b[39;49m\u001b[43mfit\u001b[49m\u001b[43m(\u001b[49m\u001b[43msupport_train_x\u001b[49m\u001b[43m,\u001b[49m\u001b[43m \u001b[49m\u001b[43msupport_train_target\u001b[49m\u001b[43m)\u001b[49m\n\u001b[1;32m     10\u001b[0m predicted \u001b[38;5;241m=\u001b[39m text_clf\u001b[38;5;241m.\u001b[39mpredict(support_test_x)\n\u001b[1;32m     11\u001b[0m \u001b[38;5;28mprint\u001b[39m(\u001b[38;5;124mf\u001b[39m\u001b[38;5;124m\"\u001b[39m\u001b[38;5;124maccuracy: \u001b[39m\u001b[38;5;132;01m{\u001b[39;00mnp\u001b[38;5;241m.\u001b[39mmean(predicted\u001b[38;5;250m \u001b[39m\u001b[38;5;241m==\u001b[39m\u001b[38;5;250m \u001b[39msupport_test_target)\u001b[38;5;132;01m}\u001b[39;00m\u001b[38;5;124m\"\u001b[39m)\n",
      "File \u001b[0;32m~/.pyenv/versions/3.11.4/lib/python3.11/site-packages/sklearn/base.py:1474\u001b[0m, in \u001b[0;36m_fit_context.<locals>.decorator.<locals>.wrapper\u001b[0;34m(estimator, *args, **kwargs)\u001b[0m\n\u001b[1;32m   1467\u001b[0m     estimator\u001b[38;5;241m.\u001b[39m_validate_params()\n\u001b[1;32m   1469\u001b[0m \u001b[38;5;28;01mwith\u001b[39;00m config_context(\n\u001b[1;32m   1470\u001b[0m     skip_parameter_validation\u001b[38;5;241m=\u001b[39m(\n\u001b[1;32m   1471\u001b[0m         prefer_skip_nested_validation \u001b[38;5;129;01mor\u001b[39;00m global_skip_validation\n\u001b[1;32m   1472\u001b[0m     )\n\u001b[1;32m   1473\u001b[0m ):\n\u001b[0;32m-> 1474\u001b[0m     \u001b[38;5;28;01mreturn\u001b[39;00m \u001b[43mfit_method\u001b[49m\u001b[43m(\u001b[49m\u001b[43mestimator\u001b[49m\u001b[43m,\u001b[49m\u001b[43m \u001b[49m\u001b[38;5;241;43m*\u001b[39;49m\u001b[43margs\u001b[49m\u001b[43m,\u001b[49m\u001b[43m \u001b[49m\u001b[38;5;241;43m*\u001b[39;49m\u001b[38;5;241;43m*\u001b[39;49m\u001b[43mkwargs\u001b[49m\u001b[43m)\u001b[49m\n",
      "File \u001b[0;32m~/.pyenv/versions/3.11.4/lib/python3.11/site-packages/sklearn/pipeline.py:471\u001b[0m, in \u001b[0;36mPipeline.fit\u001b[0;34m(self, X, y, **params)\u001b[0m\n\u001b[1;32m    428\u001b[0m \u001b[38;5;250m\u001b[39m\u001b[38;5;124;03m\"\"\"Fit the model.\u001b[39;00m\n\u001b[1;32m    429\u001b[0m \n\u001b[1;32m    430\u001b[0m \u001b[38;5;124;03mFit all the transformers one after the other and sequentially transform the\u001b[39;00m\n\u001b[0;32m   (...)\u001b[0m\n\u001b[1;32m    468\u001b[0m \u001b[38;5;124;03m    Pipeline with fitted steps.\u001b[39;00m\n\u001b[1;32m    469\u001b[0m \u001b[38;5;124;03m\"\"\"\u001b[39;00m\n\u001b[1;32m    470\u001b[0m routed_params \u001b[38;5;241m=\u001b[39m \u001b[38;5;28mself\u001b[39m\u001b[38;5;241m.\u001b[39m_check_method_params(method\u001b[38;5;241m=\u001b[39m\u001b[38;5;124m\"\u001b[39m\u001b[38;5;124mfit\u001b[39m\u001b[38;5;124m\"\u001b[39m, props\u001b[38;5;241m=\u001b[39mparams)\n\u001b[0;32m--> 471\u001b[0m Xt \u001b[38;5;241m=\u001b[39m \u001b[38;5;28;43mself\u001b[39;49m\u001b[38;5;241;43m.\u001b[39;49m\u001b[43m_fit\u001b[49m\u001b[43m(\u001b[49m\u001b[43mX\u001b[49m\u001b[43m,\u001b[49m\u001b[43m \u001b[49m\u001b[43my\u001b[49m\u001b[43m,\u001b[49m\u001b[43m \u001b[49m\u001b[43mrouted_params\u001b[49m\u001b[43m)\u001b[49m\n\u001b[1;32m    472\u001b[0m \u001b[38;5;28;01mwith\u001b[39;00m _print_elapsed_time(\u001b[38;5;124m\"\u001b[39m\u001b[38;5;124mPipeline\u001b[39m\u001b[38;5;124m\"\u001b[39m, \u001b[38;5;28mself\u001b[39m\u001b[38;5;241m.\u001b[39m_log_message(\u001b[38;5;28mlen\u001b[39m(\u001b[38;5;28mself\u001b[39m\u001b[38;5;241m.\u001b[39msteps) \u001b[38;5;241m-\u001b[39m \u001b[38;5;241m1\u001b[39m)):\n\u001b[1;32m    473\u001b[0m     \u001b[38;5;28;01mif\u001b[39;00m \u001b[38;5;28mself\u001b[39m\u001b[38;5;241m.\u001b[39m_final_estimator \u001b[38;5;241m!=\u001b[39m \u001b[38;5;124m\"\u001b[39m\u001b[38;5;124mpassthrough\u001b[39m\u001b[38;5;124m\"\u001b[39m:\n",
      "File \u001b[0;32m~/.pyenv/versions/3.11.4/lib/python3.11/site-packages/sklearn/pipeline.py:408\u001b[0m, in \u001b[0;36mPipeline._fit\u001b[0;34m(self, X, y, routed_params)\u001b[0m\n\u001b[1;32m    406\u001b[0m     cloned_transformer \u001b[38;5;241m=\u001b[39m clone(transformer)\n\u001b[1;32m    407\u001b[0m \u001b[38;5;66;03m# Fit or load from cache the current transformer\u001b[39;00m\n\u001b[0;32m--> 408\u001b[0m X, fitted_transformer \u001b[38;5;241m=\u001b[39m \u001b[43mfit_transform_one_cached\u001b[49m\u001b[43m(\u001b[49m\n\u001b[1;32m    409\u001b[0m \u001b[43m    \u001b[49m\u001b[43mcloned_transformer\u001b[49m\u001b[43m,\u001b[49m\n\u001b[1;32m    410\u001b[0m \u001b[43m    \u001b[49m\u001b[43mX\u001b[49m\u001b[43m,\u001b[49m\n\u001b[1;32m    411\u001b[0m \u001b[43m    \u001b[49m\u001b[43my\u001b[49m\u001b[43m,\u001b[49m\n\u001b[1;32m    412\u001b[0m \u001b[43m    \u001b[49m\u001b[38;5;28;43;01mNone\u001b[39;49;00m\u001b[43m,\u001b[49m\n\u001b[1;32m    413\u001b[0m \u001b[43m    \u001b[49m\u001b[43mmessage_clsname\u001b[49m\u001b[38;5;241;43m=\u001b[39;49m\u001b[38;5;124;43m\"\u001b[39;49m\u001b[38;5;124;43mPipeline\u001b[39;49m\u001b[38;5;124;43m\"\u001b[39;49m\u001b[43m,\u001b[49m\n\u001b[1;32m    414\u001b[0m \u001b[43m    \u001b[49m\u001b[43mmessage\u001b[49m\u001b[38;5;241;43m=\u001b[39;49m\u001b[38;5;28;43mself\u001b[39;49m\u001b[38;5;241;43m.\u001b[39;49m\u001b[43m_log_message\u001b[49m\u001b[43m(\u001b[49m\u001b[43mstep_idx\u001b[49m\u001b[43m)\u001b[49m\u001b[43m,\u001b[49m\n\u001b[1;32m    415\u001b[0m \u001b[43m    \u001b[49m\u001b[43mparams\u001b[49m\u001b[38;5;241;43m=\u001b[39;49m\u001b[43mrouted_params\u001b[49m\u001b[43m[\u001b[49m\u001b[43mname\u001b[49m\u001b[43m]\u001b[49m\u001b[43m,\u001b[49m\n\u001b[1;32m    416\u001b[0m \u001b[43m\u001b[49m\u001b[43m)\u001b[49m\n\u001b[1;32m    417\u001b[0m \u001b[38;5;66;03m# Replace the transformer of the step with the fitted\u001b[39;00m\n\u001b[1;32m    418\u001b[0m \u001b[38;5;66;03m# transformer. This is necessary when loading the transformer\u001b[39;00m\n\u001b[1;32m    419\u001b[0m \u001b[38;5;66;03m# from the cache.\u001b[39;00m\n\u001b[1;32m    420\u001b[0m \u001b[38;5;28mself\u001b[39m\u001b[38;5;241m.\u001b[39msteps[step_idx] \u001b[38;5;241m=\u001b[39m (name, fitted_transformer)\n",
      "File \u001b[0;32m~/.pyenv/versions/3.11.4/lib/python3.11/site-packages/joblib/memory.py:353\u001b[0m, in \u001b[0;36mNotMemorizedFunc.__call__\u001b[0;34m(self, *args, **kwargs)\u001b[0m\n\u001b[1;32m    352\u001b[0m \u001b[38;5;28;01mdef\u001b[39;00m \u001b[38;5;21m__call__\u001b[39m(\u001b[38;5;28mself\u001b[39m, \u001b[38;5;241m*\u001b[39margs, \u001b[38;5;241m*\u001b[39m\u001b[38;5;241m*\u001b[39mkwargs):\n\u001b[0;32m--> 353\u001b[0m     \u001b[38;5;28;01mreturn\u001b[39;00m \u001b[38;5;28;43mself\u001b[39;49m\u001b[38;5;241;43m.\u001b[39;49m\u001b[43mfunc\u001b[49m\u001b[43m(\u001b[49m\u001b[38;5;241;43m*\u001b[39;49m\u001b[43margs\u001b[49m\u001b[43m,\u001b[49m\u001b[43m \u001b[49m\u001b[38;5;241;43m*\u001b[39;49m\u001b[38;5;241;43m*\u001b[39;49m\u001b[43mkwargs\u001b[49m\u001b[43m)\u001b[49m\n",
      "File \u001b[0;32m~/.pyenv/versions/3.11.4/lib/python3.11/site-packages/sklearn/pipeline.py:1303\u001b[0m, in \u001b[0;36m_fit_transform_one\u001b[0;34m(transformer, X, y, weight, message_clsname, message, params)\u001b[0m\n\u001b[1;32m   1301\u001b[0m \u001b[38;5;28;01mwith\u001b[39;00m _print_elapsed_time(message_clsname, message):\n\u001b[1;32m   1302\u001b[0m     \u001b[38;5;28;01mif\u001b[39;00m \u001b[38;5;28mhasattr\u001b[39m(transformer, \u001b[38;5;124m\"\u001b[39m\u001b[38;5;124mfit_transform\u001b[39m\u001b[38;5;124m\"\u001b[39m):\n\u001b[0;32m-> 1303\u001b[0m         res \u001b[38;5;241m=\u001b[39m \u001b[43mtransformer\u001b[49m\u001b[38;5;241;43m.\u001b[39;49m\u001b[43mfit_transform\u001b[49m\u001b[43m(\u001b[49m\u001b[43mX\u001b[49m\u001b[43m,\u001b[49m\u001b[43m \u001b[49m\u001b[43my\u001b[49m\u001b[43m,\u001b[49m\u001b[43m \u001b[49m\u001b[38;5;241;43m*\u001b[39;49m\u001b[38;5;241;43m*\u001b[39;49m\u001b[43mparams\u001b[49m\u001b[38;5;241;43m.\u001b[39;49m\u001b[43mget\u001b[49m\u001b[43m(\u001b[49m\u001b[38;5;124;43m\"\u001b[39;49m\u001b[38;5;124;43mfit_transform\u001b[39;49m\u001b[38;5;124;43m\"\u001b[39;49m\u001b[43m,\u001b[49m\u001b[43m \u001b[49m\u001b[43m{\u001b[49m\u001b[43m}\u001b[49m\u001b[43m)\u001b[49m\u001b[43m)\u001b[49m\n\u001b[1;32m   1304\u001b[0m     \u001b[38;5;28;01melse\u001b[39;00m:\n\u001b[1;32m   1305\u001b[0m         res \u001b[38;5;241m=\u001b[39m transformer\u001b[38;5;241m.\u001b[39mfit(X, y, \u001b[38;5;241m*\u001b[39m\u001b[38;5;241m*\u001b[39mparams\u001b[38;5;241m.\u001b[39mget(\u001b[38;5;124m\"\u001b[39m\u001b[38;5;124mfit\u001b[39m\u001b[38;5;124m\"\u001b[39m, {}))\u001b[38;5;241m.\u001b[39mtransform(\n\u001b[1;32m   1306\u001b[0m             X, \u001b[38;5;241m*\u001b[39m\u001b[38;5;241m*\u001b[39mparams\u001b[38;5;241m.\u001b[39mget(\u001b[38;5;124m\"\u001b[39m\u001b[38;5;124mtransform\u001b[39m\u001b[38;5;124m\"\u001b[39m, {})\n\u001b[1;32m   1307\u001b[0m         )\n",
      "File \u001b[0;32m~/.pyenv/versions/3.11.4/lib/python3.11/site-packages/sklearn/base.py:1474\u001b[0m, in \u001b[0;36m_fit_context.<locals>.decorator.<locals>.wrapper\u001b[0;34m(estimator, *args, **kwargs)\u001b[0m\n\u001b[1;32m   1467\u001b[0m     estimator\u001b[38;5;241m.\u001b[39m_validate_params()\n\u001b[1;32m   1469\u001b[0m \u001b[38;5;28;01mwith\u001b[39;00m config_context(\n\u001b[1;32m   1470\u001b[0m     skip_parameter_validation\u001b[38;5;241m=\u001b[39m(\n\u001b[1;32m   1471\u001b[0m         prefer_skip_nested_validation \u001b[38;5;129;01mor\u001b[39;00m global_skip_validation\n\u001b[1;32m   1472\u001b[0m     )\n\u001b[1;32m   1473\u001b[0m ):\n\u001b[0;32m-> 1474\u001b[0m     \u001b[38;5;28;01mreturn\u001b[39;00m \u001b[43mfit_method\u001b[49m\u001b[43m(\u001b[49m\u001b[43mestimator\u001b[49m\u001b[43m,\u001b[49m\u001b[43m \u001b[49m\u001b[38;5;241;43m*\u001b[39;49m\u001b[43margs\u001b[49m\u001b[43m,\u001b[49m\u001b[43m \u001b[49m\u001b[38;5;241;43m*\u001b[39;49m\u001b[38;5;241;43m*\u001b[39;49m\u001b[43mkwargs\u001b[49m\u001b[43m)\u001b[49m\n",
      "File \u001b[0;32m~/.pyenv/versions/3.11.4/lib/python3.11/site-packages/sklearn/feature_extraction/text.py:1389\u001b[0m, in \u001b[0;36mCountVectorizer.fit_transform\u001b[0;34m(self, raw_documents, y)\u001b[0m\n\u001b[1;32m   1381\u001b[0m             warnings\u001b[38;5;241m.\u001b[39mwarn(\n\u001b[1;32m   1382\u001b[0m                 \u001b[38;5;124m\"\u001b[39m\u001b[38;5;124mUpper case characters found in\u001b[39m\u001b[38;5;124m\"\u001b[39m\n\u001b[1;32m   1383\u001b[0m                 \u001b[38;5;124m\"\u001b[39m\u001b[38;5;124m vocabulary while \u001b[39m\u001b[38;5;124m'\u001b[39m\u001b[38;5;124mlowercase\u001b[39m\u001b[38;5;124m'\u001b[39m\u001b[38;5;124m\"\u001b[39m\n\u001b[1;32m   1384\u001b[0m                 \u001b[38;5;124m\"\u001b[39m\u001b[38;5;124m is True. These entries will not\u001b[39m\u001b[38;5;124m\"\u001b[39m\n\u001b[1;32m   1385\u001b[0m                 \u001b[38;5;124m\"\u001b[39m\u001b[38;5;124m be matched with any documents\u001b[39m\u001b[38;5;124m\"\u001b[39m\n\u001b[1;32m   1386\u001b[0m             )\n\u001b[1;32m   1387\u001b[0m             \u001b[38;5;28;01mbreak\u001b[39;00m\n\u001b[0;32m-> 1389\u001b[0m vocabulary, X \u001b[38;5;241m=\u001b[39m \u001b[38;5;28;43mself\u001b[39;49m\u001b[38;5;241;43m.\u001b[39;49m\u001b[43m_count_vocab\u001b[49m\u001b[43m(\u001b[49m\u001b[43mraw_documents\u001b[49m\u001b[43m,\u001b[49m\u001b[43m \u001b[49m\u001b[38;5;28;43mself\u001b[39;49m\u001b[38;5;241;43m.\u001b[39;49m\u001b[43mfixed_vocabulary_\u001b[49m\u001b[43m)\u001b[49m\n\u001b[1;32m   1391\u001b[0m \u001b[38;5;28;01mif\u001b[39;00m \u001b[38;5;28mself\u001b[39m\u001b[38;5;241m.\u001b[39mbinary:\n\u001b[1;32m   1392\u001b[0m     X\u001b[38;5;241m.\u001b[39mdata\u001b[38;5;241m.\u001b[39mfill(\u001b[38;5;241m1\u001b[39m)\n",
      "File \u001b[0;32m~/.pyenv/versions/3.11.4/lib/python3.11/site-packages/sklearn/feature_extraction/text.py:1276\u001b[0m, in \u001b[0;36mCountVectorizer._count_vocab\u001b[0;34m(self, raw_documents, fixed_vocab)\u001b[0m\n\u001b[1;32m   1274\u001b[0m \u001b[38;5;28;01mfor\u001b[39;00m doc \u001b[38;5;129;01min\u001b[39;00m raw_documents:\n\u001b[1;32m   1275\u001b[0m     feature_counter \u001b[38;5;241m=\u001b[39m {}\n\u001b[0;32m-> 1276\u001b[0m     \u001b[38;5;28;01mfor\u001b[39;00m feature \u001b[38;5;129;01min\u001b[39;00m \u001b[43manalyze\u001b[49m\u001b[43m(\u001b[49m\u001b[43mdoc\u001b[49m\u001b[43m)\u001b[49m:\n\u001b[1;32m   1277\u001b[0m         \u001b[38;5;28;01mtry\u001b[39;00m:\n\u001b[1;32m   1278\u001b[0m             feature_idx \u001b[38;5;241m=\u001b[39m vocabulary[feature]\n",
      "File \u001b[0;32m~/.pyenv/versions/3.11.4/lib/python3.11/site-packages/sklearn/feature_extraction/text.py:110\u001b[0m, in \u001b[0;36m_analyze\u001b[0;34m(doc, analyzer, tokenizer, ngrams, preprocessor, decoder, stop_words)\u001b[0m\n\u001b[1;32m    108\u001b[0m \u001b[38;5;28;01melse\u001b[39;00m:\n\u001b[1;32m    109\u001b[0m     \u001b[38;5;28;01mif\u001b[39;00m preprocessor \u001b[38;5;129;01mis\u001b[39;00m \u001b[38;5;129;01mnot\u001b[39;00m \u001b[38;5;28;01mNone\u001b[39;00m:\n\u001b[0;32m--> 110\u001b[0m         doc \u001b[38;5;241m=\u001b[39m \u001b[43mpreprocessor\u001b[49m\u001b[43m(\u001b[49m\u001b[43mdoc\u001b[49m\u001b[43m)\u001b[49m\n\u001b[1;32m    111\u001b[0m     \u001b[38;5;28;01mif\u001b[39;00m tokenizer \u001b[38;5;129;01mis\u001b[39;00m \u001b[38;5;129;01mnot\u001b[39;00m \u001b[38;5;28;01mNone\u001b[39;00m:\n\u001b[1;32m    112\u001b[0m         doc \u001b[38;5;241m=\u001b[39m tokenizer(doc)\n",
      "File \u001b[0;32m~/.pyenv/versions/3.11.4/lib/python3.11/site-packages/sklearn/feature_extraction/text.py:68\u001b[0m, in \u001b[0;36m_preprocess\u001b[0;34m(doc, accent_function, lower)\u001b[0m\n\u001b[1;32m     49\u001b[0m \u001b[38;5;250m\u001b[39m\u001b[38;5;124;03m\"\"\"Chain together an optional series of text preprocessing steps to\u001b[39;00m\n\u001b[1;32m     50\u001b[0m \u001b[38;5;124;03mapply to a document.\u001b[39;00m\n\u001b[1;32m     51\u001b[0m \n\u001b[0;32m   (...)\u001b[0m\n\u001b[1;32m     65\u001b[0m \u001b[38;5;124;03m    preprocessed string\u001b[39;00m\n\u001b[1;32m     66\u001b[0m \u001b[38;5;124;03m\"\"\"\u001b[39;00m\n\u001b[1;32m     67\u001b[0m \u001b[38;5;28;01mif\u001b[39;00m lower:\n\u001b[0;32m---> 68\u001b[0m     doc \u001b[38;5;241m=\u001b[39m \u001b[43mdoc\u001b[49m\u001b[38;5;241;43m.\u001b[39;49m\u001b[43mlower\u001b[49m()\n\u001b[1;32m     69\u001b[0m \u001b[38;5;28;01mif\u001b[39;00m accent_function \u001b[38;5;129;01mis\u001b[39;00m \u001b[38;5;129;01mnot\u001b[39;00m \u001b[38;5;28;01mNone\u001b[39;00m:\n\u001b[1;32m     70\u001b[0m     doc \u001b[38;5;241m=\u001b[39m accent_function(doc)\n",
      "\u001b[0;31mAttributeError\u001b[0m: 'numpy.ndarray' object has no attribute 'lower'"
     ]
    },
    {
     "ename": "",
     "evalue": "",
     "output_type": "error",
     "traceback": [
      "\u001b[1;31mThe Kernel crashed while executing code in the current cell or a previous cell. \n",
      "\u001b[1;31mPlease review the code in the cell(s) to identify a possible cause of the failure. \n",
      "\u001b[1;31mClick <a href='https://aka.ms/vscodeJupyterKernelCrash'>here</a> for more info. \n",
      "\u001b[1;31mView Jupyter <a href='command:jupyter.viewOutput'>log</a> for further details."
     ]
    }
   ],
   "source": [
    "text_clf = Pipeline([\n",
    "    ('vect', CountVectorizer()),\n",
    "    ('tfidf', TfidfTransformer()),\n",
    "    ('clf', SGDClassifier(loss='hinge', penalty='l2',\n",
    "                          alpha=1e-3, random_state=42,\n",
    "                          max_iter=5, tol=None)),\n",
    "])\n",
    "\n",
    "text_clf.fit(support_train_x, support_train_target)\n",
    "predicted = text_clf.predict(support_test_x)\n",
    "print(f\"accuracy: {np.mean(predicted == support_test_target)}\")\n",
    "\n",
    "confusion_plot(support_test_target, predicted, classes, labels=labels, normalize=False, title=\"Linear SVM (1) Confusion Matrix\")"
   ]
  },
  {
   "cell_type": "code",
   "execution_count": 144,
   "metadata": {},
   "outputs": [
    {
     "name": "stdout",
     "output_type": "stream",
     "text": [
      "accuracy: 0.56957928802589\n"
     ]
    },
    {
     "data": {
      "image/png": "[encoded data removed]",
      "text/plain": [
       "<Figure size 1000x1000 with 2 Axes>"
      ]
     },
     "metadata": {},
     "output_type": "display_data"
    },
    {
     "data": {
      "text/plain": [
       "array([[87, 56],\n",
       "       [77, 89]])"
      ]
     },
     "execution_count": 144,
     "metadata": {},
     "output_type": "execute_result"
    }
   ],
   "source": [
    "text_clf = Pipeline([\n",
    "    ('vect', CountVectorizer()),\n",
    "    ('tfidf', TfidfTransformer()),\n",
    "    ('clf', LinearSVC( random_state=42, tol=1e-5)),\n",
    "])\n",
    "\n",
    "text_clf.fit(support_train_x, support_train_target)\n",
    "predicted = text_clf.predict(support_test_x)\n",
    "print(f\"accuracy: {np.mean(predicted == support_test_target)}\")\n",
    "\n",
    "\n",
    "confusion_plot(support_test_target, predicted, classes, labels=labels, normalize=False, title=\"Linear SVM (2) Confusion Matrix\")"
   ]
  },
  {
   "cell_type": "code",
   "execution_count": 155,
   "metadata": {},
   "outputs": [
    {
     "name": "stdout",
     "output_type": "stream",
     "text": [
      "0.5275080906148867\n"
     ]
    },
    {
     "data": {
      "image/png": "[encoded data removed]",
      "text/plain": [
       "<Figure size 1000x1000 with 2 Axes>"
      ]
     },
     "metadata": {},
     "output_type": "display_data"
    },
    {
     "data": {
      "text/plain": [
       "array([[109,  34],\n",
       "       [112,  54]])"
      ]
     },
     "execution_count": 155,
     "metadata": {},
     "output_type": "execute_result"
    }
   ],
   "source": [
    "\n",
    "text_clf = Pipeline([\n",
    "    ('vect', CountVectorizer()),\n",
    "    ('tfidf', TfidfTransformer()),\n",
    "    ('logistic',LogisticRegression(solver='liblinear')),\n",
    "])\n",
    "\n",
    "text_clf.fit(support_train_x, support_train_target)\n",
    "predicted = text_clf.predict(support_test_x)\n",
    "print(np.mean(predicted == support_test_target))\n",
    "#print(f\"probability: {text_clf.predict_proba(support_test_x)}\")\n",
    "confusion_plot(support_test_target, predicted, classes, labels=labels, normalize=False, title=\"Logistic Regression Confusion Matrix\")"
   ]
  },
  {
   "cell_type": "code",
   "execution_count": 6,
   "metadata": {},
   "outputs": [
    {
     "name": "stdout",
     "output_type": "stream",
     "text": [
      "0.5533980582524272\n"
     ]
    },
    {
     "data": {
      "image/png": "[encoded data removed]",
      "text/plain": [
       "<Figure size 1000x1000 with 2 Axes>"
      ]
     },
     "metadata": {},
     "output_type": "display_data"
    },
    {
     "data": {
      "text/plain": [
       "array([[114,  29],\n",
       "       [109,  57]])"
      ]
     },
     "execution_count": 6,
     "metadata": {},
     "output_type": "execute_result"
    }
   ],
   "source": [
    "\n",
    "text_rft = Pipeline([\n",
    "    ('vect', CountVectorizer()),\n",
    "    ('tfidf', TfidfTransformer()),\n",
    "    ('RFT', RandomForestClassifier(n_estimators = 1500, criterion = \"entropy\", oob_score = True, max_features= 1)),\n",
    "])\n",
    "\n",
    "text_rft.fit(support_train_x, support_train_target)\n",
    "predicted_rft = text_rft.predict(support_test_x)\n",
    "print(np.mean(predicted_rft == support_test_target))\n",
    "#print(f\"probability: {text_clf.predict_proba(support_test_x)}\")\n",
    "confusion_plot(support_test_target, predicted_rft, classes, labels=labels, normalize=False, title=\"RandomForestClassifier Confusion Matrix\")\n",
    "\n"
   ]
  },
  {
   "cell_type": "code",
   "execution_count": 9,
   "metadata": {},
   "outputs": [],
   "source": [
    "with open('model.pkl', 'wb') as f:  # open a text file\n",
    "    dump(text_rft, f) \n",
    "\n",
    "with open('model.pkl', 'rb') as f:\n",
    "    new_clf = load(f)"
   ]
  },
  {
   "cell_type": "code",
   "execution_count": 10,
   "metadata": {},
   "outputs": [
    {
     "name": "stdout",
     "output_type": "stream",
     "text": [
      "(array([0.55333333, 0.44666667]), 'deny')\n",
      "(array([0.49333333, 0.50666667]), 'grant')\n",
      "(array([0.408, 0.592]), 'grant')\n",
      "(array([0.53933333, 0.46066667]), 'deny')\n",
      "(array([0.51, 0.49]), 'deny')\n",
      "(array([0.478, 0.522]), 'grant')\n",
      "(array([0.49466667, 0.50533333]), 'grant')\n",
      "(array([0.52933333, 0.47066667]), 'deny')\n",
      "(array([0.47333333, 0.52666667]), 'grant')\n",
      "(array([0.448, 0.552]), 'grant')\n",
      "(array([0.466, 0.534]), 'grant')\n",
      "(array([0.42266667, 0.57733333]), 'grant')\n",
      "(array([0.446, 0.554]), 'grant')\n",
      "(array([0.45533333, 0.54466667]), 'grant')\n",
      "(array([0.39666667, 0.60333333]), 'grant')\n",
      "(array([0.53733333, 0.46266667]), 'deny')\n",
      "(array([0.45466667, 0.54533333]), 'grant')\n",
      "(array([0.44533333, 0.55466667]), 'grant')\n",
      "(array([0.51533333, 0.48466667]), 'deny')\n",
      "(array([0.43666667, 0.56333333]), 'grant')\n",
      "(array([0.42733333, 0.57266667]), 'grant')\n",
      "(array([0.26933333, 0.73066667]), 'grant')\n",
      "(array([0.538, 0.462]), 'deny')\n",
      "(array([0.37933333, 0.62066667]), 'grant')\n",
      "(array([0.47666667, 0.52333333]), 'grant')\n",
      "(array([0.45066667, 0.54933333]), 'grant')\n",
      "(array([0.39666667, 0.60333333]), 'grant')\n",
      "(array([0.46666667, 0.53333333]), 'grant')\n",
      "(array([0.372, 0.628]), 'grant')\n",
      "(array([0.48266667, 0.51733333]), 'grant')\n",
      "(array([0.50933333, 0.49066667]), 'deny')\n",
      "(array([0.53333333, 0.46666667]), 'deny')\n",
      "(array([0.544, 0.456]), 'deny')\n",
      "(array([0.49733333, 0.50266667]), 'grant')\n",
      "(array([0.44333333, 0.55666667]), 'grant')\n",
      "(array([0.48066667, 0.51933333]), 'grant')\n",
      "(array([0.38333333, 0.61666667]), 'grant')\n",
      "(array([0.44266667, 0.55733333]), 'grant')\n",
      "(array([0.49666667, 0.50333333]), 'grant')\n",
      "(array([0.48533333, 0.51466667]), 'grant')\n",
      "(array([0.39133333, 0.60866667]), 'grant')\n",
      "(array([0.47266667, 0.52733333]), 'grant')\n",
      "(array([0.47133333, 0.52866667]), 'grant')\n",
      "(array([0.40533333, 0.59466667]), 'grant')\n",
      "(array([0.49733333, 0.50266667]), 'grant')\n",
      "(array([0.454, 0.546]), 'grant')\n",
      "(array([0.55133333, 0.44866667]), 'deny')\n",
      "(array([0.47266667, 0.52733333]), 'grant')\n",
      "(array([0.47933333, 0.52066667]), 'grant')\n",
      "(array([0.45066667, 0.54933333]), 'grant')\n",
      "(array([0.50666667, 0.49333333]), 'deny')\n",
      "(array([0.416, 0.584]), 'grant')\n",
      "(array([0.452, 0.548]), 'grant')\n",
      "(array([0.52, 0.48]), 'deny')\n",
      "(array([0.462, 0.538]), 'grant')\n",
      "(array([0.45266667, 0.54733333]), 'grant')\n",
      "(array([0.63266667, 0.36733333]), 'deny')\n",
      "(array([0.488, 0.512]), 'grant')\n",
      "(array([0.45, 0.55]), 'grant')\n",
      "(array([0.496, 0.504]), 'grant')\n",
      "(array([0.45666667, 0.54333333]), 'grant')\n",
      "(array([0.45266667, 0.54733333]), 'grant')\n",
      "(array([0.51866667, 0.48133333]), 'deny')\n",
      "(array([0.49333333, 0.50666667]), 'grant')\n",
      "(array([0.49133333, 0.50866667]), 'grant')\n",
      "(array([0.428, 0.572]), 'grant')\n",
      "(array([0.49133333, 0.50866667]), 'grant')\n",
      "(array([0.36933333, 0.63066667]), 'grant')\n",
      "(array([0.51066667, 0.48933333]), 'deny')\n",
      "(array([0.14933333, 0.85066667]), 'grant')\n",
      "(array([0.528, 0.472]), 'deny')\n",
      "(array([0.52133333, 0.47866667]), 'deny')\n",
      "(array([0.45133333, 0.54866667]), 'grant')\n",
      "(array([0.54, 0.46]), 'deny')\n",
      "(array([0.46333333, 0.53666667]), 'grant')\n",
      "(array([0.48466667, 0.51533333]), 'grant')\n",
      "(array([0.47266667, 0.52733333]), 'grant')\n",
      "(array([0.488, 0.512]), 'grant')\n",
      "(array([0.47266667, 0.52733333]), 'grant')\n",
      "(array([0.46333333, 0.53666667]), 'grant')\n",
      "(array([0.52066667, 0.47933333]), 'deny')\n",
      "(array([0.44066667, 0.55933333]), 'grant')\n",
      "(array([0.46133333, 0.53866667]), 'grant')\n",
      "(array([0.606, 0.394]), 'deny')\n",
      "(array([0.49333333, 0.50666667]), 'grant')\n",
      "(array([0.50266667, 0.49733333]), 'deny')\n",
      "(array([0.378, 0.622]), 'grant')\n",
      "(array([0.51, 0.49]), 'deny')\n",
      "(array([0.514, 0.486]), 'deny')\n",
      "(array([0.356, 0.644]), 'grant')\n",
      "(array([0.51466667, 0.48533333]), 'deny')\n",
      "(array([0.49333333, 0.50666667]), 'grant')\n",
      "(array([0.52133333, 0.47866667]), 'deny')\n",
      "(array([0.49866667, 0.50133333]), 'grant')\n",
      "(array([0.50133333, 0.49866667]), 'deny')\n",
      "(array([0.47133333, 0.52866667]), 'grant')\n",
      "(array([0.44466667, 0.55533333]), 'grant')\n",
      "(array([0.51666667, 0.48333333]), 'deny')\n",
      "(array([0.464, 0.536]), 'grant')\n",
      "(array([0.46133333, 0.53866667]), 'grant')\n",
      "(array([0.47133333, 0.52866667]), 'grant')\n",
      "(array([0.43333333, 0.56666667]), 'grant')\n",
      "(array([0.48666667, 0.51333333]), 'grant')\n",
      "(array([0.43066667, 0.56933333]), 'grant')\n",
      "(array([0.432, 0.568]), 'grant')\n",
      "(array([0.40466667, 0.59533333]), 'grant')\n",
      "(array([0.52533333, 0.47466667]), 'deny')\n",
      "(array([0.472, 0.528]), 'grant')\n",
      "(array([0.44666667, 0.55333333]), 'grant')\n",
      "(array([0.506, 0.494]), 'deny')\n",
      "(array([0.50266667, 0.49733333]), 'deny')\n",
      "(array([0.50333333, 0.49666667]), 'deny')\n",
      "(array([0.49466667, 0.50533333]), 'grant')\n",
      "(array([0.52533333, 0.47466667]), 'deny')\n",
      "(array([0.46066667, 0.53933333]), 'grant')\n",
      "(array([0.462, 0.538]), 'grant')\n",
      "(array([0.47666667, 0.52333333]), 'grant')\n",
      "(array([0.492, 0.508]), 'grant')\n",
      "(array([0.25266667, 0.74733333]), 'grant')\n",
      "(array([0.48933333, 0.51066667]), 'grant')\n",
      "(array([0.474, 0.526]), 'grant')\n",
      "(array([0.47066667, 0.52933333]), 'grant')\n",
      "(array([0.42733333, 0.57266667]), 'grant')\n",
      "(array([0.436, 0.564]), 'grant')\n",
      "(array([0.53, 0.47]), 'deny')\n",
      "(array([0.54333333, 0.45666667]), 'deny')\n",
      "(array([0.35733333, 0.64266667]), 'grant')\n",
      "(array([0.43066667, 0.56933333]), 'grant')\n",
      "(array([0.46466667, 0.53533333]), 'grant')\n",
      "(array([0.48533333, 0.51466667]), 'grant')\n",
      "(array([0.47666667, 0.52333333]), 'grant')\n",
      "(array([0.44533333, 0.55466667]), 'grant')\n",
      "(array([0.434, 0.566]), 'grant')\n",
      "(array([0.444, 0.556]), 'grant')\n",
      "(array([0.43133333, 0.56866667]), 'grant')\n",
      "(array([0.49333333, 0.50666667]), 'grant')\n",
      "(array([0.53733333, 0.46266667]), 'deny')\n",
      "(array([0.406, 0.594]), 'grant')\n",
      "(array([0.506, 0.494]), 'deny')\n",
      "(array([0.50466667, 0.49533333]), 'deny')\n",
      "(array([0.48066667, 0.51933333]), 'grant')\n",
      "(array([0.476, 0.524]), 'grant')\n",
      "(array([0.504, 0.496]), 'deny')\n",
      "(array([0.58333333, 0.41666667]), 'deny')\n",
      "(array([0.52, 0.48]), 'deny')\n",
      "(array([0.47866667, 0.52133333]), 'grant')\n",
      "(array([0.474, 0.526]), 'grant')\n",
      "(array([0.50466667, 0.49533333]), 'deny')\n",
      "(array([0.43133333, 0.56866667]), 'grant')\n",
      "(array([0.468, 0.532]), 'grant')\n",
      "(array([0.41466667, 0.58533333]), 'grant')\n",
      "(array([0.502, 0.498]), 'deny')\n",
      "(array([0.49066667, 0.50933333]), 'grant')\n",
      "(array([0.526, 0.474]), 'deny')\n",
      "(array([0.39666667, 0.60333333]), 'grant')\n",
      "(array([0.408, 0.592]), 'grant')\n",
      "(array([0.43333333, 0.56666667]), 'grant')\n",
      "(array([0.38866667, 0.61133333]), 'grant')\n",
      "(array([0.536, 0.464]), 'deny')\n",
      "(array([0.47066667, 0.52933333]), 'grant')\n",
      "(array([0.498, 0.502]), 'grant')\n",
      "(array([0.51333333, 0.48666667]), 'deny')\n",
      "(array([0.47466667, 0.52533333]), 'grant')\n",
      "(array([0.51666667, 0.48333333]), 'deny')\n",
      "(array([0.41, 0.59]), 'grant')\n",
      "(array([0.42733333, 0.57266667]), 'grant')\n",
      "(array([0.498, 0.502]), 'grant')\n",
      "(array([0.47866667, 0.52133333]), 'grant')\n",
      "(array([0.37466667, 0.62533333]), 'grant')\n",
      "(array([0.48866667, 0.51133333]), 'grant')\n",
      "(array([0.46333333, 0.53666667]), 'grant')\n",
      "(array([0.53666667, 0.46333333]), 'deny')\n",
      "(array([0.42933333, 0.57066667]), 'grant')\n",
      "(array([0.63066667, 0.36933333]), 'deny')\n",
      "(array([0.486, 0.514]), 'grant')\n",
      "(array([0.50266667, 0.49733333]), 'deny')\n",
      "(array([0.502, 0.498]), 'deny')\n",
      "(array([0.50733333, 0.49266667]), 'deny')\n",
      "(array([0.48666667, 0.51333333]), 'grant')\n",
      "(array([0.486, 0.514]), 'grant')\n",
      "(array([0.51666667, 0.48333333]), 'deny')\n",
      "(array([0.464, 0.536]), 'grant')\n",
      "(array([0.396, 0.604]), 'grant')\n",
      "(array([0.48866667, 0.51133333]), 'grant')\n",
      "(array([0.43333333, 0.56666667]), 'grant')\n",
      "(array([0.47866667, 0.52133333]), 'grant')\n",
      "(array([0.42266667, 0.57733333]), 'grant')\n",
      "(array([0.53266667, 0.46733333]), 'deny')\n",
      "(array([0.47666667, 0.52333333]), 'grant')\n",
      "(array([0.46533333, 0.53466667]), 'grant')\n",
      "(array([0.48066667, 0.51933333]), 'grant')\n",
      "(array([0.47533333, 0.52466667]), 'grant')\n",
      "(array([0.47866667, 0.52133333]), 'grant')\n",
      "(array([0.53066667, 0.46933333]), 'deny')\n",
      "(array([0.49, 0.51]), 'grant')\n",
      "(array([0.47733333, 0.52266667]), 'grant')\n",
      "(array([0.518, 0.482]), 'deny')\n",
      "(array([0.492, 0.508]), 'grant')\n",
      "(array([0.41, 0.59]), 'grant')\n",
      "(array([0.454, 0.546]), 'grant')\n",
      "(array([0.51533333, 0.48466667]), 'deny')\n",
      "(array([0.538, 0.462]), 'deny')\n",
      "(array([0.52333333, 0.47666667]), 'deny')\n",
      "(array([0.47333333, 0.52666667]), 'grant')\n",
      "(array([0.48133333, 0.51866667]), 'grant')\n",
      "(array([0.462, 0.538]), 'grant')\n",
      "(array([0.492, 0.508]), 'grant')\n",
      "(array([0.53333333, 0.46666667]), 'deny')\n",
      "(array([0.52466667, 0.47533333]), 'deny')\n",
      "(array([0.50066667, 0.49933333]), 'deny')\n",
      "(array([0.43866667, 0.56133333]), 'grant')\n",
      "(array([0.456, 0.544]), 'grant')\n",
      "(array([0.454, 0.546]), 'grant')\n",
      "(array([0.654, 0.346]), 'deny')\n",
      "(array([0.476, 0.524]), 'grant')\n",
      "(array([0.41, 0.59]), 'grant')\n",
      "(array([0.46, 0.54]), 'grant')\n",
      "(array([0.474, 0.526]), 'grant')\n",
      "(array([0.51266667, 0.48733333]), 'deny')\n",
      "(array([0.46133333, 0.53866667]), 'grant')\n",
      "(array([0.50666667, 0.49333333]), 'deny')\n",
      "(array([0.66533333, 0.33466667]), 'deny')\n",
      "(array([0.456, 0.544]), 'grant')\n",
      "(array([0.47333333, 0.52666667]), 'grant')\n",
      "(array([0.49733333, 0.50266667]), 'grant')\n",
      "(array([0.476, 0.524]), 'grant')\n",
      "(array([0.29, 0.71]), 'grant')\n",
      "(array([0.448, 0.552]), 'grant')\n",
      "(array([0.51933333, 0.48066667]), 'deny')\n",
      "(array([0.49066667, 0.50933333]), 'grant')\n",
      "(array([0.508, 0.492]), 'deny')\n",
      "(array([0.37066667, 0.62933333]), 'grant')\n",
      "(array([0.47133333, 0.52866667]), 'grant')\n",
      "(array([0.41933333, 0.58066667]), 'grant')\n",
      "(array([0.444, 0.556]), 'grant')\n",
      "(array([0.51666667, 0.48333333]), 'deny')\n",
      "(array([0.43933333, 0.56066667]), 'grant')\n",
      "(array([0.494, 0.506]), 'grant')\n",
      "(array([0.44666667, 0.55333333]), 'grant')\n",
      "(array([0.43933333, 0.56066667]), 'grant')\n",
      "(array([0.49466667, 0.50533333]), 'grant')\n",
      "(array([0.45266667, 0.54733333]), 'grant')\n",
      "(array([0.52133333, 0.47866667]), 'deny')\n",
      "(array([0.49133333, 0.50866667]), 'grant')\n",
      "(array([0.458, 0.542]), 'grant')\n",
      "(array([0.442, 0.558]), 'grant')\n",
      "(array([0.42466667, 0.57533333]), 'grant')\n",
      "(array([0.476, 0.524]), 'grant')\n",
      "(array([0.53, 0.47]), 'deny')\n",
      "(array([0.52933333, 0.47066667]), 'deny')\n",
      "(array([0.42266667, 0.57733333]), 'grant')\n",
      "(array([0.46066667, 0.53933333]), 'grant')\n",
      "(array([0.474, 0.526]), 'grant')\n",
      "(array([0.476, 0.524]), 'grant')\n",
      "(array([0.47466667, 0.52533333]), 'grant')\n",
      "(array([0.47, 0.53]), 'grant')\n",
      "(array([0.43466667, 0.56533333]), 'grant')\n",
      "(array([0.51, 0.49]), 'deny')\n",
      "(array([0.6, 0.4]), 'deny')\n",
      "(array([0.42266667, 0.57733333]), 'grant')\n",
      "(array([0.46933333, 0.53066667]), 'grant')\n",
      "(array([0.47533333, 0.52466667]), 'grant')\n",
      "(array([0.46733333, 0.53266667]), 'grant')\n",
      "(array([0.418, 0.582]), 'grant')\n",
      "(array([0.406, 0.594]), 'grant')\n",
      "(array([0.42533333, 0.57466667]), 'grant')\n",
      "(array([0.46533333, 0.53466667]), 'grant')\n",
      "(array([0.482, 0.518]), 'grant')\n",
      "(array([0.37533333, 0.62466667]), 'grant')\n",
      "(array([0.42133333, 0.57866667]), 'grant')\n",
      "(array([0.44866667, 0.55133333]), 'grant')\n",
      "(array([0.49066667, 0.50933333]), 'grant')\n",
      "(array([0.348, 0.652]), 'grant')\n",
      "(array([0.44333333, 0.55666667]), 'grant')\n",
      "(array([0.47933333, 0.52066667]), 'grant')\n",
      "(array([0.444, 0.556]), 'grant')\n",
      "(array([0.50266667, 0.49733333]), 'deny')\n",
      "(array([0.46666667, 0.53333333]), 'grant')\n",
      "(array([0.45933333, 0.54066667]), 'grant')\n",
      "(array([0.464, 0.536]), 'grant')\n",
      "(array([0.46666667, 0.53333333]), 'grant')\n",
      "(array([0.41, 0.59]), 'grant')\n",
      "(array([0.51, 0.49]), 'deny')\n",
      "(array([0.44466667, 0.55533333]), 'grant')\n",
      "(array([0.49666667, 0.50333333]), 'grant')\n",
      "(array([0.454, 0.546]), 'grant')\n",
      "(array([0.46, 0.54]), 'grant')\n",
      "(array([0.41933333, 0.58066667]), 'grant')\n",
      "(array([0.49133333, 0.50866667]), 'grant')\n",
      "(array([0.58133333, 0.41866667]), 'deny')\n",
      "(array([0.64333333, 0.35666667]), 'deny')\n",
      "(array([0.562, 0.438]), 'deny')\n",
      "(array([0.53066667, 0.46933333]), 'deny')\n",
      "(array([0.38, 0.62]), 'grant')\n",
      "(array([0.44933333, 0.55066667]), 'grant')\n",
      "(array([0.468, 0.532]), 'grant')\n",
      "(array([0.51066667, 0.48933333]), 'deny')\n",
      "(array([0.57, 0.43]), 'deny')\n",
      "(array([0.47533333, 0.52466667]), 'grant')\n",
      "(array([0.504, 0.496]), 'deny')\n",
      "(array([0.502, 0.498]), 'deny')\n",
      "(array([0.496, 0.504]), 'grant')\n",
      "(array([0.412, 0.588]), 'grant')\n",
      "(array([0.42733333, 0.57266667]), 'grant')\n",
      "(array([0.48133333, 0.51866667]), 'grant')\n",
      "(array([0.508, 0.492]), 'deny')\n",
      "(array([0.46533333, 0.53466667]), 'grant')\n",
      "(array([0.51733333, 0.48266667]), 'deny')\n",
      "(array([0.49333333, 0.50666667]), 'grant')\n"
     ]
    }
   ],
   "source": [
    "for i in zip(text_rft.predict_proba(support_test_x) , text_rft.predict(support_test_x)):\n",
    "    print(i)"
   ]
  },
  {
   "cell_type": "code",
   "execution_count": 154,
   "metadata": {},
   "outputs": [
    {
     "name": "stdout",
     "output_type": "stream",
     "text": [
      " accuracy 0.540453074433657\n"
     ]
    },
    {
     "data": {
      "image/png": "[encoded data removed]",
      "text/plain": [
       "<Figure size 1000x1000 with 2 Axes>"
      ]
     },
     "metadata": {},
     "output_type": "display_data"
    },
    {
     "data": {
      "text/plain": [
       "array([[78, 65],\n",
       "       [77, 89]])"
      ]
     },
     "execution_count": 154,
     "metadata": {},
     "output_type": "execute_result"
    }
   ],
   "source": [
    "text_clf = Pipeline([\n",
    "    ('vect', CountVectorizer()),\n",
    "    ('tfidf', TfidfTransformer()),\n",
    "    ('KNN', KNeighborsClassifier()),\n",
    "])\n",
    "\n",
    "text_clf.fit(support_train_x, support_train_target)\n",
    "predicted = text_clf.predict(support_test_x)\n",
    "print(f\" accuracy {np.mean(predicted == support_test_target)}\")\n",
    "confusion_plot(support_test_target, predicted, classes, labels=labels, normalize=False, title=\"KNearest Neighbours Confusion Matrix\")\n"
   ]
  },
  {
   "cell_type": "markdown",
   "metadata": {},
   "source": [
    "### Embeddings\n",
    "\n",
    "This is th Embeddings part of the experiment. Here I train models with embeddings.\n",
    "I use Hugging faces sentence-transformers embeddinggs"
   ]
  },
  {
   "cell_type": "code",
   "execution_count": 8,
   "metadata": {},
   "outputs": [],
   "source": [
    "sentence_model = SentenceTransformer('sentence-transformers/all-MiniLM-L6-v2').to(device)\n",
    "testset['embeddings'] = \"\"\n",
    "testset['embeddings'] = testset['prompt'].map(sentence_model.encode)\n",
    "testset['embeddings']\n",
    "\n",
    "support_train_x = np.array(testset[\"embeddings\"].loc[(testset[\"brief_type\"]==\"support\") & (testset[\"data_type\"]==\"train\") ].to_list())  #  np.array(testset['file_path'].to_list())\n",
    "opposition_train_x = np.array(testset[\"embeddings\"].loc[(testset[\"brief_type\"]==\"opposition\") & (testset[\"data_type\"]==\"train\") ].to_list())  #  np.array(testset['file_path'].to_list())\n",
    "\n",
    "support_test_x = np.array(testset[\"embeddings\"].loc[(testset[\"brief_type\"]==\"support\") & (testset[\"data_type\"]==\"test\") ].to_list())  #  np.array(testset['file_path'].to_list())\n",
    "opposition_test_x = np.array(testset[\"embeddings\"].loc[(testset[\"brief_type\"]==\"opposition\") & (testset[\"data_type\"]==\"test\") ].to_list()) \n",
    "\n",
    "\n",
    "support_train_target = np.array( testset[\"completion\"].loc[(testset[\"brief_type\"]==\"support\") & (testset[\"data_type\"]==\"train\") ].to_list())  # np.array(testset['label'].to_list())\n",
    "opposition_train_target=  np.array(testset[\"completion\"].loc[(testset[\"brief_type\"]==\"opposition\") & (testset[\"data_type\"]==\"train\") ].to_list())  # np.array(testset['label'].to_list())\n",
    "\n",
    "\n",
    "support_test_target = np.array( testset[\"completion\"].loc[(testset[\"brief_type\"]==\"support\") & (testset[\"data_type\"]==\"test\") ].to_list())  # np.array(testset['label'].to_list())\n",
    "opposition_test_target =  np.array(testset[\"completion\"].loc[(testset[\"brief_type\"]==\"opposition\") & (testset[\"data_type\"]==\"test\") ].to_list()) "
   ]
  },
  {
   "cell_type": "code",
   "execution_count": 9,
   "metadata": {},
   "outputs": [
    {
     "name": "stdout",
     "output_type": "stream",
     "text": [
      "SGD: 0.0\n",
      "RFT: 0.0\n",
      "KNN: 0.0\n",
      "Logistic: 0.0\n",
      "LinearSVC: 0.0\n"
     ]
    },
    {
     "name": "stderr",
     "output_type": "stream",
     "text": [
      "/scratchB/oqcardoso/.pyenv/versions/3.11.4/lib/python3.11/site-packages/sklearn/svm/_classes.py:31: FutureWarning: The default value of `dual` will change from `True` to `'auto'` in 1.5. Set the value of `dual` explicitly to suppress the warning.\n",
      "  warnings.warn(\n"
     ]
    }
   ],
   "source": [
    "accuracies(support_train_x, support_train_target, support_test_x, support_test_target,feature_type='support-sentence_embeddings')"
   ]
  },
  {
   "cell_type": "code",
   "execution_count": 11,
   "metadata": {},
   "outputs": [
    {
     "name": "stdout",
     "output_type": "stream",
     "text": [
      "SGD: 0.0\n",
      "RFT: 0.0\n",
      "KNN: 0.0\n",
      "Logistic: 0.0\n",
      "LinearSVC: 0.0\n"
     ]
    },
    {
     "name": "stderr",
     "output_type": "stream",
     "text": [
      "/scratchB/oqcardoso/.pyenv/versions/3.11.4/lib/python3.11/site-packages/sklearn/svm/_classes.py:31: FutureWarning: The default value of `dual` will change from `True` to `'auto'` in 1.5. Set the value of `dual` explicitly to suppress the warning.\n",
      "  warnings.warn(\n"
     ]
    }
   ],
   "source": [
    "accuracies(opposition_train_x, opposition_train_target, opposition_test_x, opposition_test_target,feature_type='opposition-sentence_embeddings')"
   ]
  },
  {
   "cell_type": "markdown",
   "metadata": {},
   "source": [
    "### Combination Deep Sets"
   ]
  },
  {
   "cell_type": "markdown",
   "metadata": {},
   "source": [
    "https://github.com/dpernes/deepsets-digitsum\n",
    "\n",
    "https://github.com/manzilzaheer/DeepSets/blob/master/DigitSum/image_sum.ipynb\n",
    "\n",
    "https://paperswithcode.com/paper/deep-sets\n",
    "\n",
    "https://github.com/lucidrains/perceiver-pytorch\n",
    "\n",
    "https://www.youtube.com/watch?v=P_xeshTnPZg\n",
    "\n",
    "https://paperswithcode.com/method/set-transformer\n",
    "\n",
    "https://arxiv.org/pdf/1810.00825.pdf\n",
    "\n",
    "https://arxiv.org/abs/1910.02421\n",
    "\n",
    "https://arxiv.org/pdf/1703.06114.pdf\n",
    "\n",
    "https://huggingface.co/docs/transformers/model_doc/perceiver\n",
    "\n",
    "https://www.youtube.com/watch?v=Xe7VT8-kDzg\n",
    "\n",
    "https://github.com/krasserm/perceiver-io\n",
    "\n",
    "https://www.youtube.com/watch?v=YBkOILybiNo\n",
    "\n",
    "https://www.youtube.com/watch?v=9ymIqU4XnhY\n",
    "\n",
    "https://paperswithcode.com/paper/set-transformer-a-framework-for-attention#code\n",
    "\n",
    "https://www.inference.vc/deepsets-modeling-permutation-invariance/\n",
    "\n",
    "https://medium.com/@albertoarrigoni/paper-review-code-deep-sets-5f87d335f16f\n",
    "\n",
    "https://medium.com/@albertoarrigoni/paper-review-code-set-transformer-b9750e5c3fdb\n",
    "\n",
    "https://www.youtube.com/watch?v=wTZ3o36lXoQ&t=199s"
   ]
  },
  {
   "cell_type": "markdown",
   "metadata": {},
   "source": []
  }
 ],
 "metadata": {
  "kernelspec": {
   "display_name": "venv",
   "language": "python",
   "name": "python3"
  },
  "language_info": {
   "codemirror_mode": {
    "name": "ipython",
    "version": 3
   },
   "file_extension": ".py",
   "mimetype": "text/x-python",
   "name": "python",
   "nbconvert_exporter": "python",
   "pygments_lexer": "ipython3",
   "version": "3.11.4"
  },
  "orig_nbformat": 4
 },
 "nbformat": 4,
 "nbformat_minor": 2
}
